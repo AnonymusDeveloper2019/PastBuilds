{
 "cells": [
  {
   "cell_type": "code",
   "execution_count": 1,
   "metadata": {
    "collapsed": true
   },
   "outputs": [],
   "source": [
    "import csv\n",
    "import pandas as pd\n",
    "import matplotlib.pyplot as plt\n",
    "import re\n",
    "import hashlib\n",
    "import numpy as np\n",
    "from matplotlib import rc\n",
    "from ProjectAnalysis import ProjectAnalysis"
   ]
  },
  {
   "cell_type": "code",
   "execution_count": 2,
   "metadata": {
    "collapsed": true
   },
   "outputs": [],
   "source": [
    "common_errors = [\n",
    "    ('NO_POM_ERROR','can\\'t read pom.xml: No such file or directory'),\n",
    "    ('JAVA_ERROR','error: cannot find symbol'),\n",
    "    ('JAVA_ERROR','error: (.+)\\n(.+)'),\n",
    "    ('GOAL_ERROR','Failed to execute goal org.apache.maven.plugins:maven-compiler-plugin'),\n",
    "    ('GOAL_ERROR','Failed to execute goal .*')\n",
    "]\n",
    "pa = ProjectAnalysis(\"Math\",  \"../Math/step_1/%s\", \"report_step_1.csv\")"
   ]
  },
  {
   "cell_type": "code",
   "execution_count": 3,
   "metadata": {},
   "outputs": [
    {
     "data": {
      "text/html": [
       "<div>\n",
       "<style>\n",
       "    .dataframe thead tr:only-child th {\n",
       "        text-align: right;\n",
       "    }\n",
       "\n",
       "    .dataframe thead th {\n",
       "        text-align: left;\n",
       "    }\n",
       "\n",
       "    .dataframe tbody tr th {\n",
       "        vertical-align: top;\n",
       "    }\n",
       "</style>\n",
       "<table border=\"1\" class=\"dataframe\">\n",
       "  <thead>\n",
       "    <tr style=\"text-align: right;\">\n",
       "      <th></th>\n",
       "      <th>id</th>\n",
       "      <th>commit</th>\n",
       "      <th>build</th>\n",
       "      <th>exec_time</th>\n",
       "      <th>comment</th>\n",
       "      <th>fix</th>\n",
       "    </tr>\n",
       "  </thead>\n",
       "  <tbody>\n",
       "    <tr>\n",
       "      <th>0</th>\n",
       "      <td>0</td>\n",
       "      <td>0da657a</td>\n",
       "      <td>SUCCESS</td>\n",
       "      <td>40.0</td>\n",
       "      <td>[MATH-996] Fix creation of Fraction/BigFractio...</td>\n",
       "      <td>{}</td>\n",
       "    </tr>\n",
       "    <tr>\n",
       "      <th>1</th>\n",
       "      <td>1</td>\n",
       "      <td>1780da7</td>\n",
       "      <td>SUCCESS</td>\n",
       "      <td>18.0</td>\n",
       "      <td>Added Thorsten Schaefer to contributors.</td>\n",
       "      <td>{}</td>\n",
       "    </tr>\n",
       "    <tr>\n",
       "      <th>2</th>\n",
       "      <td>2</td>\n",
       "      <td>3815732</td>\n",
       "      <td>SUCCESS</td>\n",
       "      <td>18.0</td>\n",
       "      <td>Fix change message.</td>\n",
       "      <td>{}</td>\n",
       "    </tr>\n",
       "    <tr>\n",
       "      <th>3</th>\n",
       "      <td>3</td>\n",
       "      <td>8dc518b</td>\n",
       "      <td>SUCCESS</td>\n",
       "      <td>18.0</td>\n",
       "      <td>[MATH-1028] Added new distance metric EarthMov...</td>\n",
       "      <td>{}</td>\n",
       "    </tr>\n",
       "    <tr>\n",
       "      <th>4</th>\n",
       "      <td>4</td>\n",
       "      <td>8a71be7</td>\n",
       "      <td>SUCCESS</td>\n",
       "      <td>17.0</td>\n",
       "      <td>Fix Id tags.</td>\n",
       "      <td>{}</td>\n",
       "    </tr>\n",
       "  </tbody>\n",
       "</table>\n",
       "</div>"
      ],
      "text/plain": [
       "   id   commit    build  exec_time  \\\n",
       "0   0  0da657a  SUCCESS       40.0   \n",
       "1   1  1780da7  SUCCESS       18.0   \n",
       "2   2  3815732  SUCCESS       18.0   \n",
       "3   3  8dc518b  SUCCESS       18.0   \n",
       "4   4  8a71be7  SUCCESS       17.0   \n",
       "\n",
       "                                             comment fix  \n",
       "0  [MATH-996] Fix creation of Fraction/BigFractio...  {}  \n",
       "1           Added Thorsten Schaefer to contributors.  {}  \n",
       "2                                Fix change message.  {}  \n",
       "3  [MATH-1028] Added new distance metric EarthMov...  {}  \n",
       "4                                       Fix Id tags.  {}  "
      ]
     },
     "execution_count": 3,
     "metadata": {},
     "output_type": "execute_result"
    }
   ],
   "source": [
    "pa.df().head()"
   ]
  },
  {
   "cell_type": "markdown",
   "metadata": {},
   "source": [
    "## Calculamos el número de builds de cada tipo"
   ]
  },
  {
   "cell_type": "code",
   "execution_count": 4,
   "metadata": {},
   "outputs": [
    {
     "data": {
      "text/plain": [
       "id           3858\n",
       "commit       3858\n",
       "build        3858\n",
       "exec_time    3858\n",
       "comment      3858\n",
       "fix          3858\n",
       "dtype: int64"
      ]
     },
     "execution_count": 4,
     "metadata": {},
     "output_type": "execute_result"
    }
   ],
   "source": [
    "pa.df()[(pa.df()['build'] == 'SUCCESS')].count()"
   ]
  },
  {
   "cell_type": "code",
   "execution_count": 5,
   "metadata": {},
   "outputs": [
    {
     "data": {
      "text/plain": [
       "id           1020\n",
       "commit       1020\n",
       "build        1020\n",
       "exec_time    1020\n",
       "comment      1020\n",
       "fix          1020\n",
       "dtype: int64"
      ]
     },
     "execution_count": 5,
     "metadata": {},
     "output_type": "execute_result"
    }
   ],
   "source": [
    "pa.df()[(pa.df()['build'] == 'FAIL')].count()"
   ]
  },
  {
   "cell_type": "code",
   "execution_count": 6,
   "metadata": {},
   "outputs": [
    {
     "data": {
      "image/png": "[encoded data removed]",
      "text/plain": [
       "<matplotlib.figure.Figure at 0x7fa1e0658a58>"
      ]
     },
     "metadata": {},
     "output_type": "display_data"
    }
   ],
   "source": [
    "pa.plot_and_save_histogram(300)"
   ]
  },
  {
   "cell_type": "markdown",
   "metadata": {},
   "source": [
    "## Recogemos todos los fails, los separamos en grupos y obtenemos los logs de cada commit con build fail"
   ]
  },
  {
   "cell_type": "code",
   "execution_count": 7,
   "metadata": {
    "collapsed": true
   },
   "outputs": [],
   "source": [
    "fails, groups_of_fails = pa.get_fails_and_grouped_fails()"
   ]
  },
  {
   "cell_type": "markdown",
   "metadata": {},
   "source": [
    "## Agrupamos los commits por sus logs"
   ]
  },
  {
   "cell_type": "code",
   "execution_count": 8,
   "metadata": {
    "collapsed": true
   },
   "outputs": [],
   "source": [
    "errors = pa.group_errors_by_log(fails, common_errors)"
   ]
  },
  {
   "cell_type": "code",
   "execution_count": 9,
   "metadata": {},
   "outputs": [
    {
     "data": {
      "text/html": [
       "<div>\n",
       "<style>\n",
       "    .dataframe thead tr:only-child th {\n",
       "        text-align: right;\n",
       "    }\n",
       "\n",
       "    .dataframe thead th {\n",
       "        text-align: left;\n",
       "    }\n",
       "\n",
       "    .dataframe tbody tr th {\n",
       "        vertical-align: top;\n",
       "    }\n",
       "</style>\n",
       "<table border=\"1\" class=\"dataframe\">\n",
       "  <thead>\n",
       "    <tr style=\"text-align: right;\">\n",
       "      <th></th>\n",
       "      <th>count</th>\n",
       "    </tr>\n",
       "    <tr>\n",
       "      <th>type</th>\n",
       "      <th></th>\n",
       "    </tr>\n",
       "  </thead>\n",
       "  <tbody>\n",
       "    <tr>\n",
       "      <th>GOAL_ERROR</th>\n",
       "      <td>107</td>\n",
       "    </tr>\n",
       "    <tr>\n",
       "      <th>JAVA_ERROR</th>\n",
       "      <td>47</td>\n",
       "    </tr>\n",
       "    <tr>\n",
       "      <th>NO_POM_ERROR</th>\n",
       "      <td>866</td>\n",
       "    </tr>\n",
       "  </tbody>\n",
       "</table>\n",
       "</div>"
      ],
      "text/plain": [
       "              count\n",
       "type               \n",
       "GOAL_ERROR      107\n",
       "JAVA_ERROR       47\n",
       "NO_POM_ERROR    866"
      ]
     },
     "execution_count": 9,
     "metadata": {},
     "output_type": "execute_result"
    }
   ],
   "source": [
    "df = pd.DataFrame.from_dict(errors, orient='index')\n",
    "df.groupby(['type']).agg({'count': 'sum'})"
   ]
  },
  {
   "cell_type": "code",
   "execution_count": 10,
   "metadata": {},
   "outputs": [
    {
     "data": {
      "text/html": [
       "<div>\n",
       "<style>\n",
       "    .dataframe thead tr:only-child th {\n",
       "        text-align: right;\n",
       "    }\n",
       "\n",
       "    .dataframe thead th {\n",
       "        text-align: left;\n",
       "    }\n",
       "\n",
       "    .dataframe tbody tr th {\n",
       "        vertical-align: top;\n",
       "    }\n",
       "</style>\n",
       "<table border=\"1\" class=\"dataframe\">\n",
       "  <thead>\n",
       "    <tr style=\"text-align: right;\">\n",
       "      <th></th>\n",
       "      <th></th>\n",
       "      <th></th>\n",
       "      <th>count</th>\n",
       "    </tr>\n",
       "    <tr>\n",
       "      <th>key</th>\n",
       "      <th>type</th>\n",
       "      <th>message</th>\n",
       "      <th></th>\n",
       "    </tr>\n",
       "  </thead>\n",
       "  <tbody>\n",
       "    <tr>\n",
       "      <th>8b2b44943a6d491ed4a37fdae7d112d4</th>\n",
       "      <th>NO_POM_ERROR</th>\n",
       "      <th>can't read pom.xml: No such file or directory</th>\n",
       "      <td>866</td>\n",
       "    </tr>\n",
       "    <tr>\n",
       "      <th>bbbe96be1a3170c4650e5d43b245657f</th>\n",
       "      <th>GOAL_ERROR</th>\n",
       "      <th>Failed to execute goal org.jacoco:jacoco-maven-plugin:0.6.3.201306030806:check (check) on project commons-math3: The parameters 'rules' for goal org.jacoco:jacoco-maven-plugin:0.6.3.201306030806:check are missing or invalid -&gt; [Help 1]</th>\n",
       "      <td>52</td>\n",
       "    </tr>\n",
       "    <tr>\n",
       "      <th>9c7b3c7ef3a0f7d854015b629e8fe10e</th>\n",
       "      <th>GOAL_ERROR</th>\n",
       "      <th>Failed to execute goal org.codehaus.mojo:cobertura-maven-plugin:2.7:check (default) on project commons-math: The parameters 'check' for goal org.codehaus.mojo:cobertura-maven-plugin:2.7:check are missing or invalid -&gt; [Help 1]</th>\n",
       "      <td>43</td>\n",
       "    </tr>\n",
       "    <tr>\n",
       "      <th>66eb9f223332d42c2ae312408c746f11</th>\n",
       "      <th>JAVA_ERROR</th>\n",
       "      <th>error: cannot find symbol</th>\n",
       "      <td>28</td>\n",
       "    </tr>\n",
       "    <tr>\n",
       "      <th>515863b0649a6f58ee42e47fdebbff00</th>\n",
       "      <th>GOAL_ERROR</th>\n",
       "      <th>Failed to execute goal org.apache.maven.plugins:maven-compiler-plugin</th>\n",
       "      <td>10</td>\n",
       "    </tr>\n",
       "    <tr>\n",
       "      <th>caefa5dbe1abd0ff1e28d137755970ea</th>\n",
       "      <th>JAVA_ERROR</th>\n",
       "      <th>error: no suitable method found for reinitialize(double,double[],RealMatrix) [ERROR]</th>\n",
       "      <td>4</td>\n",
       "    </tr>\n",
       "    <tr>\n",
       "      <th>076cb6b826e1eb8932f23ea7486cfe6c</th>\n",
       "      <th>JAVA_ERROR</th>\n",
       "      <th>error: data has private access in ArrayFieldVector [ERROR] /home/ubuntu/bugs/projects/Math/src/main/java/org/apache/commons/math3/linear/FieldLUDecomposition.java:[350,54] error: data has private access in ArrayFieldVector</th>\n",
       "      <td>2</td>\n",
       "    </tr>\n",
       "    <tr>\n",
       "      <th>342df816d9597de73516b2dcb1c17d49</th>\n",
       "      <th>JAVA_ERROR</th>\n",
       "      <th>error: cannot assign a value to final variable entries [ERROR] -&gt; [Help 1]</th>\n",
       "      <td>2</td>\n",
       "    </tr>\n",
       "    <tr>\n",
       "      <th>46be7059ab142c66d8b5e36e0073e00e</th>\n",
       "      <th>JAVA_ERROR</th>\n",
       "      <th>error: name clash: extractField(FieldElement&lt;? extends FieldElement&lt;?&gt;&gt;[][]) in FieldMatrixImpl and &lt;T&gt;extractField(T[][]) in AbstractFieldMatrix have the same erasure, yet neither hides the other [ERROR]</th>\n",
       "      <td>2</td>\n",
       "    </tr>\n",
       "    <tr>\n",
       "      <th>9d07f0c5f90f7dd4db2c568b755d062f</th>\n",
       "      <th>JAVA_ERROR</th>\n",
       "      <th>error: SparseRealMatrix is not abstract and does not override abstract method multiplyEntry(int,int,double) in AbstractRealMatrix [ERROR] -&gt; [Help 1]</th>\n",
       "      <td>2</td>\n",
       "    </tr>\n",
       "    <tr>\n",
       "      <th>99dd818c456e205bc0733fe337b06947</th>\n",
       "      <th>JAVA_ERROR</th>\n",
       "      <th>error: LUDecompositionImpl is not abstract and does not override abstract method getSolver() in LUDecomposition [ERROR] -&gt; [Help 1]</th>\n",
       "      <td>2</td>\n",
       "    </tr>\n",
       "    <tr>\n",
       "      <th>a1647a198ec186652d662c2179f1670a</th>\n",
       "      <th>JAVA_ERROR</th>\n",
       "      <th>error: incompatible types: RealMatrix cannot be converted to Array2DRowRealMatrix [ERROR]</th>\n",
       "      <td>1</td>\n",
       "    </tr>\n",
       "    <tr>\n",
       "      <th>8ce618dc3d74516c3c42c8f1c1603f79</th>\n",
       "      <th>GOAL_ERROR</th>\n",
       "      <th>Failed to execute goal org.codehaus.mojo:cobertura-maven-plugin:2.0:check (default) on project commons-math: Coverage check failed. See messages above. -&gt; [Help 1]</th>\n",
       "      <td>1</td>\n",
       "    </tr>\n",
       "    <tr>\n",
       "      <th>94dc52b9e7121fa28b34bfab60c2b1f8</th>\n",
       "      <th>JAVA_ERROR</th>\n",
       "      <th>error: incompatible types: NordsieckStepInterpolator cannot be converted to MultistepStepInterpolator [ERROR] -&gt; [Help 1]</th>\n",
       "      <td>1</td>\n",
       "    </tr>\n",
       "    <tr>\n",
       "      <th>2c75e4fa5aad4319ac473c43b3092e8c</th>\n",
       "      <th>JAVA_ERROR</th>\n",
       "      <th>error: DormandPrince54StepInterpolator is not abstract and does not override abstract method computeInterpolatedStateAndDerivatives(double,double) in AbstractStepInterpolator [ERROR]</th>\n",
       "      <td>1</td>\n",
       "    </tr>\n",
       "    <tr>\n",
       "      <th>7280ec94ab3fea773d86799defb099ef</th>\n",
       "      <th>JAVA_ERROR</th>\n",
       "      <th>error: Solver is not abstract and does not override abstract method solve(double[]) in DecompositionSolver [ERROR] -&gt; [Help 1]</th>\n",
       "      <td>1</td>\n",
       "    </tr>\n",
       "    <tr>\n",
       "      <th>6ca3cfacdaaa25d4df9ecb4ac99b9551</th>\n",
       "      <th>GOAL_ERROR</th>\n",
       "      <th>Failed to execute goal org.codehaus.mojo:clirr-maven-plugin:2.0:check (default) on project commons-math: There were 152 errors. -&gt; [Help 1]</th>\n",
       "      <td>1</td>\n",
       "    </tr>\n",
       "    <tr>\n",
       "      <th>e13d1fd82ef574edf742f5e688080542</th>\n",
       "      <th>JAVA_ERROR</th>\n",
       "      <th>error: OLSMultipleLinearRegression is not abstract and does not override abstract method calculateBeta() in AbstractMultipleLinearRegression [ERROR]</th>\n",
       "      <td>1</td>\n",
       "    </tr>\n",
       "  </tbody>\n",
       "</table>\n",
       "</div>"
      ],
      "text/plain": [
       "                                                                                                  count\n",
       "key                              type         message                                                  \n",
       "8b2b44943a6d491ed4a37fdae7d112d4 NO_POM_ERROR can't read pom.xml: No such file or directory         866\n",
       "bbbe96be1a3170c4650e5d43b245657f GOAL_ERROR   Failed to execute goal org.jacoco:jacoco-maven-...     52\n",
       "9c7b3c7ef3a0f7d854015b629e8fe10e GOAL_ERROR   Failed to execute goal org.codehaus.mojo:cobert...     43\n",
       "66eb9f223332d42c2ae312408c746f11 JAVA_ERROR   error: cannot find symbol                              28\n",
       "515863b0649a6f58ee42e47fdebbff00 GOAL_ERROR   Failed to execute goal org.apache.maven.plugins...     10\n",
       "caefa5dbe1abd0ff1e28d137755970ea JAVA_ERROR   error: no suitable method found for reinitializ...      4\n",
       "076cb6b826e1eb8932f23ea7486cfe6c JAVA_ERROR   error: data has private access in ArrayFieldVec...      2\n",
       "342df816d9597de73516b2dcb1c17d49 JAVA_ERROR   error: cannot assign a value to final variable ...      2\n",
       "46be7059ab142c66d8b5e36e0073e00e JAVA_ERROR   error: name clash: extractField(FieldElement<? ...      2\n",
       "9d07f0c5f90f7dd4db2c568b755d062f JAVA_ERROR   error: SparseRealMatrix is not abstract and doe...      2\n",
       "99dd818c456e205bc0733fe337b06947 JAVA_ERROR   error: LUDecompositionImpl is not abstract and ...      2\n",
       "a1647a198ec186652d662c2179f1670a JAVA_ERROR   error: incompatible types: RealMatrix cannot be...      1\n",
       "8ce618dc3d74516c3c42c8f1c1603f79 GOAL_ERROR   Failed to execute goal org.codehaus.mojo:cobert...      1\n",
       "94dc52b9e7121fa28b34bfab60c2b1f8 JAVA_ERROR   error: incompatible types: NordsieckStepInterpo...      1\n",
       "2c75e4fa5aad4319ac473c43b3092e8c JAVA_ERROR   error: DormandPrince54StepInterpolator is not a...      1\n",
       "7280ec94ab3fea773d86799defb099ef JAVA_ERROR   error: Solver is not abstract and does not over...      1\n",
       "6ca3cfacdaaa25d4df9ecb4ac99b9551 GOAL_ERROR   Failed to execute goal org.codehaus.mojo:clirr-...      1\n",
       "e13d1fd82ef574edf742f5e688080542 JAVA_ERROR   error: OLSMultipleLinearRegression is not abstr...      1"
      ]
     },
     "execution_count": 10,
     "metadata": {},
     "output_type": "execute_result"
    }
   ],
   "source": [
    "df.groupby(['key','type','message']).agg({'count': 'sum'}).sort_values(by=['count'], ascending=False)"
   ]
  },
  {
   "cell_type": "code",
   "execution_count": 11,
   "metadata": {},
   "outputs": [
    {
     "data": {
      "text/plain": [
       "\"[INFO] Scanning for projects...\\n[WARNING] \\n[WARNING] Some problems were encountered while building the effective model for commons-math:commons-math:jar:1.2-SNAPSHOT\\n[WARNING] 'build.plugins.plugin.version' for org.apache.maven.plugins:maven-compiler-plugin is missing. @ org.apache.commons:commons-parent:1, /home/ubuntu/.m2/repository/org/apache/commons/commons-parent/1/commons-parent-1.pom, line 83, column 15\\n[WARNING] 'build.plugins.plugin.version' for org.apache.maven.plugins:maven-surefire-plugin is missing. @ line 192, column 17\\n[WARNING] 'build.plugins.plugin.version' for org.apache.maven.plugins:maven-idea-plugin is missing. @ org.apache.commons:commons-parent:1, /home/ubuntu/.m2/repository/org/apache/commons/commons-parent/1/commons-parent-1.pom, line 90, column 15\\n[WARNING] \\n[WARNING] It is highly recommended to fix these problems because they threaten the stability of your build.\\n[WARNING] \\n[WARNING] For this reason, future Maven versions might no longer support building such malformed projects.\\n[WARNING] \\n[INFO]                                                                         \\n[INFO] ------------------------------------------------------------------------\\n[INFO] Building Lang 1.2-SNAPSHOT\\n[INFO] ------------------------------------------------------------------------\\n[INFO] \\n[INFO] --- maven-antrun-plugin:1.7:run (default) @ commons-math ---\\n[WARNING] Parameter tasks is deprecated, use target instead\\n[INFO] Executing tasks\\n\\nmain:\\n     [copy] Copying 2 files to /home/ubuntu/bugs/projects/Math/target/classes/META-INF\\n[INFO] Executed tasks\\n[INFO] \\n[INFO] --- maven-resources-plugin:2.6:resources (default-resources) @ commons-math ---\\n[WARNING] Using platform encoding (ANSI_X3.4-1968 actually) to copy filtered resources, i.e. build is platform dependent!\\n[INFO] Copying 2 resources to META-INF\\n[INFO] \\n[INFO] --- maven-compiler-plugin:3.2:compile (default-compile) @ commons-math ---\\n[INFO] Changes detected - recompiling the module!\\n[WARNING] File encoding has not been set, using platform encoding ANSI_X3.4-1968, i.e. build is platform dependent!\\n[INFO] Compiling 212 source files to /home/ubuntu/bugs/projects/Math/target/classes\\n[INFO] /home/ubuntu/bugs/projects/Math/src/java/org/apache/commons/math/ode/SwitchingFunctionsHandler.java: Some input files use unchecked or unsafe operations.\\n[INFO] /home/ubuntu/bugs/projects/Math/src/java/org/apache/commons/math/ode/SwitchingFunctionsHandler.java: Recompile with -Xlint:unchecked for details.\\n[INFO] -------------------------------------------------------------\\n[ERROR] COMPILATION ERROR : \\n[INFO] -------------------------------------------------------------\\n[ERROR] /home/ubuntu/bugs/projects/Math/src/java/org/apache/commons/math/optimization/DirectSearchOptimizer.java:[25,38] cannot find symbol\\n  symbol:   class CorrelatedRandomVectorGenerator\\n  location: package org.apache.commons.math.random\\n[ERROR] /home/ubuntu/bugs/projects/Math/src/java/org/apache/commons/math/optimization/DirectSearchOptimizer.java:[258,21] cannot find symbol\\n  symbol:   class CorrelatedRandomVectorGenerator\\n  location: class org.apache.commons.math.optimization.DirectSearchOptimizer\\n[INFO] 2 errors \\n[INFO] -------------------------------------------------------------\\n[INFO] ------------------------------------------------------------------------\\n[INFO] BUILD FAILURE\\n[INFO] ------------------------------------------------------------------------\\n[INFO] Total time: 3.928 s\\n[INFO] Finished at: 2019-01-15T03:08:48+00:00\\n[INFO] Final Memory: 16M/283M\\n[INFO] ------------------------------------------------------------------------\\n[ERROR] Failed to execute goal org.apache.maven.plugins:maven-compiler-plugin:3.2:compile (default-compile) on project commons-math: Compilation failure: Compilation failure:\\n[ERROR] /home/ubuntu/bugs/projects/Math/src/java/org/apache/commons/math/optimization/DirectSearchOptimizer.java:[25,38] cannot find symbol\\n[ERROR] symbol:   class CorrelatedRandomVectorGenerator\\n[ERROR] location: package org.apache.commons.math.random\\n[ERROR] /home/ubuntu/bugs/projects/Math/src/java/org/apache/commons/math/optimization/DirectSearchOptimizer.java:[258,21] cannot find symbol\\n[ERROR] symbol:   class CorrelatedRandomVectorGenerator\\n[ERROR] location: class org.apache.commons.math.optimization.DirectSearchOptimizer\\n[ERROR] -> [Help 1]\\n[ERROR] \\n[ERROR] To see the full stack trace of the errors, re-run Maven with the -e switch.\\n[ERROR] Re-run Maven using the -X switch to enable full debug logging.\\n[ERROR] \\n[ERROR] For more information about the errors and possible solutions, please read the following articles:\\n[ERROR] [Help 1] http://cwiki.apache.org/confluence/display/MAVEN/MojoFailureException\\n\""
      ]
     },
     "execution_count": 11,
     "metadata": {},
     "output_type": "execute_result"
    }
   ],
   "source": [
    "pa.view_log_by_hash(errors,'515863b0649a6f58ee42e47fdebbff00', 0)"
   ]
  },
  {
   "cell_type": "code",
   "execution_count": 12,
   "metadata": {},
   "outputs": [
    {
     "name": "stdout",
     "output_type": "stream",
     "text": [
      "Saved at '../Math/step_1/success_commits.txt'\n"
     ]
    }
   ],
   "source": [
    "pa.save_success_commits()"
   ]
  }
 ],
 "metadata": {
  "kernelspec": {
   "display_name": "Python 3",
   "language": "python",
   "name": "python3"
  },
  "language_info": {
   "codemirror_mode": {
    "name": "ipython",
    "version": 3
   },
   "file_extension": ".py",
   "mimetype": "text/x-python",
   "name": "python",
   "nbconvert_exporter": "python",
   "pygments_lexer": "ipython3",
   "version": "3.6.2"
  }
 },
 "nbformat": 4,
 "nbformat_minor": 2
}
