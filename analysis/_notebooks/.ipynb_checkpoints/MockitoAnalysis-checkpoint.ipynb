{
 "cells": [
  {
   "cell_type": "code",
   "execution_count": 1,
   "metadata": {
    "collapsed": true
   },
   "outputs": [],
   "source": [
    "import csv\n",
    "import pandas as pd\n",
    "import matplotlib.pyplot as plt\n",
    "import re\n",
    "import hashlib\n",
    "import numpy as np\n",
    "from matplotlib import rc\n",
    "from ProjectAnalysis import ProjectAnalysis"
   ]
  },
  {
   "cell_type": "code",
   "execution_count": 2,
   "metadata": {
    "collapsed": true
   },
   "outputs": [],
   "source": [
    "common_errors = [\n",
    "    ('NO_GRADLE_ERROR','gradlew: No such file or directory'),\n",
    "    ('GRADLE_ERROR','can\\'t read buildSrc/build.gradle: No such file or directory'),\n",
    "    ('EXCEPTION_ERROR','Exception in thread (.+)'),\n",
    "    ('TASK_ERROR', 'Execution failed for task (.+)'),\n",
    "    ('GRADLE_ERROR','A problem occurred evaluating script'),\n",
    "    ('CLASS_ERROR','unable to resolve class (.+)'),\n",
    "]\n",
    "pa = ProjectAnalysis(\"Mockito\",  \"../Mockito/step_1/%s\", \"report_step_1.csv\")"
   ]
  },
  {
   "cell_type": "code",
   "execution_count": 3,
   "metadata": {},
   "outputs": [
    {
     "data": {
      "text/html": [
       "<div>\n",
       "<style>\n",
       "    .dataframe thead tr:only-child th {\n",
       "        text-align: right;\n",
       "    }\n",
       "\n",
       "    .dataframe thead th {\n",
       "        text-align: left;\n",
       "    }\n",
       "\n",
       "    .dataframe tbody tr th {\n",
       "        vertical-align: top;\n",
       "    }\n",
       "</style>\n",
       "<table border=\"1\" class=\"dataframe\">\n",
       "  <thead>\n",
       "    <tr style=\"text-align: right;\">\n",
       "      <th></th>\n",
       "      <th>id</th>\n",
       "      <th>commit</th>\n",
       "      <th>build</th>\n",
       "      <th>exec_time</th>\n",
       "      <th>comment</th>\n",
       "      <th>fix</th>\n",
       "    </tr>\n",
       "  </thead>\n",
       "  <tbody>\n",
       "    <tr>\n",
       "      <th>0</th>\n",
       "      <td>0</td>\n",
       "      <td>4e9d76078</td>\n",
       "      <td>SUCCESS</td>\n",
       "      <td>13</td>\n",
       "      <td>Fixes #188 : attempt to implement logic for va...</td>\n",
       "      <td>{}</td>\n",
       "    </tr>\n",
       "    <tr>\n",
       "      <th>1</th>\n",
       "      <td>1</td>\n",
       "      <td>837fd054a</td>\n",
       "      <td>SUCCESS</td>\n",
       "      <td>7</td>\n",
       "      <td>Fixes #188 : logic reverted to state when Mock...</td>\n",
       "      <td>{}</td>\n",
       "    </tr>\n",
       "    <tr>\n",
       "      <th>2</th>\n",
       "      <td>2</td>\n",
       "      <td>144e32d26</td>\n",
       "      <td>SUCCESS</td>\n",
       "      <td>6</td>\n",
       "      <td>Fixes #188 : added test that revealed bug.</td>\n",
       "      <td>{}</td>\n",
       "    </tr>\n",
       "    <tr>\n",
       "      <th>3</th>\n",
       "      <td>3</td>\n",
       "      <td>41b184237</td>\n",
       "      <td>SUCCESS</td>\n",
       "      <td>7</td>\n",
       "      <td>Fixes #188 : Cleaned CapturingArgumentsTest a ...</td>\n",
       "      <td>{}</td>\n",
       "    </tr>\n",
       "    <tr>\n",
       "      <th>4</th>\n",
       "      <td>4</td>\n",
       "      <td>0cd01b9d9</td>\n",
       "      <td>SUCCESS</td>\n",
       "      <td>6</td>\n",
       "      <td>Merge pull request #219 from SimenB/gitattributes</td>\n",
       "      <td>{}</td>\n",
       "    </tr>\n",
       "  </tbody>\n",
       "</table>\n",
       "</div>"
      ],
      "text/plain": [
       "   id     commit    build  exec_time  \\\n",
       "0   0  4e9d76078  SUCCESS         13   \n",
       "1   1  837fd054a  SUCCESS          7   \n",
       "2   2  144e32d26  SUCCESS          6   \n",
       "3   3  41b184237  SUCCESS          7   \n",
       "4   4  0cd01b9d9  SUCCESS          6   \n",
       "\n",
       "                                             comment fix  \n",
       "0  Fixes #188 : attempt to implement logic for va...  {}  \n",
       "1  Fixes #188 : logic reverted to state when Mock...  {}  \n",
       "2         Fixes #188 : added test that revealed bug.  {}  \n",
       "3  Fixes #188 : Cleaned CapturingArgumentsTest a ...  {}  \n",
       "4  Merge pull request #219 from SimenB/gitattributes  {}  "
      ]
     },
     "execution_count": 3,
     "metadata": {},
     "output_type": "execute_result"
    }
   ],
   "source": [
    "pa.df().head()"
   ]
  },
  {
   "cell_type": "markdown",
   "metadata": {},
   "source": [
    "## Calculamos el número de builds de cada tipo"
   ]
  },
  {
   "cell_type": "code",
   "execution_count": 4,
   "metadata": {},
   "outputs": [
    {
     "data": {
      "text/plain": [
       "id           302\n",
       "commit       302\n",
       "build        302\n",
       "exec_time    302\n",
       "comment      302\n",
       "fix          302\n",
       "dtype: int64"
      ]
     },
     "execution_count": 4,
     "metadata": {},
     "output_type": "execute_result"
    }
   ],
   "source": [
    "pa.df()[(pa.df()['build'] == 'SUCCESS')].count()"
   ]
  },
  {
   "cell_type": "code",
   "execution_count": 5,
   "metadata": {},
   "outputs": [
    {
     "data": {
      "text/plain": [
       "id           2337\n",
       "commit       2337\n",
       "build        2337\n",
       "exec_time    2337\n",
       "comment      2337\n",
       "fix          2337\n",
       "dtype: int64"
      ]
     },
     "execution_count": 5,
     "metadata": {},
     "output_type": "execute_result"
    }
   ],
   "source": [
    "pa.df()[(pa.df()['build'] == 'FAIL')].count()"
   ]
  },
  {
   "cell_type": "code",
   "execution_count": 6,
   "metadata": {},
   "outputs": [
    {
     "data": {
      "image/png": "[encoded data removed]",
      "text/plain": [
       "<matplotlib.figure.Figure at 0x7f07f4659cc0>"
      ]
     },
     "metadata": {},
     "output_type": "display_data"
    }
   ],
   "source": [
    "pa.plot_and_save_histogram(300)"
   ]
  },
  {
   "cell_type": "markdown",
   "metadata": {},
   "source": [
    "## Recogemos todos los fails, los separamos en grupos y obtenemos los logs de cada commit con build fail"
   ]
  },
  {
   "cell_type": "code",
   "execution_count": 7,
   "metadata": {
    "collapsed": true
   },
   "outputs": [],
   "source": [
    "fails, groups_of_fails = pa.get_fails_and_grouped_fails()"
   ]
  },
  {
   "cell_type": "markdown",
   "metadata": {},
   "source": [
    "## Agrupamos los commits por sus logs"
   ]
  },
  {
   "cell_type": "code",
   "execution_count": 8,
   "metadata": {
    "collapsed": true
   },
   "outputs": [],
   "source": [
    "errors = pa.group_errors_by_log(fails, common_errors)"
   ]
  },
  {
   "cell_type": "code",
   "execution_count": 9,
   "metadata": {},
   "outputs": [
    {
     "data": {
      "text/html": [
       "<div>\n",
       "<style>\n",
       "    .dataframe thead tr:only-child th {\n",
       "        text-align: right;\n",
       "    }\n",
       "\n",
       "    .dataframe thead th {\n",
       "        text-align: left;\n",
       "    }\n",
       "\n",
       "    .dataframe tbody tr th {\n",
       "        vertical-align: top;\n",
       "    }\n",
       "</style>\n",
       "<table border=\"1\" class=\"dataframe\">\n",
       "  <thead>\n",
       "    <tr style=\"text-align: right;\">\n",
       "      <th></th>\n",
       "      <th>count</th>\n",
       "    </tr>\n",
       "    <tr>\n",
       "      <th>type</th>\n",
       "      <th></th>\n",
       "    </tr>\n",
       "  </thead>\n",
       "  <tbody>\n",
       "    <tr>\n",
       "      <th>CLASS_ERROR</th>\n",
       "      <td>1</td>\n",
       "    </tr>\n",
       "    <tr>\n",
       "      <th>EXCEPTION_ERROR</th>\n",
       "      <td>186</td>\n",
       "    </tr>\n",
       "    <tr>\n",
       "      <th>GRADLE_ERROR</th>\n",
       "      <td>448</td>\n",
       "    </tr>\n",
       "    <tr>\n",
       "      <th>NO_GRADLE_ERROR</th>\n",
       "      <td>1622</td>\n",
       "    </tr>\n",
       "    <tr>\n",
       "      <th>TASK_ERROR</th>\n",
       "      <td>80</td>\n",
       "    </tr>\n",
       "  </tbody>\n",
       "</table>\n",
       "</div>"
      ],
      "text/plain": [
       "                 count\n",
       "type                  \n",
       "CLASS_ERROR          1\n",
       "EXCEPTION_ERROR    186\n",
       "GRADLE_ERROR       448\n",
       "NO_GRADLE_ERROR   1622\n",
       "TASK_ERROR          80"
      ]
     },
     "execution_count": 9,
     "metadata": {},
     "output_type": "execute_result"
    }
   ],
   "source": [
    "df = pd.DataFrame.from_dict(errors, orient='index')\n",
    "df.groupby(['type']).agg({'count': 'sum'})"
   ]
  },
  {
   "cell_type": "code",
   "execution_count": 10,
   "metadata": {},
   "outputs": [
    {
     "data": {
      "text/html": [
       "<div>\n",
       "<style>\n",
       "    .dataframe thead tr:only-child th {\n",
       "        text-align: right;\n",
       "    }\n",
       "\n",
       "    .dataframe thead th {\n",
       "        text-align: left;\n",
       "    }\n",
       "\n",
       "    .dataframe tbody tr th {\n",
       "        vertical-align: top;\n",
       "    }\n",
       "</style>\n",
       "<table border=\"1\" class=\"dataframe\">\n",
       "  <thead>\n",
       "    <tr style=\"text-align: right;\">\n",
       "      <th></th>\n",
       "      <th></th>\n",
       "      <th></th>\n",
       "      <th>count</th>\n",
       "    </tr>\n",
       "    <tr>\n",
       "      <th>key</th>\n",
       "      <th>type</th>\n",
       "      <th>message</th>\n",
       "      <th></th>\n",
       "    </tr>\n",
       "  </thead>\n",
       "  <tbody>\n",
       "    <tr>\n",
       "      <th>ccdb01712ea99a72ad11e3dc5e165303</th>\n",
       "      <th>NO_GRADLE_ERROR</th>\n",
       "      <th>gradlew: No such file or directory</th>\n",
       "      <td>1622</td>\n",
       "    </tr>\n",
       "    <tr>\n",
       "      <th>a254ff36f6608af906c6b5e4e7ddb8b4</th>\n",
       "      <th>GRADLE_ERROR</th>\n",
       "      <th>can't read buildSrc/build.gradle: No such file or directory</th>\n",
       "      <td>440</td>\n",
       "    </tr>\n",
       "    <tr>\n",
       "      <th>36f2c71ae2ca2af256ff2e485d5e5fe6</th>\n",
       "      <th>EXCEPTION_ERROR</th>\n",
       "      <th>Exception in thread \"main\" java.lang.RuntimeException: javax.net.ssl.SSLException: java.security.ProviderException: java.security.InvalidKeyException: EC parameters error</th>\n",
       "      <td>186</td>\n",
       "    </tr>\n",
       "    <tr>\n",
       "      <th>3166870b49504cf437af4cf28e11332c</th>\n",
       "      <th>TASK_ERROR</th>\n",
       "      <th>Execution failed for task ':test'.</th>\n",
       "      <td>65</td>\n",
       "    </tr>\n",
       "    <tr>\n",
       "      <th>098ead58f0bd73e77a451fb1bd00bb1e</th>\n",
       "      <th>TASK_ERROR</th>\n",
       "      <th>Execution failed for task ':compileTestGroovy'.</th>\n",
       "      <td>11</td>\n",
       "    </tr>\n",
       "    <tr>\n",
       "      <th>0594fdf03d8d3863dea449a3cd757a1b</th>\n",
       "      <th>GRADLE_ERROR</th>\n",
       "      <th>A problem occurred evaluating script</th>\n",
       "      <td>8</td>\n",
       "    </tr>\n",
       "    <tr>\n",
       "      <th>6d7118d1d7d09430772279885001c4d5</th>\n",
       "      <th>TASK_ERROR</th>\n",
       "      <th>Execution failed for task ':compileGroovy'.</th>\n",
       "      <td>4</td>\n",
       "    </tr>\n",
       "    <tr>\n",
       "      <th>f9d727cb95f73cbd20ee6fd3ef6714aa</th>\n",
       "      <th>CLASS_ERROR</th>\n",
       "      <th>unable to resolve class ReleaseNotesServices</th>\n",
       "      <td>1</td>\n",
       "    </tr>\n",
       "  </tbody>\n",
       "</table>\n",
       "</div>"
      ],
      "text/plain": [
       "                                                                                                     count\n",
       "key                              type            message                                                  \n",
       "ccdb01712ea99a72ad11e3dc5e165303 NO_GRADLE_ERROR gradlew: No such file or directory                   1622\n",
       "a254ff36f6608af906c6b5e4e7ddb8b4 GRADLE_ERROR    can't read buildSrc/build.gradle: No such file ...    440\n",
       "36f2c71ae2ca2af256ff2e485d5e5fe6 EXCEPTION_ERROR Exception in thread \"main\" java.lang.RuntimeExc...    186\n",
       "3166870b49504cf437af4cf28e11332c TASK_ERROR      Execution failed for task ':test'.                     65\n",
       "098ead58f0bd73e77a451fb1bd00bb1e TASK_ERROR      Execution failed for task ':compileTestGroovy'.        11\n",
       "0594fdf03d8d3863dea449a3cd757a1b GRADLE_ERROR    A problem occurred evaluating script                    8\n",
       "6d7118d1d7d09430772279885001c4d5 TASK_ERROR      Execution failed for task ':compileGroovy'.             4\n",
       "f9d727cb95f73cbd20ee6fd3ef6714aa CLASS_ERROR     unable to resolve class ReleaseNotesServices            1"
      ]
     },
     "execution_count": 10,
     "metadata": {},
     "output_type": "execute_result"
    }
   ],
   "source": [
    "df.groupby(['key','type','message']).agg({'count': 'sum'}).sort_values(by=['count'], ascending=False)"
   ]
  },
  {
   "cell_type": "code",
   "execution_count": 11,
   "metadata": {},
   "outputs": [
    {
     "data": {
      "text/plain": [
       "\"Parallel execution is an incubating feature.\\n:buildSrc:clean UP-TO-DATE\\n:buildSrc:compileJava UP-TO-DATE\\n:buildSrc:compileGroovy/home/michel/Investigacion/bugs/projects/Mockito/buildSrc/src/main/groovy/org/mockito/release/notes/exec/Exec.java:8: error: cannot find symbol\\n        return new DefaultProcessRunner(workDir);\\n                   ^\\n  symbol:   class DefaultProcessRunner\\n  location: class Exec\\nNote: /home/michel/Investigacion/bugs/projects/Mockito/buildSrc/src/main/groovy/org/mockito/release/comparison/ZipCompare.java uses unchecked or unsafe operations.\\nNote: Recompile with -Xlint:unchecked for details.\\n1 error\\nstartup failed:\\nCompilation failed; see the compiler error output for details.\\n\\n1 error\\n\\n FAILED\\n\\nFAILURE: Build failed with an exception.\\n\\n* What went wrong:\\nExecution failed for task ':compileGroovy'.\\n> Compilation failed; see the compiler error output for details.\\n\\n* Try:\\nRun with --stacktrace option to get the stack trace. Run with --info or --debug option to get more log output.\\n\\nBUILD FAILED\\n\\nTotal time: 2.07 secs\\n\""
      ]
     },
     "execution_count": 11,
     "metadata": {},
     "output_type": "execute_result"
    }
   ],
   "source": [
    "pa.view_log_by_hash(errors,'6d7118d1d7d09430772279885001c4d5', 0)"
   ]
  },
  {
   "cell_type": "code",
   "execution_count": 12,
   "metadata": {},
   "outputs": [
    {
     "name": "stdout",
     "output_type": "stream",
     "text": [
      "Saved at '../Mockito/step_1/success_commits.txt'\n"
     ]
    }
   ],
   "source": [
    "pa.save_success_commits()"
   ]
  }
 ],
 "metadata": {
  "kernelspec": {
   "display_name": "Python 3",
   "language": "python",
   "name": "python3"
  },
  "language_info": {
   "codemirror_mode": {
    "name": "ipython",
    "version": 3
   },
   "file_extension": ".py",
   "mimetype": "text/x-python",
   "name": "python",
   "nbconvert_exporter": "python",
   "pygments_lexer": "ipython3",
   "version": "3.6.2"
  }
 },
 "nbformat": 4,
 "nbformat_minor": 2
}
