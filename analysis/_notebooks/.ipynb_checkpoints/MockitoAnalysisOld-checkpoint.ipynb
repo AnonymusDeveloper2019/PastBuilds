{
 "cells": [
  {
   "cell_type": "code",
   "execution_count": 1,
   "metadata": {
    "collapsed": true
   },
   "outputs": [],
   "source": [
    "import csv\n",
    "import pandas as pd\n",
    "import matplotlib.pyplot as plt\n",
    "import re\n",
    "import hashlib\n",
    "import numpy as np"
   ]
  },
  {
   "cell_type": "code",
   "execution_count": 2,
   "metadata": {},
   "outputs": [
    {
     "data": {
      "text/html": [
       "<div>\n",
       "<style>\n",
       "    .dataframe thead tr:only-child th {\n",
       "        text-align: right;\n",
       "    }\n",
       "\n",
       "    .dataframe thead th {\n",
       "        text-align: left;\n",
       "    }\n",
       "\n",
       "    .dataframe tbody tr th {\n",
       "        vertical-align: top;\n",
       "    }\n",
       "</style>\n",
       "<table border=\"1\" class=\"dataframe\">\n",
       "  <thead>\n",
       "    <tr style=\"text-align: right;\">\n",
       "      <th></th>\n",
       "      <th>id</th>\n",
       "      <th>commit</th>\n",
       "      <th>build</th>\n",
       "      <th>exec_time</th>\n",
       "      <th>comment</th>\n",
       "      <th>fix</th>\n",
       "    </tr>\n",
       "  </thead>\n",
       "  <tbody>\n",
       "    <tr>\n",
       "      <th>0</th>\n",
       "      <td>0</td>\n",
       "      <td>4e9d76078</td>\n",
       "      <td>SUCCESS</td>\n",
       "      <td>13</td>\n",
       "      <td>Fixes #188 : attempt to implement logic for va...</td>\n",
       "      <td>{}</td>\n",
       "    </tr>\n",
       "    <tr>\n",
       "      <th>1</th>\n",
       "      <td>1</td>\n",
       "      <td>837fd054a</td>\n",
       "      <td>SUCCESS</td>\n",
       "      <td>7</td>\n",
       "      <td>Fixes #188 : logic reverted to state when Mock...</td>\n",
       "      <td>{}</td>\n",
       "    </tr>\n",
       "    <tr>\n",
       "      <th>2</th>\n",
       "      <td>2</td>\n",
       "      <td>144e32d26</td>\n",
       "      <td>SUCCESS</td>\n",
       "      <td>6</td>\n",
       "      <td>Fixes #188 : added test that revealed bug.</td>\n",
       "      <td>{}</td>\n",
       "    </tr>\n",
       "    <tr>\n",
       "      <th>3</th>\n",
       "      <td>3</td>\n",
       "      <td>41b184237</td>\n",
       "      <td>SUCCESS</td>\n",
       "      <td>7</td>\n",
       "      <td>Fixes #188 : Cleaned CapturingArgumentsTest a ...</td>\n",
       "      <td>{}</td>\n",
       "    </tr>\n",
       "    <tr>\n",
       "      <th>4</th>\n",
       "      <td>4</td>\n",
       "      <td>0cd01b9d9</td>\n",
       "      <td>SUCCESS</td>\n",
       "      <td>6</td>\n",
       "      <td>Merge pull request #219 from SimenB/gitattributes</td>\n",
       "      <td>{}</td>\n",
       "    </tr>\n",
       "  </tbody>\n",
       "</table>\n",
       "</div>"
      ],
      "text/plain": [
       "   id     commit    build  exec_time  \\\n",
       "0   0  4e9d76078  SUCCESS         13   \n",
       "1   1  837fd054a  SUCCESS          7   \n",
       "2   2  144e32d26  SUCCESS          6   \n",
       "3   3  41b184237  SUCCESS          7   \n",
       "4   4  0cd01b9d9  SUCCESS          6   \n",
       "\n",
       "                                             comment fix  \n",
       "0  Fixes #188 : attempt to implement logic for va...  {}  \n",
       "1  Fixes #188 : logic reverted to state when Mock...  {}  \n",
       "2         Fixes #188 : added test that revealed bug.  {}  \n",
       "3  Fixes #188 : Cleaned CapturingArgumentsTest a ...  {}  \n",
       "4  Merge pull request #219 from SimenB/gitattributes  {}  "
      ]
     },
     "execution_count": 2,
     "metadata": {},
     "output_type": "execute_result"
    }
   ],
   "source": [
    "project=\"Mockito\"\n",
    "path = \"../Mockito/step_1/%s\"\n",
    "data = pd.read_csv(path%\"report_step_1.csv\")\n",
    "data.head()"
   ]
  },
  {
   "cell_type": "markdown",
   "metadata": {},
   "source": [
    "## Calculamos el número de builds de cada tipo"
   ]
  },
  {
   "cell_type": "code",
   "execution_count": 3,
   "metadata": {},
   "outputs": [
    {
     "data": {
      "text/plain": [
       "id           302\n",
       "commit       302\n",
       "build        302\n",
       "exec_time    302\n",
       "comment      302\n",
       "fix          302\n",
       "dtype: int64"
      ]
     },
     "execution_count": 3,
     "metadata": {},
     "output_type": "execute_result"
    }
   ],
   "source": [
    "data[(data['build'] == 'SUCCESS')].count()"
   ]
  },
  {
   "cell_type": "code",
   "execution_count": 4,
   "metadata": {},
   "outputs": [
    {
     "data": {
      "text/plain": [
       "id           2337\n",
       "commit       2337\n",
       "build        2337\n",
       "exec_time    2337\n",
       "comment      2337\n",
       "fix          2337\n",
       "dtype: int64"
      ]
     },
     "execution_count": 4,
     "metadata": {},
     "output_type": "execute_result"
    }
   ],
   "source": [
    "data[(data['build'] == 'FAIL')].count()"
   ]
  },
  {
   "cell_type": "code",
   "execution_count": 5,
   "metadata": {},
   "outputs": [
    {
     "data": {
      "image/png": "[encoded data removed]",
      "text/plain": [
       "<matplotlib.figure.Figure at 0x7f15cbb79d30>"
      ]
     },
     "metadata": {},
     "output_type": "display_data"
    }
   ],
   "source": [
    "def plot_histogram(total_commits, jump, limit, title):\n",
    "    fails_list=[]\n",
    "    success_list=[]\n",
    "    for index, row in data.iterrows():\n",
    "        if row['build'] == \"SUCCESS\":\n",
    "            success_list.append(len(data)-row['id']-1)\n",
    "        else:\n",
    "            fails_list.append(len(data)-row['id']-1)\n",
    "\n",
    "    bins = np.arange(0,total_commits,jump)\n",
    "    \n",
    "    \n",
    "\n",
    "    fig, ax = plt.subplots(figsize=(16, 4))\n",
    "    _, bins, patches = plt.hist([np.clip(success_list, bins[0], bins[-1]),\n",
    "                                 np.clip(fails_list, bins[0], bins[-1])],\n",
    "                                #normed=1,  # normed is deprecated; replace with density\n",
    "                                stacked=True,\n",
    "                                #density=True,\n",
    "                                bins=bins, color=['#4b8869', '#a82e2e'], label=['SUCCESS', 'FAIL'])\n",
    "    \n",
    "    xlabels = bins[1:].astype(str)\n",
    "    xlabels[-1] += '+'\n",
    "    \n",
    "    #ax.set_xlabel(\"Commits from beginning of project to last commit\")\n",
    "    plt.xticks(rotation=45)\n",
    "\n",
    "    N_labels = len(xlabels)\n",
    "    \n",
    "    plt.xticks(jump * np.arange(N_labels) + jump/2)\n",
    "    ax.set_xticklabels(xlabels)\n",
    "\n",
    "    plt.yticks([])\n",
    "    \n",
    "    #plt.title(title, fontsize=20)\n",
    "    plt.setp(patches, linewidth=0)\n",
    "    plt.legend(loc='upper left', prop={'size': 18})\n",
    "\n",
    "    fig.tight_layout()\n",
    "    plt.xlim([0, limit])\n",
    "    plt.ylim([0, jump])\n",
    "    plt.tick_params(axis='both', labelsize=12)\n",
    "    \n",
    "    plt.savefig(path%('%sHist.png'%project))\n",
    "    plt.show()\n",
    "plot_histogram(3100,300,2700, \"Commit status history in Mockito project\")"
   ]
  },
  {
   "cell_type": "markdown",
   "metadata": {},
   "source": [
    "## Recogemos todos los fails y los separamos en grupos"
   ]
  },
  {
   "cell_type": "code",
   "execution_count": 6,
   "metadata": {
    "collapsed": true
   },
   "outputs": [],
   "source": [
    "import csv\n",
    "\n",
    "with open(path%\"report_step_1.csv\") as csvfile:\n",
    "    reader = csv.DictReader(csvfile)\n",
    "    csvDict = dict()\n",
    "    for row in reader:\n",
    "        csvDict[row['commit']] = row"
   ]
  },
  {
   "cell_type": "code",
   "execution_count": 7,
   "metadata": {
    "collapsed": true
   },
   "outputs": [],
   "source": [
    "groups_of_fails = []\n",
    "fails = []\n",
    "current_group = []\n",
    "for k,v in csvDict.items():\n",
    "    if v['build'] == \"SUCCESS\" and len(current_group)>0:\n",
    "        groups_of_fails.append(current_group)\n",
    "        current_group = []\n",
    "    if v['build'] == \"FAIL\":\n",
    "        current_group.append(v)\n",
    "        fails.append(v)\n",
    "if len(current_group)>0:\n",
    "    groups_of_fails.append(current_group)"
   ]
  },
  {
   "cell_type": "code",
   "execution_count": 8,
   "metadata": {
    "collapsed": true
   },
   "outputs": [],
   "source": [
    "moreThan100 = []\n",
    "for g in groups_of_fails:\n",
    "    if len(g) > 100:\n",
    "        moreThan100.append(g)"
   ]
  },
  {
   "cell_type": "code",
   "execution_count": 9,
   "metadata": {
    "scrolled": true
   },
   "outputs": [
    {
     "data": {
      "text/plain": [
       "10"
      ]
     },
     "execution_count": 9,
     "metadata": {},
     "output_type": "execute_result"
    }
   ],
   "source": [
    "len(groups_of_fails)"
   ]
  },
  {
   "cell_type": "markdown",
   "metadata": {},
   "source": [
    "## Obtenemos los logs de cada commit con build fail"
   ]
  },
  {
   "cell_type": "code",
   "execution_count": 10,
   "metadata": {
    "collapsed": true
   },
   "outputs": [],
   "source": [
    "for fail in fails:\n",
    "    with open(path%\"logs/%s-%s.log\"%(fail['id'], fail['commit'])) as f: \n",
    "        r_data = f.read()\n",
    "        fail['log'] = r_data"
   ]
  },
  {
   "cell_type": "markdown",
   "metadata": {},
   "source": [
    "## Agrupamos los commits por sus logs"
   ]
  },
  {
   "cell_type": "code",
   "execution_count": 11,
   "metadata": {
    "collapsed": true
   },
   "outputs": [],
   "source": [
    "def cleanLog(text):\n",
    "    return text.replace('\\n', ' ').replace('\\t', ' ')"
   ]
  },
  {
   "cell_type": "code",
   "execution_count": 12,
   "metadata": {
    "collapsed": true
   },
   "outputs": [],
   "source": [
    "errors=dict()\n",
    "def addError(error_type, error_text, commit):\n",
    "    hash_object = hashlib.md5(error_text.encode())\n",
    "    hash_key = hash_object.hexdigest()\n",
    "    if hash_key in errors:\n",
    "        errors[hash_key]['count'] +=1\n",
    "        errors[hash_key]['commits'].append(commit)\n",
    "    else:\n",
    "        errors[hash_key] = {\n",
    "            'key': hash_key,\n",
    "            'type': error_type,\n",
    "            'message': cleanLog(error_text),\n",
    "            'commits': [commit],\n",
    "            'count': 1\n",
    "        }\n",
    "    "
   ]
  },
  {
   "cell_type": "code",
   "execution_count": 13,
   "metadata": {
    "collapsed": true
   },
   "outputs": [],
   "source": [
    "for fail in fails:\n",
    "    \n",
    "    detected = False\n",
    "        \n",
    "    for gradle_error in re.finditer('gradlew: No such file or directory', fail['log']):\n",
    "        addError(\"NO_GRADLE_ERROR\", gradle_error.group(0), fail['commit'])\n",
    "        detected = True\n",
    "        break\n",
    "    if detected: continue\n",
    "        \n",
    "    for gradle_error in re.finditer('can\\'t read buildSrc/build.gradle: No such file or directory', fail['log']):\n",
    "        addError(\"GRADLE_ERROR\", gradle_error.group(0), fail['commit'])\n",
    "        detected = True\n",
    "        break\n",
    "    if detected: continue\n",
    "    \n",
    "    for exception_error in re.finditer('Exception in thread (.+)', fail['log']):\n",
    "        addError(\"EXCEPTION_ERROR\", exception_error.group(0), fail['commit'])\n",
    "        detected = True\n",
    "        break\n",
    "    if detected: continue\n",
    "        \n",
    "    for e in re.finditer('Execution failed for task (.+)', fail['log']):\n",
    "        addError(\"TASK_ERROR\", e.group(0), fail['commit'])\n",
    "        detected = True\n",
    "        break\n",
    "    if detected: continue \n",
    "        \n",
    "    for e in re.finditer('A problem occurred evaluating script', fail['log']):\n",
    "        addError(\"GRADLE_ERROR\", e.group(0), fail['commit'])\n",
    "        detected = True\n",
    "        break\n",
    "    if detected: continue \n",
    "    \n",
    "    for e in re.finditer('unable to resolve class (.+)', fail['log']):\n",
    "        addError(\"CLASS_ERROR\", e.group(0), fail['commit'])\n",
    "        detected = True\n",
    "        break\n",
    "    if detected: continue \n",
    "        \n",
    "    if not detected:\n",
    "        addError(\"UNKNOWN_ERROR\", fail['log'], fail['commit'])"
   ]
  },
  {
   "cell_type": "code",
   "execution_count": 14,
   "metadata": {},
   "outputs": [
    {
     "data": {
      "text/html": [
       "<div>\n",
       "<style>\n",
       "    .dataframe thead tr:only-child th {\n",
       "        text-align: right;\n",
       "    }\n",
       "\n",
       "    .dataframe thead th {\n",
       "        text-align: left;\n",
       "    }\n",
       "\n",
       "    .dataframe tbody tr th {\n",
       "        vertical-align: top;\n",
       "    }\n",
       "</style>\n",
       "<table border=\"1\" class=\"dataframe\">\n",
       "  <thead>\n",
       "    <tr style=\"text-align: right;\">\n",
       "      <th></th>\n",
       "      <th>count</th>\n",
       "    </tr>\n",
       "    <tr>\n",
       "      <th>type</th>\n",
       "      <th></th>\n",
       "    </tr>\n",
       "  </thead>\n",
       "  <tbody>\n",
       "    <tr>\n",
       "      <th>CLASS_ERROR</th>\n",
       "      <td>1</td>\n",
       "    </tr>\n",
       "    <tr>\n",
       "      <th>EXCEPTION_ERROR</th>\n",
       "      <td>186</td>\n",
       "    </tr>\n",
       "    <tr>\n",
       "      <th>GRADLE_ERROR</th>\n",
       "      <td>448</td>\n",
       "    </tr>\n",
       "    <tr>\n",
       "      <th>NO_GRADLE_ERROR</th>\n",
       "      <td>1622</td>\n",
       "    </tr>\n",
       "    <tr>\n",
       "      <th>TASK_ERROR</th>\n",
       "      <td>80</td>\n",
       "    </tr>\n",
       "  </tbody>\n",
       "</table>\n",
       "</div>"
      ],
      "text/plain": [
       "                 count\n",
       "type                  \n",
       "CLASS_ERROR          1\n",
       "EXCEPTION_ERROR    186\n",
       "GRADLE_ERROR       448\n",
       "NO_GRADLE_ERROR   1622\n",
       "TASK_ERROR          80"
      ]
     },
     "execution_count": 14,
     "metadata": {},
     "output_type": "execute_result"
    }
   ],
   "source": [
    "df = pd.DataFrame.from_dict(errors, orient='index')\n",
    "df.groupby(['type']).agg({'count': 'sum'})"
   ]
  },
  {
   "cell_type": "code",
   "execution_count": 15,
   "metadata": {
    "scrolled": true
   },
   "outputs": [
    {
     "data": {
      "text/html": [
       "<div>\n",
       "<style>\n",
       "    .dataframe thead tr:only-child th {\n",
       "        text-align: right;\n",
       "    }\n",
       "\n",
       "    .dataframe thead th {\n",
       "        text-align: left;\n",
       "    }\n",
       "\n",
       "    .dataframe tbody tr th {\n",
       "        vertical-align: top;\n",
       "    }\n",
       "</style>\n",
       "<table border=\"1\" class=\"dataframe\">\n",
       "  <thead>\n",
       "    <tr style=\"text-align: right;\">\n",
       "      <th></th>\n",
       "      <th></th>\n",
       "      <th></th>\n",
       "      <th>count</th>\n",
       "    </tr>\n",
       "    <tr>\n",
       "      <th>key</th>\n",
       "      <th>type</th>\n",
       "      <th>message</th>\n",
       "      <th></th>\n",
       "    </tr>\n",
       "  </thead>\n",
       "  <tbody>\n",
       "    <tr>\n",
       "      <th>ccdb01712ea99a72ad11e3dc5e165303</th>\n",
       "      <th>NO_GRADLE_ERROR</th>\n",
       "      <th>gradlew: No such file or directory</th>\n",
       "      <td>1622</td>\n",
       "    </tr>\n",
       "    <tr>\n",
       "      <th>a254ff36f6608af906c6b5e4e7ddb8b4</th>\n",
       "      <th>GRADLE_ERROR</th>\n",
       "      <th>can't read buildSrc/build.gradle: No such file or directory</th>\n",
       "      <td>440</td>\n",
       "    </tr>\n",
       "    <tr>\n",
       "      <th>36f2c71ae2ca2af256ff2e485d5e5fe6</th>\n",
       "      <th>EXCEPTION_ERROR</th>\n",
       "      <th>Exception in thread \"main\" java.lang.RuntimeException: javax.net.ssl.SSLException: java.security.ProviderException: java.security.InvalidKeyException: EC parameters error</th>\n",
       "      <td>186</td>\n",
       "    </tr>\n",
       "    <tr>\n",
       "      <th>3166870b49504cf437af4cf28e11332c</th>\n",
       "      <th>TASK_ERROR</th>\n",
       "      <th>Execution failed for task ':test'.</th>\n",
       "      <td>65</td>\n",
       "    </tr>\n",
       "    <tr>\n",
       "      <th>098ead58f0bd73e77a451fb1bd00bb1e</th>\n",
       "      <th>TASK_ERROR</th>\n",
       "      <th>Execution failed for task ':compileTestGroovy'.</th>\n",
       "      <td>11</td>\n",
       "    </tr>\n",
       "    <tr>\n",
       "      <th>0594fdf03d8d3863dea449a3cd757a1b</th>\n",
       "      <th>GRADLE_ERROR</th>\n",
       "      <th>A problem occurred evaluating script</th>\n",
       "      <td>8</td>\n",
       "    </tr>\n",
       "    <tr>\n",
       "      <th>6d7118d1d7d09430772279885001c4d5</th>\n",
       "      <th>TASK_ERROR</th>\n",
       "      <th>Execution failed for task ':compileGroovy'.</th>\n",
       "      <td>4</td>\n",
       "    </tr>\n",
       "    <tr>\n",
       "      <th>f9d727cb95f73cbd20ee6fd3ef6714aa</th>\n",
       "      <th>CLASS_ERROR</th>\n",
       "      <th>unable to resolve class ReleaseNotesServices</th>\n",
       "      <td>1</td>\n",
       "    </tr>\n",
       "  </tbody>\n",
       "</table>\n",
       "</div>"
      ],
      "text/plain": [
       "                                                                                                     count\n",
       "key                              type            message                                                  \n",
       "ccdb01712ea99a72ad11e3dc5e165303 NO_GRADLE_ERROR gradlew: No such file or directory                   1622\n",
       "a254ff36f6608af906c6b5e4e7ddb8b4 GRADLE_ERROR    can't read buildSrc/build.gradle: No such file ...    440\n",
       "36f2c71ae2ca2af256ff2e485d5e5fe6 EXCEPTION_ERROR Exception in thread \"main\" java.lang.RuntimeExc...    186\n",
       "3166870b49504cf437af4cf28e11332c TASK_ERROR      Execution failed for task ':test'.                     65\n",
       "098ead58f0bd73e77a451fb1bd00bb1e TASK_ERROR      Execution failed for task ':compileTestGroovy'.        11\n",
       "0594fdf03d8d3863dea449a3cd757a1b GRADLE_ERROR    A problem occurred evaluating script                    8\n",
       "6d7118d1d7d09430772279885001c4d5 TASK_ERROR      Execution failed for task ':compileGroovy'.             4\n",
       "f9d727cb95f73cbd20ee6fd3ef6714aa CLASS_ERROR     unable to resolve class ReleaseNotesServices            1"
      ]
     },
     "execution_count": 15,
     "metadata": {},
     "output_type": "execute_result"
    }
   ],
   "source": [
    "df.groupby(['key', 'type', 'message']).agg({'count': 'sum'}).sort_values(by=['count'], ascending=False).head(30)"
   ]
  },
  {
   "cell_type": "code",
   "execution_count": 16,
   "metadata": {
    "scrolled": true
   },
   "outputs": [
    {
     "data": {
      "text/plain": [
       "count    8\n",
       "dtype: int64"
      ]
     },
     "execution_count": 16,
     "metadata": {},
     "output_type": "execute_result"
    }
   ],
   "source": [
    "df.groupby(['key', 'type', 'message']).agg({'count': 'sum'}).sort_values(by=['count'], ascending=False).count()"
   ]
  },
  {
   "cell_type": "code",
   "execution_count": 17,
   "metadata": {},
   "outputs": [
    {
     "data": {
      "text/plain": [
       "OrderedDict([('id', '345'),\n",
       "             ('commit', '40858f612'),\n",
       "             ('build', 'FAIL'),\n",
       "             ('exec_time', '5'),\n",
       "             ('comment',\n",
       "              'Added pom comparison for detecting if the release is needed.'),\n",
       "             ('fix', '{}'),\n",
       "             ('log',\n",
       "              \"Parallel execution is an incubating feature.\\n:buildSrc:clean UP-TO-DATE\\n:buildSrc:compileJava UP-TO-DATE\\n:buildSrc:compileGroovy\\n:buildSrc:processResources UP-TO-DATE\\n:buildSrc:classes\\n:buildSrc:jar\\n:buildSrc:assemble\\n:buildSrc:compileTestJava UP-TO-DATE\\n:buildSrc:compileTestGroovy\\n:buildSrc:processTestResources UP-TO-DATE\\n:buildSrc:testClasses\\n:buildSrc:test\\n:buildSrc:check\\n:buildSrc:build\\nVersion: 1.10.11\\nAttempting to figure out the previous version from the release notes file\\nAttempting to figure out the previous version from the release notes file\\n\\nFAILURE: Build failed with an exception.\\n\\n* Where:\\nScript '/home/michel/Investigacion/bugs/projects/Mockito/gradle/release.gradle' line: 27\\n\\n* What went wrong:\\nA problem occurred evaluating script.\\n> Could not find property 'PublicationsComparatorTask' on root project 'mockito'.\\n\\n* Try:\\nRun with --stacktrace option to get the stack trace. Run with --info or --debug option to get more log output.\\n\\nBUILD FAILED\\n\\nTotal time: 4.68 secs\\n\")])"
      ]
     },
     "execution_count": 17,
     "metadata": {},
     "output_type": "execute_result"
    }
   ],
   "source": [
    "commit_id=errors[\"0594fdf03d8d3863dea449a3cd757a1b\"]['commits'][0]\n",
    "csvDict[commit_id]"
   ]
  },
  {
   "cell_type": "code",
   "execution_count": 18,
   "metadata": {},
   "outputs": [
    {
     "data": {
      "text/plain": [
       "302"
      ]
     },
     "execution_count": 18,
     "metadata": {},
     "output_type": "execute_result"
    }
   ],
   "source": [
    "success_commits = []\n",
    "for k,v in csvDict.items():\n",
    "    if v['build'] == \"SUCCESS\" and len(current_group)>0:\n",
    "        success_commits.append(v['commit'])\n",
    "len(success_commits)"
   ]
  },
  {
   "cell_type": "code",
   "execution_count": 19,
   "metadata": {
    "collapsed": true
   },
   "outputs": [],
   "source": [
    "with open(path%'success_commits.txt', 'w') as f:\n",
    "    for commit in success_commits:\n",
    "        f.write(\"%s\\n\" % commit)"
   ]
  }
 ],
 "metadata": {
  "kernelspec": {
   "display_name": "Python 3",
   "language": "python",
   "name": "python3"
  },
  "language_info": {
   "codemirror_mode": {
    "name": "ipython",
    "version": 3
   },
   "file_extension": ".py",
   "mimetype": "text/x-python",
   "name": "python",
   "nbconvert_exporter": "python",
   "pygments_lexer": "ipython3",
   "version": "3.6.2"
  }
 },
 "nbformat": 4,
 "nbformat_minor": 2
}
