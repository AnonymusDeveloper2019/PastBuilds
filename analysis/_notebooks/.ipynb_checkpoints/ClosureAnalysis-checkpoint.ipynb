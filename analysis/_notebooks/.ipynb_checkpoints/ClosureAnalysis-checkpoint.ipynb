{
 "cells": [
  {
   "cell_type": "code",
   "execution_count": 1,
   "metadata": {
    "collapsed": true
   },
   "outputs": [],
   "source": [
    "import csv\n",
    "import pandas as pd\n",
    "import matplotlib.pyplot as plt\n",
    "import re\n",
    "import hashlib\n",
    "import numpy as np\n",
    "from matplotlib import rc\n",
    "from ProjectAnalysis import ProjectAnalysis"
   ]
  },
  {
   "cell_type": "code",
   "execution_count": 2,
   "metadata": {
    "collapsed": true
   },
   "outputs": [],
   "source": [
    "common_errors = [\n",
    "    ('JAVA_ERROR','error: (.+)\\n(.+)'),\n",
    "    ('POM_ERROR','build.xml does not exist')\n",
    "]\n",
    "pa = ProjectAnalysis(\"Closure\",  \"../Closure/step_2/%s\", \"report_step_2.csv\")"
   ]
  },
  {
   "cell_type": "code",
   "execution_count": 3,
   "metadata": {},
   "outputs": [
    {
     "data": {
      "text/html": [
       "<div>\n",
       "<style>\n",
       "    .dataframe thead tr:only-child th {\n",
       "        text-align: right;\n",
       "    }\n",
       "\n",
       "    .dataframe thead th {\n",
       "        text-align: left;\n",
       "    }\n",
       "\n",
       "    .dataframe tbody tr th {\n",
       "        vertical-align: top;\n",
       "    }\n",
       "</style>\n",
       "<table border=\"1\" class=\"dataframe\">\n",
       "  <thead>\n",
       "    <tr style=\"text-align: right;\">\n",
       "      <th></th>\n",
       "      <th>id</th>\n",
       "      <th>commit</th>\n",
       "      <th>build</th>\n",
       "      <th>exec_time</th>\n",
       "      <th>comment</th>\n",
       "      <th>fix</th>\n",
       "      <th>lastFix</th>\n",
       "    </tr>\n",
       "  </thead>\n",
       "  <tbody>\n",
       "    <tr>\n",
       "      <th>0</th>\n",
       "      <td>0</td>\n",
       "      <td>49e9565f</td>\n",
       "      <td>SUCCESS</td>\n",
       "      <td>10.0</td>\n",
       "      <td>Shut off i18n warnings if the user didn't ask ...</td>\n",
       "      <td>{}</td>\n",
       "      <td>NaN</td>\n",
       "    </tr>\n",
       "    <tr>\n",
       "      <th>1</th>\n",
       "      <td>1</td>\n",
       "      <td>aae547f4</td>\n",
       "      <td>SUCCESS</td>\n",
       "      <td>16.0</td>\n",
       "      <td>Don't try to process jsdoc nodes twice. Fixes ...</td>\n",
       "      <td>{}</td>\n",
       "      <td>NaN</td>\n",
       "    </tr>\n",
       "    <tr>\n",
       "      <th>2</th>\n",
       "      <td>2</td>\n",
       "      <td>acd31d12</td>\n",
       "      <td>SUCCESS</td>\n",
       "      <td>16.0</td>\n",
       "      <td>Add function to detect namespace declarations....</td>\n",
       "      <td>{}</td>\n",
       "      <td>NaN</td>\n",
       "    </tr>\n",
       "    <tr>\n",
       "      <th>3</th>\n",
       "      <td>3</td>\n",
       "      <td>e9bbaba7</td>\n",
       "      <td>SUCCESS</td>\n",
       "      <td>16.0</td>\n",
       "      <td>Remove trailing whitespace ------------- Creat...</td>\n",
       "      <td>{}</td>\n",
       "      <td>NaN</td>\n",
       "    </tr>\n",
       "    <tr>\n",
       "      <th>4</th>\n",
       "      <td>4</td>\n",
       "      <td>7b116a69</td>\n",
       "      <td>SUCCESS</td>\n",
       "      <td>16.0</td>\n",
       "      <td>Externs version rollover dance for Maps API V3...</td>\n",
       "      <td>{}</td>\n",
       "      <td>NaN</td>\n",
       "    </tr>\n",
       "  </tbody>\n",
       "</table>\n",
       "</div>"
      ],
      "text/plain": [
       "   id    commit    build  exec_time  \\\n",
       "0   0  49e9565f  SUCCESS       10.0   \n",
       "1   1  aae547f4  SUCCESS       16.0   \n",
       "2   2  acd31d12  SUCCESS       16.0   \n",
       "3   3  e9bbaba7  SUCCESS       16.0   \n",
       "4   4  7b116a69  SUCCESS       16.0   \n",
       "\n",
       "                                             comment fix  lastFix  \n",
       "0  Shut off i18n warnings if the user didn't ask ...  {}      NaN  \n",
       "1  Don't try to process jsdoc nodes twice. Fixes ...  {}      NaN  \n",
       "2  Add function to detect namespace declarations....  {}      NaN  \n",
       "3  Remove trailing whitespace ------------- Creat...  {}      NaN  \n",
       "4  Externs version rollover dance for Maps API V3...  {}      NaN  "
      ]
     },
     "execution_count": 3,
     "metadata": {},
     "output_type": "execute_result"
    }
   ],
   "source": [
    "pa.df().head()"
   ]
  },
  {
   "cell_type": "markdown",
   "metadata": {},
   "source": [
    "## Calculate the number of builds of each type"
   ]
  },
  {
   "cell_type": "code",
   "execution_count": 4,
   "metadata": {},
   "outputs": [
    {
     "data": {
      "text/plain": [
       "id           2855\n",
       "commit       2855\n",
       "build        2855\n",
       "exec_time    2855\n",
       "comment      2855\n",
       "fix          2855\n",
       "lastFix         0\n",
       "dtype: int64"
      ]
     },
     "execution_count": 4,
     "metadata": {},
     "output_type": "execute_result"
    }
   ],
   "source": [
    "pa.df()[(pa.df()['build'] == 'SUCCESS')].count()"
   ]
  },
  {
   "cell_type": "code",
   "execution_count": 5,
   "metadata": {},
   "outputs": [
    {
     "data": {
      "text/plain": [
       "id           3\n",
       "commit       3\n",
       "build        3\n",
       "exec_time    3\n",
       "comment      3\n",
       "fix          3\n",
       "lastFix      0\n",
       "dtype: int64"
      ]
     },
     "execution_count": 5,
     "metadata": {},
     "output_type": "execute_result"
    }
   ],
   "source": [
    "pa.df()[(pa.df()['build'] == 'FAIL')].count()"
   ]
  },
  {
   "cell_type": "code",
   "execution_count": 6,
   "metadata": {},
   "outputs": [
    {
     "data": {
      "image/png": "[encoded data removed]",
      "text/plain": [
       "<matplotlib.figure.Figure at 0x7f587c566b00>"
      ]
     },
     "metadata": {},
     "output_type": "display_data"
    }
   ],
   "source": [
    "pa.plot_and_save_histogram(300)"
   ]
  },
  {
   "cell_type": "markdown",
   "metadata": {},
   "source": [
    "## We collect all the fails, separate them in groups and obtain the logs of each commit for failed builds"
   ]
  },
  {
   "cell_type": "code",
   "execution_count": 7,
   "metadata": {
    "collapsed": true
   },
   "outputs": [],
   "source": [
    "fails, groups_of_fails = pa.get_fails_and_grouped_fails()"
   ]
  },
  {
   "cell_type": "code",
   "execution_count": 8,
   "metadata": {
    "collapsed": true
   },
   "outputs": [],
   "source": [
    "errors = pa.group_errors_by_log(fails, common_errors)"
   ]
  },
  {
   "cell_type": "code",
   "execution_count": 9,
   "metadata": {},
   "outputs": [
    {
     "data": {
      "text/html": [
       "<div>\n",
       "<style>\n",
       "    .dataframe thead tr:only-child th {\n",
       "        text-align: right;\n",
       "    }\n",
       "\n",
       "    .dataframe thead th {\n",
       "        text-align: left;\n",
       "    }\n",
       "\n",
       "    .dataframe tbody tr th {\n",
       "        vertical-align: top;\n",
       "    }\n",
       "</style>\n",
       "<table border=\"1\" class=\"dataframe\">\n",
       "  <thead>\n",
       "    <tr style=\"text-align: right;\">\n",
       "      <th></th>\n",
       "      <th>count</th>\n",
       "    </tr>\n",
       "    <tr>\n",
       "      <th>type</th>\n",
       "      <th></th>\n",
       "    </tr>\n",
       "  </thead>\n",
       "  <tbody>\n",
       "    <tr>\n",
       "      <th>JAVA_ERROR</th>\n",
       "      <td>2</td>\n",
       "    </tr>\n",
       "    <tr>\n",
       "      <th>POM_ERROR</th>\n",
       "      <td>1</td>\n",
       "    </tr>\n",
       "  </tbody>\n",
       "</table>\n",
       "</div>"
      ],
      "text/plain": [
       "            count\n",
       "type             \n",
       "JAVA_ERROR      2\n",
       "POM_ERROR       1"
      ]
     },
     "execution_count": 9,
     "metadata": {},
     "output_type": "execute_result"
    }
   ],
   "source": [
    "df = pd.DataFrame.from_dict(errors, orient='index')\n",
    "df.groupby(['type']).agg({'count': 'sum'})"
   ]
  },
  {
   "cell_type": "code",
   "execution_count": 10,
   "metadata": {},
   "outputs": [
    {
     "data": {
      "text/html": [
       "<div>\n",
       "<style>\n",
       "    .dataframe thead tr:only-child th {\n",
       "        text-align: right;\n",
       "    }\n",
       "\n",
       "    .dataframe thead th {\n",
       "        text-align: left;\n",
       "    }\n",
       "\n",
       "    .dataframe tbody tr th {\n",
       "        vertical-align: top;\n",
       "    }\n",
       "</style>\n",
       "<table border=\"1\" class=\"dataframe\">\n",
       "  <thead>\n",
       "    <tr style=\"text-align: right;\">\n",
       "      <th></th>\n",
       "      <th></th>\n",
       "      <th></th>\n",
       "      <th>count</th>\n",
       "    </tr>\n",
       "    <tr>\n",
       "      <th>key</th>\n",
       "      <th>type</th>\n",
       "      <th>message</th>\n",
       "      <th></th>\n",
       "    </tr>\n",
       "  </thead>\n",
       "  <tbody>\n",
       "    <tr>\n",
       "      <th>1f111130064db34efbba96a01f6809f0</th>\n",
       "      <th>JAVA_ERROR</th>\n",
       "      <th>error: package com.google.javascript.jscomp.regex does not exist     [javac] import com.google.javascript.jscomp.regex.RegExpTree;</th>\n",
       "      <td>1</td>\n",
       "    </tr>\n",
       "    <tr>\n",
       "      <th>6f2030077ee1c5ec72be5495b7ea5614</th>\n",
       "      <th>POM_ERROR</th>\n",
       "      <th>build.xml does not exist</th>\n",
       "      <td>1</td>\n",
       "    </tr>\n",
       "    <tr>\n",
       "      <th>a041081c632eb008489266c38ce448d0</th>\n",
       "      <th>JAVA_ERROR</th>\n",
       "      <th>error: LineMapping is not abstract and does not override abstract method newBuilderForType(BuilderParent) in GeneratedMessage     [javac]   public static final class LineMapping extends</th>\n",
       "      <td>1</td>\n",
       "    </tr>\n",
       "  </tbody>\n",
       "</table>\n",
       "</div>"
      ],
      "text/plain": [
       "                                                                                                count\n",
       "key                              type       message                                                  \n",
       "1f111130064db34efbba96a01f6809f0 JAVA_ERROR error: package com.google.javascript.jscomp.reg...      1\n",
       "6f2030077ee1c5ec72be5495b7ea5614 POM_ERROR  build.xml does not exist                                1\n",
       "a041081c632eb008489266c38ce448d0 JAVA_ERROR error: LineMapping is not abstract and does not...      1"
      ]
     },
     "execution_count": 10,
     "metadata": {},
     "output_type": "execute_result"
    }
   ],
   "source": [
    "df.groupby(['key','type','message']).agg({'count': 'sum'}).sort_values(by=['count'], ascending=False)"
   ]
  },
  {
   "cell_type": "code",
   "execution_count": 11,
   "metadata": {},
   "outputs": [
    {
     "data": {
      "text/plain": [
       "\"Buildfile: /home/michel/Investigacion/bugs/projects/Closure/build.xml\\n\\nsvnversion:\\n\\ncompile:\\n    [mkdir] Created dir: /home/michel/Investigacion/bugs/projects/Closure/build/classes\\n    [javac] /home/michel/Investigacion/bugs/projects/Closure/build.xml:185: warning: 'includeantruntime' was not set, defaulting to build.sysclasspath=last; set to false for repeatable builds\\n    [javac] Compiling 5 source files to /home/michel/Investigacion/bugs/projects/Closure/build/classes\\n    [javac] warning: [options] bootstrap class path not set in conjunction with -source 1.6\\n    [javac] 1 warning\\n    [javac] /home/michel/Investigacion/bugs/projects/Closure/build.xml:191: warning: 'includeantruntime' was not set, defaulting to build.sysclasspath=last; set to false for repeatable builds\\n    [javac] Compiling 366 source files to /home/michel/Investigacion/bugs/projects/Closure/build/classes\\n    [javac] warning: [options] bootstrap class path not set in conjunction with -source 1.6\\n    [javac] /home/michel/Investigacion/bugs/projects/Closure/src/com/google/javascript/jscomp/CheckRegExp.java:19: error: package com.google.javascript.jscomp.regex does not exist\\n    [javac] import com.google.javascript.jscomp.regex.RegExpTree;\\n    [javac]                                          ^\\n    [javac] /home/michel/Investigacion/bugs/projects/Closure/src/com/google/javascript/jscomp/PeepholeSimplifyRegExp.java:19: error: package com.google.javascript.jscomp.regex does not exist\\n    [javac] import com.google.javascript.jscomp.regex.RegExpTree;\\n    [javac]                                          ^\\n    [javac] /home/michel/Investigacion/bugs/projects/Closure/src/com/google/javascript/jscomp/CheckRegExp.java:77: error: cannot find symbol\\n    [javac]         RegExpTree.parseRegExp(pattern, flags);\\n    [javac]         ^\\n    [javac]   symbol:   variable RegExpTree\\n    [javac]   location: class CheckRegExp\\n    [javac] /home/michel/Investigacion/bugs/projects/Closure/src/com/google/javascript/jscomp/PeepholeSimplifyRegExp.java:37: error: cannot find symbol\\n    [javac]       RegExpTree regexTree;\\n    [javac]       ^\\n    [javac]   symbol:   class RegExpTree\\n    [javac]   location: class PeepholeSimplifyRegExp\\n    [javac] /home/michel/Investigacion/bugs/projects/Closure/src/com/google/javascript/jscomp/PeepholeSimplifyRegExp.java:39: error: cannot find symbol\\n    [javac]         regexTree = RegExpTree.parseRegExp(pattern, flags);\\n    [javac]                     ^\\n    [javac]   symbol:   variable RegExpTree\\n    [javac]   location: class PeepholeSimplifyRegExp\\n    [javac] /home/michel/Investigacion/bugs/projects/Closure/src/com/google/javascript/jscomp/PeepholeSimplifyRegExp.java:56: error: cannot find symbol\\n    [javac]            && (!RegExpTree.matchesWholeInput(regexTree, flags)\\n    [javac]                 ^\\n    [javac]   symbol:   variable RegExpTree\\n    [javac]   location: class PeepholeSimplifyRegExp\\n    [javac] 6 errors\\n    [javac] 1 warning\\n\\nBUILD FAILED\\n/home/michel/Investigacion/bugs/projects/Closure/build.xml:191: Compile failed; see the compiler error output for details.\\n\\nTotal time: 4 seconds\\n\""
      ]
     },
     "execution_count": 11,
     "metadata": {},
     "output_type": "execute_result"
    }
   ],
   "source": [
    "pa.view_log_by_hash(errors,'1f111130064db34efbba96a01f6809f0', 0)"
   ]
  },
  {
   "cell_type": "code",
   "execution_count": 12,
   "metadata": {},
   "outputs": [
    {
     "name": "stdout",
     "output_type": "stream",
     "text": [
      "Saved at '../Closure/step_2/success_commits.txt'\n"
     ]
    }
   ],
   "source": [
    "pa.save_success_commits()"
   ]
  }
 ],
 "metadata": {
  "kernelspec": {
   "display_name": "Python 3",
   "language": "python",
   "name": "python3"
  },
  "language_info": {
   "codemirror_mode": {
    "name": "ipython",
    "version": 3
   },
   "file_extension": ".py",
   "mimetype": "text/x-python",
   "name": "python",
   "nbconvert_exporter": "python",
   "pygments_lexer": "ipython3",
   "version": "3.6.2"
  }
 },
 "nbformat": 4,
 "nbformat_minor": 2
}
