{
 "cells": [
  {
   "cell_type": "code",
   "execution_count": 1,
   "metadata": {
    "collapsed": true
   },
   "outputs": [],
   "source": [
    "import csv\n",
    "import pandas as pd\n",
    "import matplotlib.pyplot as plt\n",
    "import re\n",
    "import hashlib\n",
    "import numpy as np\n",
    "from matplotlib import rc\n",
    "from ProjectAnalysis import ProjectAnalysis"
   ]
  },
  {
   "cell_type": "code",
   "execution_count": 11,
   "metadata": {
    "collapsed": true
   },
   "outputs": [],
   "source": [
    "common_errors = [\n",
    "    'error: (.+)\\n(.+)',\n",
    "    'Non-resolvable parent POM',\n",
    "    #'\\[ERROR\\] (.+)\\n(.+)',\n",
    "    'there is no POM in this directory',\n",
    "    'unmappable character for encoding UTF8',\n",
    "    \n",
    "]\n",
    "pa = ProjectAnalysis(\"Lang\",  1)"
   ]
  },
  {
   "cell_type": "code",
   "execution_count": 3,
   "metadata": {},
   "outputs": [
    {
     "data": {
      "text/html": [
       "<div>\n",
       "<style>\n",
       "    .dataframe thead tr:only-child th {\n",
       "        text-align: right;\n",
       "    }\n",
       "\n",
       "    .dataframe thead th {\n",
       "        text-align: left;\n",
       "    }\n",
       "\n",
       "    .dataframe tbody tr th {\n",
       "        vertical-align: top;\n",
       "    }\n",
       "</style>\n",
       "<table border=\"1\" class=\"dataframe\">\n",
       "  <thead>\n",
       "    <tr style=\"text-align: right;\">\n",
       "      <th></th>\n",
       "      <th>id</th>\n",
       "      <th>commit</th>\n",
       "      <th>build</th>\n",
       "      <th>exec_time</th>\n",
       "      <th>comment</th>\n",
       "      <th>fix</th>\n",
       "    </tr>\n",
       "  </thead>\n",
       "  <tbody>\n",
       "    <tr>\n",
       "      <th>0</th>\n",
       "      <td>0</td>\n",
       "      <td>687b2e62</td>\n",
       "      <td>SUCCESS</td>\n",
       "      <td>4</td>\n",
       "      <td>LANG-747 NumberUtils does not handle Long Hex ...</td>\n",
       "      <td>{'lastFix': 'NO'}</td>\n",
       "    </tr>\n",
       "    <tr>\n",
       "      <th>1</th>\n",
       "      <td>1</td>\n",
       "      <td>2c454a4c</td>\n",
       "      <td>SUCCESS</td>\n",
       "      <td>4</td>\n",
       "      <td>LANG-837 Add ObjectUtils.toIdentityString meth...</td>\n",
       "      <td>{'lastFix': 'NO'}</td>\n",
       "    </tr>\n",
       "    <tr>\n",
       "      <th>2</th>\n",
       "      <td>2</td>\n",
       "      <td>47d59745</td>\n",
       "      <td>SUCCESS</td>\n",
       "      <td>5</td>\n",
       "      <td>short circuit (un)capitalize if string is alre...</td>\n",
       "      <td>{'lastFix': 'NO'}</td>\n",
       "    </tr>\n",
       "    <tr>\n",
       "      <th>3</th>\n",
       "      <td>3</td>\n",
       "      <td>6b5acb4b</td>\n",
       "      <td>SUCCESS</td>\n",
       "      <td>4</td>\n",
       "      <td>Add tests for new Javadoc examples</td>\n",
       "      <td>{'lastFix': 'NO'}</td>\n",
       "    </tr>\n",
       "    <tr>\n",
       "      <th>4</th>\n",
       "      <td>4</td>\n",
       "      <td>de63ae7c</td>\n",
       "      <td>SUCCESS</td>\n",
       "      <td>5</td>\n",
       "      <td>Clarify Javadoc</td>\n",
       "      <td>{'lastFix': 'NO'}</td>\n",
       "    </tr>\n",
       "  </tbody>\n",
       "</table>\n",
       "</div>"
      ],
      "text/plain": [
       "   id    commit    build  exec_time  \\\n",
       "0   0  687b2e62  SUCCESS          4   \n",
       "1   1  2c454a4c  SUCCESS          4   \n",
       "2   2  47d59745  SUCCESS          5   \n",
       "3   3  6b5acb4b  SUCCESS          4   \n",
       "4   4  de63ae7c  SUCCESS          5   \n",
       "\n",
       "                                             comment                fix  \n",
       "0  LANG-747 NumberUtils does not handle Long Hex ...  {'lastFix': 'NO'}  \n",
       "1  LANG-837 Add ObjectUtils.toIdentityString meth...  {'lastFix': 'NO'}  \n",
       "2  short circuit (un)capitalize if string is alre...  {'lastFix': 'NO'}  \n",
       "3                 Add tests for new Javadoc examples  {'lastFix': 'NO'}  \n",
       "4                                    Clarify Javadoc  {'lastFix': 'NO'}  "
      ]
     },
     "execution_count": 3,
     "metadata": {},
     "output_type": "execute_result"
    }
   ],
   "source": [
    "pa.df().head()"
   ]
  },
  {
   "cell_type": "markdown",
   "metadata": {},
   "source": [
    "## Calculate the number of builds of each type"
   ]
  },
  {
   "cell_type": "code",
   "execution_count": 4,
   "metadata": {},
   "outputs": [
    {
     "data": {
      "text/plain": [
       "id           1897\n",
       "commit       1897\n",
       "build        1897\n",
       "exec_time    1897\n",
       "comment      1897\n",
       "fix          1897\n",
       "dtype: int64"
      ]
     },
     "execution_count": 4,
     "metadata": {},
     "output_type": "execute_result"
    }
   ],
   "source": [
    "pa.df()[(pa.df()['build'] == 'SUCCESS')].count()"
   ]
  },
  {
   "cell_type": "code",
   "execution_count": 5,
   "metadata": {},
   "outputs": [
    {
     "data": {
      "text/plain": [
       "id           1673\n",
       "commit       1673\n",
       "build        1673\n",
       "exec_time    1673\n",
       "comment      1673\n",
       "fix          1673\n",
       "dtype: int64"
      ]
     },
     "execution_count": 5,
     "metadata": {},
     "output_type": "execute_result"
    }
   ],
   "source": [
    "pa.df()[(pa.df()['build'] == 'FAIL')].count()"
   ]
  },
  {
   "cell_type": "code",
   "execution_count": 6,
   "metadata": {},
   "outputs": [
    {
     "data": {
      "image/png": "[encoded data removed]",
      "text/plain": [
       "<matplotlib.figure.Figure at 0x7effc0f16940>"
      ]
     },
     "metadata": {},
     "output_type": "display_data"
    }
   ],
   "source": [
    "pa.plot_and_save_histogram(1)"
   ]
  },
  {
   "cell_type": "markdown",
   "metadata": {},
   "source": [
    "## Recogemos todos los fails, los separamos en grupos y obtenemos los logs de cada commit con build fail"
   ]
  },
  {
   "cell_type": "code",
   "execution_count": 7,
   "metadata": {
    "collapsed": true
   },
   "outputs": [],
   "source": [
    "fails, groups_of_fails = pa.get_fails_and_grouped_fails()"
   ]
  },
  {
   "cell_type": "markdown",
   "metadata": {},
   "source": [
    "## Agrupamos los commits por sus logs"
   ]
  },
  {
   "cell_type": "code",
   "execution_count": 8,
   "metadata": {
    "collapsed": true
   },
   "outputs": [],
   "source": [
    "errors = pa.group_errors_by_log(fails, common_errors)"
   ]
  },
  {
   "cell_type": "code",
   "execution_count": 13,
   "metadata": {},
   "outputs": [
    {
     "data": {
      "text/html": [
       "<div>\n",
       "<style>\n",
       "    .dataframe thead tr:only-child th {\n",
       "        text-align: right;\n",
       "    }\n",
       "\n",
       "    .dataframe thead th {\n",
       "        text-align: left;\n",
       "    }\n",
       "\n",
       "    .dataframe tbody tr th {\n",
       "        vertical-align: top;\n",
       "    }\n",
       "</style>\n",
       "<table border=\"1\" class=\"dataframe\">\n",
       "  <thead>\n",
       "    <tr style=\"text-align: right;\">\n",
       "      <th></th>\n",
       "      <th></th>\n",
       "      <th>count</th>\n",
       "    </tr>\n",
       "    <tr>\n",
       "      <th>key</th>\n",
       "      <th>trace</th>\n",
       "      <th></th>\n",
       "    </tr>\n",
       "  </thead>\n",
       "  <tbody>\n",
       "    <tr>\n",
       "      <th>b806f5ff054d3c8e452a38c9660b32f3</th>\n",
       "      <th>[ERROR] The goal you specified requires a project to execute but there is no POM in this directory (/bugs/projects/Lang). Please verify you invoked Maven from the correct directory. -&gt; [Help 1] [ERROR]</th>\n",
       "      <td>1524</td>\n",
       "    </tr>\n",
       "    <tr>\n",
       "      <th>7696ea4a9a4c9d1116c1d4edffa28ecc</th>\n",
       "      <th>[ERROR] COMPILATION ERROR :  [INFO] -------------------------------------------------------------</th>\n",
       "      <td>124</td>\n",
       "    </tr>\n",
       "    <tr>\n",
       "      <th>7003b4a731c8b261a239349e088f637d</th>\n",
       "      <th>[ERROR] Failed to execute goal org.apache.maven.plugins:maven-compiler-plugin:2.0.2:compile (default-compile) on project commons-lang: Compilation failure: Compilation failure: [ERROR] /bugs/projects/Lang/src/java/org/apache/commons/lang/text/translate/CharSequenceTranslator.java:[24,30] error: cannot find symbol</th>\n",
       "      <td>10</td>\n",
       "    </tr>\n",
       "    <tr>\n",
       "      <th>1b547b59cce8170360f7b25b254cde67</th>\n",
       "      <th>Non-resolvable parent POM</th>\n",
       "      <td>5</td>\n",
       "    </tr>\n",
       "    <tr>\n",
       "      <th>c913c4e58f4bc88ae5ea2eddaa45749d</th>\n",
       "      <th>[ERROR] Failed to execute goal org.apache.maven.plugins:maven-compiler-plugin:2.0.2:compile (default-compile) on project commons-lang: Compilation failure: Compilation failure: [ERROR] /bugs/projects/Lang/src/java/org/apache/commons/lang/builder/ToStringStyle.java:[566,18] error: cannot find symbol</th>\n",
       "      <td>2</td>\n",
       "    </tr>\n",
       "    <tr>\n",
       "      <th>f18086681b9fabdcd16ebb08265da6c6</th>\n",
       "      <th>[ERROR] Failed to execute goal org.apache.maven.plugins:maven-compiler-plugin:2.0.2:compile (default-compile) on project commons-lang: Compilation failure: Compilation failure: [ERROR] /bugs/projects/Lang/src/java/org/apache/commons/lang/builder/HashCodeBuilder.java:[30,30] error: IDKey is not public in org.apache.commons.lang; cannot be accessed from outside package</th>\n",
       "      <td>2</td>\n",
       "    </tr>\n",
       "    <tr>\n",
       "      <th>fd8645350144deed1dfa7349ff873229</th>\n",
       "      <th>[ERROR] The build could not read 1 project -&gt; [Help 1] [ERROR]</th>\n",
       "      <td>2</td>\n",
       "    </tr>\n",
       "    <tr>\n",
       "      <th>26037568d74e6157b0614ec45612e172</th>\n",
       "      <th>[ERROR] Failed to execute goal org.apache.maven.plugins:maven-compiler-plugin:2.0.2:compile (default-compile) on project commons-lang: Compilation failure: Compilation failure: [ERROR] /bugs/projects/Lang/src/java/org/apache/commons/lang/enum/EnumUtils.java:[17,32] error: as of release 5, 'enum' is a keyword, and may not be used as an identifier</th>\n",
       "      <td>1</td>\n",
       "    </tr>\n",
       "    <tr>\n",
       "      <th>279bd0687455bb00b0f8709391ae46f1</th>\n",
       "      <th>[ERROR] Failed to execute goal org.apache.maven.plugins:maven-compiler-plugin:2.0.2:compile (default-compile) on project commons-lang: Compilation failure [ERROR] /bugs/projects/Lang/src/java/org/apache/commons/lang/text/translate/UnicodeUnescaper.java:[40,4] error: variable options might not have been initialized</th>\n",
       "      <td>1</td>\n",
       "    </tr>\n",
       "    <tr>\n",
       "      <th>92ebecae1bf705dbc200dc744b91e09d</th>\n",
       "      <th>[ERROR] Failed to execute goal org.apache.maven.plugins:maven-compiler-plugin:2.0.2:compile (default-compile) on project commons-lang: Compilation failure: Compilation failure: [ERROR] /bugs/projects/Lang/src/java/org/apache/commons/lang/exception/ExceptionUtils.java:[36,30] error: cannot find symbol</th>\n",
       "      <td>1</td>\n",
       "    </tr>\n",
       "    <tr>\n",
       "      <th>b27743eb6bd050cb1adef95a765a8f23</th>\n",
       "      <th>[ERROR] Failed to execute goal org.apache.maven.plugins:maven-compiler-plugin:2.0.2:compile (default-compile) on project commons-lang: Compilation failure [ERROR] /bugs/projects/Lang/src/java/org/apache/commons/lang/math/RandomUtils.java:[37,48] error: cannot find symbol</th>\n",
       "      <td>1</td>\n",
       "    </tr>\n",
       "  </tbody>\n",
       "</table>\n",
       "</div>"
      ],
      "text/plain": [
       "                                                                                     count\n",
       "key                              trace                                                    \n",
       "b806f5ff054d3c8e452a38c9660b32f3 [ERROR] The goal you specified requires a proje...   1524\n",
       "7696ea4a9a4c9d1116c1d4edffa28ecc [ERROR] COMPILATION ERROR :  [INFO] -----------...    124\n",
       "7003b4a731c8b261a239349e088f637d [ERROR] Failed to execute goal org.apache.maven...     10\n",
       "1b547b59cce8170360f7b25b254cde67 Non-resolvable parent POM                               5\n",
       "c913c4e58f4bc88ae5ea2eddaa45749d [ERROR] Failed to execute goal org.apache.maven...      2\n",
       "f18086681b9fabdcd16ebb08265da6c6 [ERROR] Failed to execute goal org.apache.maven...      2\n",
       "fd8645350144deed1dfa7349ff873229 [ERROR] The build could not read 1 project -> [...      2\n",
       "26037568d74e6157b0614ec45612e172 [ERROR] Failed to execute goal org.apache.maven...      1\n",
       "279bd0687455bb00b0f8709391ae46f1 [ERROR] Failed to execute goal org.apache.maven...      1\n",
       "92ebecae1bf705dbc200dc744b91e09d [ERROR] Failed to execute goal org.apache.maven...      1\n",
       "b27743eb6bd050cb1adef95a765a8f23 [ERROR] Failed to execute goal org.apache.maven...      1"
      ]
     },
     "execution_count": 13,
     "metadata": {},
     "output_type": "execute_result"
    }
   ],
   "source": [
    "df = pd.DataFrame.from_dict(errors, orient='index')\n",
    "df=df.groupby(['key','trace']).agg({'count': 'sum'}).sort_values(by=['count'], ascending=False)\n",
    "df.to_csv(\"%s_errors.csv\"%pa.project, sep='\\t', encoding='utf-8')\n",
    "df"
   ]
  },
  {
   "cell_type": "code",
   "execution_count": 10,
   "metadata": {},
   "outputs": [
    {
     "ename": "KeyError",
     "evalue": "'ed9fb91a0450a7651f86366429105413'",
     "output_type": "error",
     "traceback": [
      "\u001b[0;31m---------------------------------------------------------------------------\u001b[0m",
      "\u001b[0;31mKeyError\u001b[0m                                  Traceback (most recent call last)",
      "\u001b[0;32m<ipython-input-10-47725f24b34f>\u001b[0m in \u001b[0;36m<module>\u001b[0;34m()\u001b[0m\n\u001b[0;32m----> 1\u001b[0;31m \u001b[0mpa\u001b[0m\u001b[0;34m.\u001b[0m\u001b[0mview_log_by_hash\u001b[0m\u001b[0;34m(\u001b[0m\u001b[0merrors\u001b[0m\u001b[0;34m,\u001b[0m\u001b[0;34m'ed9fb91a0450a7651f86366429105413'\u001b[0m\u001b[0;34m,\u001b[0m \u001b[0;36m0\u001b[0m\u001b[0;34m)\u001b[0m\u001b[0;34m\u001b[0m\u001b[0m\n\u001b[0m",
      "\u001b[0;32m~/Documents/Investigacion/bugs/analysis/_notebooks/ProjectAnalysis.py\u001b[0m in \u001b[0;36mview_log_by_hash\u001b[0;34m(self, errors, hash_id, n)\u001b[0m\n\u001b[1;32m    134\u001b[0m \u001b[0;34m\u001b[0m\u001b[0m\n\u001b[1;32m    135\u001b[0m     \u001b[0;32mdef\u001b[0m \u001b[0mview_log_by_hash\u001b[0m\u001b[0;34m(\u001b[0m\u001b[0mself\u001b[0m\u001b[0;34m,\u001b[0m \u001b[0merrors\u001b[0m\u001b[0;34m,\u001b[0m \u001b[0mhash_id\u001b[0m\u001b[0;34m,\u001b[0m \u001b[0mn\u001b[0m\u001b[0;34m=\u001b[0m\u001b[0;36m0\u001b[0m\u001b[0;34m)\u001b[0m\u001b[0;34m:\u001b[0m\u001b[0;34m\u001b[0m\u001b[0m\n\u001b[0;32m--> 136\u001b[0;31m         \u001b[0mtotal\u001b[0m \u001b[0;34m=\u001b[0m \u001b[0mlen\u001b[0m\u001b[0;34m(\u001b[0m\u001b[0merrors\u001b[0m\u001b[0;34m[\u001b[0m\u001b[0mhash_id\u001b[0m\u001b[0;34m]\u001b[0m\u001b[0;34m[\u001b[0m\u001b[0;34m\"commits\"\u001b[0m\u001b[0;34m]\u001b[0m\u001b[0;34m)\u001b[0m\u001b[0;34m\u001b[0m\u001b[0m\n\u001b[0m\u001b[1;32m    137\u001b[0m         \u001b[0mcommit\u001b[0m \u001b[0;34m=\u001b[0m \u001b[0mself\u001b[0m\u001b[0;34m.\u001b[0m\u001b[0mcsvDict\u001b[0m\u001b[0;34m[\u001b[0m\u001b[0merrors\u001b[0m\u001b[0;34m[\u001b[0m\u001b[0mhash_id\u001b[0m\u001b[0;34m]\u001b[0m\u001b[0;34m[\u001b[0m\u001b[0;34m\"commits\"\u001b[0m\u001b[0;34m]\u001b[0m\u001b[0;34m[\u001b[0m\u001b[0mn\u001b[0m\u001b[0;34m]\u001b[0m\u001b[0;34m]\u001b[0m\u001b[0;34m[\u001b[0m\u001b[0;34m'commit'\u001b[0m\u001b[0;34m]\u001b[0m\u001b[0;34m\u001b[0m\u001b[0m\n\u001b[1;32m    138\u001b[0m         \u001b[0mlog\u001b[0m \u001b[0;34m=\u001b[0m \u001b[0mself\u001b[0m\u001b[0;34m.\u001b[0m\u001b[0mcsvDict\u001b[0m\u001b[0;34m[\u001b[0m\u001b[0merrors\u001b[0m\u001b[0;34m[\u001b[0m\u001b[0mhash_id\u001b[0m\u001b[0;34m]\u001b[0m\u001b[0;34m[\u001b[0m\u001b[0;34m\"commits\"\u001b[0m\u001b[0;34m]\u001b[0m\u001b[0;34m[\u001b[0m\u001b[0mn\u001b[0m\u001b[0;34m]\u001b[0m\u001b[0;34m]\u001b[0m\u001b[0;34m[\u001b[0m\u001b[0;34m'log'\u001b[0m\u001b[0;34m]\u001b[0m\u001b[0;34m\u001b[0m\u001b[0m\n",
      "\u001b[0;31mKeyError\u001b[0m: 'ed9fb91a0450a7651f86366429105413'"
     ]
    }
   ],
   "source": [
    "pa.view_log_by_hash(errors,'ed9fb91a0450a7651f86366429105413', 0)"
   ]
  },
  {
   "cell_type": "code",
   "execution_count": null,
   "metadata": {
    "collapsed": true
   },
   "outputs": [],
   "source": [
    "pa.save_success_commits()"
   ]
  }
 ],
 "metadata": {
  "kernelspec": {
   "display_name": "Python 3",
   "language": "python",
   "name": "python3"
  },
  "language_info": {
   "codemirror_mode": {
    "name": "ipython",
    "version": 3
   },
   "file_extension": ".py",
   "mimetype": "text/x-python",
   "name": "python",
   "nbconvert_exporter": "python",
   "pygments_lexer": "ipython3",
   "version": "3.6.2"
  }
 },
 "nbformat": 4,
 "nbformat_minor": 2
}
