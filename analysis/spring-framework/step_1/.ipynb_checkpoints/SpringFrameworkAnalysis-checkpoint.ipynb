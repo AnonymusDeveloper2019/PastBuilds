{
 "cells": [
  {
   "cell_type": "code",
   "execution_count": 1,
   "metadata": {
    "collapsed": true
   },
   "outputs": [],
   "source": [
    "import csv\n",
    "import pandas as pd\n",
    "import matplotlib.pyplot as plt\n",
    "import re\n",
    "import hashlib\n",
    "import numpy as np\n",
    "from matplotlib import rc"
   ]
  },
  {
   "cell_type": "code",
   "execution_count": 2,
   "metadata": {},
   "outputs": [
    {
     "data": {
      "text/html": [
       "<div>\n",
       "<style>\n",
       "    .dataframe thead tr:only-child th {\n",
       "        text-align: right;\n",
       "    }\n",
       "\n",
       "    .dataframe thead th {\n",
       "        text-align: left;\n",
       "    }\n",
       "\n",
       "    .dataframe tbody tr th {\n",
       "        vertical-align: top;\n",
       "    }\n",
       "</style>\n",
       "<table border=\"1\" class=\"dataframe\">\n",
       "  <thead>\n",
       "    <tr style=\"text-align: right;\">\n",
       "      <th></th>\n",
       "      <th>id</th>\n",
       "      <th>commit</th>\n",
       "      <th>build</th>\n",
       "      <th>exec_time</th>\n",
       "      <th>comment</th>\n",
       "      <th>fix</th>\n",
       "    </tr>\n",
       "  </thead>\n",
       "  <tbody>\n",
       "    <tr>\n",
       "      <th>0</th>\n",
       "      <td>0</td>\n",
       "      <td>d303c8a</td>\n",
       "      <td>SUCCESS</td>\n",
       "      <td>44</td>\n",
       "      <td>Store PathPattern instead of String in attributes</td>\n",
       "      <td>{}</td>\n",
       "    </tr>\n",
       "    <tr>\n",
       "      <th>1</th>\n",
       "      <td>1</td>\n",
       "      <td>ab8310b</td>\n",
       "      <td>SUCCESS</td>\n",
       "      <td>45</td>\n",
       "      <td>Fix HeadersAdapters implementations</td>\n",
       "      <td>{}</td>\n",
       "    </tr>\n",
       "    <tr>\n",
       "      <th>2</th>\n",
       "      <td>2</td>\n",
       "      <td>fdaceeb</td>\n",
       "      <td>SUCCESS</td>\n",
       "      <td>44</td>\n",
       "      <td>Remove checks and updates to transfer-encoding</td>\n",
       "      <td>{}</td>\n",
       "    </tr>\n",
       "    <tr>\n",
       "      <th>3</th>\n",
       "      <td>3</td>\n",
       "      <td>2c5a1af</td>\n",
       "      <td>SUCCESS</td>\n",
       "      <td>44</td>\n",
       "      <td>Leverage Java reflection for Kotlin enums</td>\n",
       "      <td>{}</td>\n",
       "    </tr>\n",
       "    <tr>\n",
       "      <th>4</th>\n",
       "      <td>4</td>\n",
       "      <td>f885910</td>\n",
       "      <td>SUCCESS</td>\n",
       "      <td>44</td>\n",
       "      <td>Remove unused bom import too</td>\n",
       "      <td>{}</td>\n",
       "    </tr>\n",
       "  </tbody>\n",
       "</table>\n",
       "</div>"
      ],
      "text/plain": [
       "   id   commit    build  exec_time  \\\n",
       "0   0  d303c8a  SUCCESS         44   \n",
       "1   1  ab8310b  SUCCESS         45   \n",
       "2   2  fdaceeb  SUCCESS         44   \n",
       "3   3  2c5a1af  SUCCESS         44   \n",
       "4   4  f885910  SUCCESS         44   \n",
       "\n",
       "                                             comment fix  \n",
       "0  Store PathPattern instead of String in attributes  {}  \n",
       "1                Fix HeadersAdapters implementations  {}  \n",
       "2     Remove checks and updates to transfer-encoding  {}  \n",
       "3          Leverage Java reflection for Kotlin enums  {}  \n",
       "4                       Remove unused bom import too  {}  "
      ]
     },
     "execution_count": 2,
     "metadata": {},
     "output_type": "execute_result"
    }
   ],
   "source": [
    "data = pd.read_csv(\"report_step_1.csv\")\n",
    "data.head()"
   ]
  },
  {
   "cell_type": "markdown",
   "metadata": {},
   "source": [
    "## Calculamos el número de builds de cada tipo"
   ]
  },
  {
   "cell_type": "code",
   "execution_count": 3,
   "metadata": {},
   "outputs": [
    {
     "data": {
      "text/plain": [
       "id           5772\n",
       "commit       5772\n",
       "build        5772\n",
       "exec_time    5772\n",
       "comment      5772\n",
       "fix          5772\n",
       "dtype: int64"
      ]
     },
     "execution_count": 3,
     "metadata": {},
     "output_type": "execute_result"
    }
   ],
   "source": [
    "data[(data['build'] == 'SUCCESS')].count()"
   ]
  },
  {
   "cell_type": "code",
   "execution_count": 4,
   "metadata": {},
   "outputs": [
    {
     "data": {
      "text/plain": [
       "id           11610\n",
       "commit       11610\n",
       "build        11610\n",
       "exec_time    11610\n",
       "comment      11599\n",
       "fix          11610\n",
       "dtype: int64"
      ]
     },
     "execution_count": 4,
     "metadata": {},
     "output_type": "execute_result"
    }
   ],
   "source": [
    "data[(data['build'] == 'FAIL')].count()"
   ]
  },
  {
   "cell_type": "code",
   "execution_count": 5,
   "metadata": {},
   "outputs": [
    {
     "data": {
      "image/png": "[encoded data removed]",
      "text/plain": [
       "<matplotlib.figure.Figure at 0x7f2d7621fa58>"
      ]
     },
     "metadata": {},
     "output_type": "display_data"
    }
   ],
   "source": [
    "def plot_histogram(total_commits, jump, limit, title):\n",
    "    fails_list=[]\n",
    "    success_list=[]\n",
    "    for index, row in data.iterrows():\n",
    "        if row['build'] == \"SUCCESS\":\n",
    "            success_list.append(row['id'])\n",
    "        else:\n",
    "            fails_list.append(row['id'])\n",
    "\n",
    "    bins = np.arange(0,total_commits,jump)\n",
    "\n",
    "    fig, ax = plt.subplots(figsize=(14, 4))\n",
    "    _, bins, patches = plt.hist([np.clip(success_list, bins[0], bins[-1]),\n",
    "                                 np.clip(fails_list, bins[0], bins[-1])],\n",
    "                                normed=1,  # normed is deprecated; replace with density\n",
    "                                stacked=True,\n",
    "                                #density=True,\n",
    "                                bins=bins, color=['#4b8869', '#a82e2e'], label=['SUCCESS', 'FAIL'])\n",
    "    \n",
    "    xlabels = bins[1:].astype(str)\n",
    "    xlabels[-1] += '+'\n",
    "\n",
    "    N_labels = len(xlabels)\n",
    "    \n",
    "    plt.xticks(jump * np.arange(N_labels) + jump/2)\n",
    "    ax.set_xticklabels(xlabels)\n",
    "\n",
    "    plt.yticks([])\n",
    "    plt.title(title, fontsize=20)\n",
    "    plt.setp(patches, linewidth=0)\n",
    "    plt.legend(loc='upper left', prop={'size': 16})\n",
    "\n",
    "    fig.tight_layout()\n",
    "    plt.xlim([0, limit])\n",
    "    plt.tick_params(axis='both', labelsize=14)\n",
    "    \n",
    "    plt.savefig('success_fail_hist.png')\n",
    "    plt.show()\n",
    "plot_histogram(18000,1000,16000, \"Commit status history in Spring-Framework project\")"
   ]
  },
  {
   "cell_type": "markdown",
   "metadata": {},
   "source": [
    "## Recogemos todos los fails y los separamos en grupos"
   ]
  },
  {
   "cell_type": "code",
   "execution_count": 6,
   "metadata": {
    "collapsed": true
   },
   "outputs": [],
   "source": [
    "import csv\n",
    "\n",
    "with open(\"report_step_1.csv\") as csvfile:\n",
    "    reader = csv.DictReader(csvfile)\n",
    "    csvDict = dict()\n",
    "    for row in reader:\n",
    "        csvDict[row['commit']] = row"
   ]
  },
  {
   "cell_type": "code",
   "execution_count": 7,
   "metadata": {
    "collapsed": true
   },
   "outputs": [],
   "source": [
    "groups_of_fails = []\n",
    "fails = []\n",
    "current_group = []\n",
    "for k,v in csvDict.items():\n",
    "    if v['build'] == \"SUCCESS\" and len(current_group)>0:\n",
    "        groups_of_fails.append(current_group)\n",
    "        current_group = []\n",
    "    if v['build'] == \"FAIL\":\n",
    "        current_group.append(v)\n",
    "        fails.append(v)\n",
    "if len(current_group)>0:\n",
    "    groups_of_fails.append(current_group)"
   ]
  },
  {
   "cell_type": "code",
   "execution_count": 8,
   "metadata": {
    "collapsed": true
   },
   "outputs": [],
   "source": [
    "moreThan100 = []\n",
    "for g in groups_of_fails:\n",
    "    if len(g) > 100:\n",
    "        moreThan100.append(g)"
   ]
  },
  {
   "cell_type": "code",
   "execution_count": 9,
   "metadata": {
    "scrolled": true
   },
   "outputs": [
    {
     "data": {
      "text/plain": [
       "248"
      ]
     },
     "execution_count": 9,
     "metadata": {},
     "output_type": "execute_result"
    }
   ],
   "source": [
    "len(groups_of_fails)"
   ]
  },
  {
   "cell_type": "code",
   "execution_count": 10,
   "metadata": {},
   "outputs": [
    {
     "data": {
      "text/plain": [
       "7142"
      ]
     },
     "execution_count": 10,
     "metadata": {},
     "output_type": "execute_result"
    }
   ],
   "source": [
    "len(groups_of_fails[-1])"
   ]
  },
  {
   "cell_type": "markdown",
   "metadata": {},
   "source": [
    "## Obtenemos los logs de cada commit con build fail"
   ]
  },
  {
   "cell_type": "code",
   "execution_count": 11,
   "metadata": {},
   "outputs": [
    {
     "ename": "FileNotFoundError",
     "evalue": "[Errno 2] No such file or directory: 'logs_step_1/56-928c541.log'",
     "output_type": "error",
     "traceback": [
      "\u001b[0;31m---------------------------------------------------------------------------\u001b[0m",
      "\u001b[0;31mFileNotFoundError\u001b[0m                         Traceback (most recent call last)",
      "\u001b[0;32m<ipython-input-11-121c23291d19>\u001b[0m in \u001b[0;36m<module>\u001b[0;34m()\u001b[0m\n\u001b[1;32m      1\u001b[0m \u001b[0;32mfor\u001b[0m \u001b[0mfail\u001b[0m \u001b[0;32min\u001b[0m \u001b[0mfails\u001b[0m\u001b[0;34m:\u001b[0m\u001b[0;34m\u001b[0m\u001b[0m\n\u001b[0;32m----> 2\u001b[0;31m     \u001b[0;32mwith\u001b[0m \u001b[0mopen\u001b[0m\u001b[0;34m(\u001b[0m\u001b[0;34m\"logs_step_1/%s-%s.log\"\u001b[0m\u001b[0;34m%\u001b[0m\u001b[0;34m(\u001b[0m\u001b[0mfail\u001b[0m\u001b[0;34m[\u001b[0m\u001b[0;34m'id'\u001b[0m\u001b[0;34m]\u001b[0m\u001b[0;34m,\u001b[0m \u001b[0mfail\u001b[0m\u001b[0;34m[\u001b[0m\u001b[0;34m'commit'\u001b[0m\u001b[0;34m]\u001b[0m\u001b[0;34m)\u001b[0m\u001b[0;34m)\u001b[0m \u001b[0;32mas\u001b[0m \u001b[0mf\u001b[0m\u001b[0;34m:\u001b[0m\u001b[0;34m\u001b[0m\u001b[0m\n\u001b[0m\u001b[1;32m      3\u001b[0m         \u001b[0mr_data\u001b[0m \u001b[0;34m=\u001b[0m \u001b[0mf\u001b[0m\u001b[0;34m.\u001b[0m\u001b[0mread\u001b[0m\u001b[0;34m(\u001b[0m\u001b[0;34m)\u001b[0m\u001b[0;34m\u001b[0m\u001b[0m\n\u001b[1;32m      4\u001b[0m         \u001b[0mfail\u001b[0m\u001b[0;34m[\u001b[0m\u001b[0;34m'log'\u001b[0m\u001b[0;34m]\u001b[0m \u001b[0;34m=\u001b[0m \u001b[0mr_data\u001b[0m\u001b[0;34m\u001b[0m\u001b[0m\n",
      "\u001b[0;31mFileNotFoundError\u001b[0m: [Errno 2] No such file or directory: 'logs_step_1/56-928c541.log'"
     ]
    }
   ],
   "source": [
    "for fail in fails:\n",
    "    with open(\"logs/%s-%s.log\"%(fail['id'], fail['commit'])) as f: \n",
    "        r_data = f.read()\n",
    "        fail['log'] = r_data"
   ]
  },
  {
   "cell_type": "markdown",
   "metadata": {},
   "source": [
    "## Agrupamos los commits por sus logs"
   ]
  },
  {
   "cell_type": "code",
   "execution_count": null,
   "metadata": {
    "collapsed": true
   },
   "outputs": [],
   "source": [
    "def cleanLog(text):\n",
    "    return text.replace('\\n', ' ').replace('\\t', ' ')"
   ]
  },
  {
   "cell_type": "code",
   "execution_count": null,
   "metadata": {
    "collapsed": true
   },
   "outputs": [],
   "source": [
    "errors=dict()\n",
    "def addError(error_type, error_text, commit):\n",
    "    hash_object = hashlib.md5(error_text.encode())\n",
    "    hash_key = hash_object.hexdigest()\n",
    "    if hash_key in errors:\n",
    "        errors[hash_key]['count'] +=1\n",
    "        errors[hash_key]['commits'].append(commit)\n",
    "    else:\n",
    "        errors[hash_key] = {\n",
    "            'key': hash_key,\n",
    "            'type': error_type,\n",
    "            'message': cleanLog(error_text),\n",
    "            'commits': [commit],\n",
    "            'count': 1\n",
    "        }\n",
    "    "
   ]
  },
  {
   "cell_type": "code",
   "execution_count": null,
   "metadata": {
    "collapsed": true
   },
   "outputs": [],
   "source": [
    "for fail in fails:\n",
    "    \n",
    "    detected = False\n",
    "    \n",
    "    for e in re.finditer('Cannot allocate memory', fail['log']):\n",
    "        addError(\"NO_MEMORY_ERROR\", e.group(0), fail['commit'])\n",
    "        detected = True\n",
    "        break\n",
    "    if detected: continue\n",
    "        \n",
    "    for e in re.finditer('Could not determine which tasks to execute', fail['log']):\n",
    "        addError(\"TASKS_ERROR\", e.group(0), fail['commit'])\n",
    "        detected = True\n",
    "        break\n",
    "    if detected: continue\n",
    "        \n",
    "    for e in re.finditer('Execution failed for task (.*)', fail['log']):\n",
    "        addError(\"TASKS_ERROR\", e.group(0), fail['commit'])\n",
    "        detected = True\n",
    "        break\n",
    "    if detected: continue\n",
    "    \n",
    "    for java_error in re.finditer('error: (.+)\\n(.+)', fail['log']):\n",
    "        addError(\"JAVA_ERROR\", java_error.group(0), fail['commit'])\n",
    "        detected = True\n",
    "        break\n",
    "    if detected: continue\n",
    "        \n",
    "    for java_error in re.finditer('The import (.+) cannot be resolved', fail['log']):\n",
    "        addError(\"JAVA_ERROR\", java_error.group(0), fail['commit'])\n",
    "        detected = True\n",
    "        break\n",
    "    if detected: continue\n",
    "    \n",
    "    for dependency_error in re.finditer('(> Could not resolve|> Could not find) (.+)', fail['log']):\n",
    "        addError(\"DEPENDENCY_ERROR\", dependency_error.group(0), fail['commit'])\n",
    "        detected = True\n",
    "        break\n",
    "    if detected: continue\n",
    "        \n",
    "    for exception_error in re.finditer('Exception in thread (.+)', fail['log']):\n",
    "        addError(\"EXCEPTION_ERROR\", exception_error.group(0), fail['commit'])\n",
    "        detected = True\n",
    "        break\n",
    "    if detected: continue\n",
    "    \n",
    "    for exception_error in re.finditer('org.gradle.api.internal.MissingMethodException', fail['log']):\n",
    "        addError(\"EXCEPTION_ERROR\", exception_error.group(0), fail['commit'])\n",
    "        detected = True\n",
    "        break\n",
    "    if detected: continue\n",
    "\n",
    "    for e in re.finditer('A problem occurred evaluating (.*)(\\n)?(.*) (does not exist)?', fail['log']):\n",
    "        addError(\"GRADLE_ERROR\", e.group(0), fail['commit'])\n",
    "        detected = True\n",
    "        break\n",
    "    if detected: continue\n",
    "        \n",
    "    for gradle_error in re.finditer('gradlew: No such file or directory', fail['log']):\n",
    "        addError(\"NO_GRADLE_ERROR\", 'gradlew: No such file or directory', fail['commit'])\n",
    "        detected = True\n",
    "        break\n",
    "    if detected: continue\n",
    "        \n",
    "    if not detected:\n",
    "        addError(\"UNKNOWN_ERROR\", fail['log'], fail['commit'])"
   ]
  },
  {
   "cell_type": "code",
   "execution_count": null,
   "metadata": {},
   "outputs": [],
   "source": [
    "df = pd.DataFrame.from_dict(errors, orient='index')\n",
    "df.groupby(['type']).agg({'count': 'sum'})"
   ]
  },
  {
   "cell_type": "code",
   "execution_count": null,
   "metadata": {},
   "outputs": [],
   "source": [
    "df.groupby(['key', 'type', 'message']).agg({'count': 'sum'}).sort_values(by=['count'], ascending=False).head(10)"
   ]
  },
  {
   "cell_type": "code",
   "execution_count": null,
   "metadata": {},
   "outputs": [],
   "source": [
    "json_df = df.to_json(\"data.json\",orient='records')\n",
    "df.groupby(['key', 'type', 'message']).agg({'count': 'sum'}).sort_values(by=['count'], ascending=False).count()"
   ]
  },
  {
   "cell_type": "code",
   "execution_count": null,
   "metadata": {
    "collapsed": true
   },
   "outputs": [],
   "source": [
    "#errors['5b15d268dc71a83ef2deca0f11844141'][\"commits\"][0]"
   ]
  },
  {
   "cell_type": "code",
   "execution_count": null,
   "metadata": {
    "collapsed": true
   },
   "outputs": [],
   "source": [
    "#csvDict['39d043d']['log']"
   ]
  },
  {
   "cell_type": "code",
   "execution_count": null,
   "metadata": {
    "collapsed": true
   },
   "outputs": [],
   "source": [
    "# success_commits = []\n",
    "# for k,v in csvDict.items():\n",
    "#     if v['build'] == \"SUCCESS\" and len(current_group)>0:\n",
    "#         success_commits.append(v['commit'])\n",
    "# len(success_commits)"
   ]
  },
  {
   "cell_type": "code",
   "execution_count": null,
   "metadata": {
    "collapsed": true
   },
   "outputs": [],
   "source": [
    "# with open('success_commits.txt', 'w') as f:\n",
    "#     for commit in success_commits:\n",
    "#         f.write(\"%s\\n\" % commit)"
   ]
  }
 ],
 "metadata": {
  "kernelspec": {
   "display_name": "Python 3",
   "language": "python",
   "name": "python3"
  },
  "language_info": {
   "codemirror_mode": {
    "name": "ipython",
    "version": 3
   },
   "file_extension": ".py",
   "mimetype": "text/x-python",
   "name": "python",
   "nbconvert_exporter": "python",
   "pygments_lexer": "ipython3",
   "version": "3.6.2"
  }
 },
 "nbformat": 4,
 "nbformat_minor": 2
}
