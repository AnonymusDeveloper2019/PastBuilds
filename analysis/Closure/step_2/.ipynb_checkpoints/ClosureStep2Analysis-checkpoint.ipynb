{
 "cells": [
  {
   "cell_type": "code",
   "execution_count": 1,
   "metadata": {
    "collapsed": true
   },
   "outputs": [],
   "source": [
    "import csv\n",
    "import pandas as pd\n",
    "import matplotlib.pyplot as plt\n",
    "import re\n",
    "import hashlib\n",
    "import numpy as np"
   ]
  },
  {
   "cell_type": "code",
   "execution_count": 2,
   "metadata": {},
   "outputs": [
    {
     "data": {
      "text/html": [
       "<div>\n",
       "<style>\n",
       "    .dataframe thead tr:only-child th {\n",
       "        text-align: right;\n",
       "    }\n",
       "\n",
       "    .dataframe thead th {\n",
       "        text-align: left;\n",
       "    }\n",
       "\n",
       "    .dataframe tbody tr th {\n",
       "        vertical-align: top;\n",
       "    }\n",
       "</style>\n",
       "<table border=\"1\" class=\"dataframe\">\n",
       "  <thead>\n",
       "    <tr style=\"text-align: right;\">\n",
       "      <th></th>\n",
       "      <th>id</th>\n",
       "      <th>commit</th>\n",
       "      <th>build</th>\n",
       "      <th>exec_time</th>\n",
       "      <th>comment</th>\n",
       "      <th>fix</th>\n",
       "      <th>lastFix</th>\n",
       "    </tr>\n",
       "  </thead>\n",
       "  <tbody>\n",
       "    <tr>\n",
       "      <th>0</th>\n",
       "      <td>0</td>\n",
       "      <td>49e9565f</td>\n",
       "      <td>SUCCESS</td>\n",
       "      <td>10.0</td>\n",
       "      <td>Shut off i18n warnings if the user didn't ask ...</td>\n",
       "      <td>{}</td>\n",
       "      <td>NaN</td>\n",
       "    </tr>\n",
       "    <tr>\n",
       "      <th>1</th>\n",
       "      <td>1</td>\n",
       "      <td>aae547f4</td>\n",
       "      <td>SUCCESS</td>\n",
       "      <td>16.0</td>\n",
       "      <td>Don't try to process jsdoc nodes twice. Fixes ...</td>\n",
       "      <td>{}</td>\n",
       "      <td>NaN</td>\n",
       "    </tr>\n",
       "    <tr>\n",
       "      <th>2</th>\n",
       "      <td>2</td>\n",
       "      <td>acd31d12</td>\n",
       "      <td>SUCCESS</td>\n",
       "      <td>16.0</td>\n",
       "      <td>Add function to detect namespace declarations....</td>\n",
       "      <td>{}</td>\n",
       "      <td>NaN</td>\n",
       "    </tr>\n",
       "    <tr>\n",
       "      <th>3</th>\n",
       "      <td>3</td>\n",
       "      <td>e9bbaba7</td>\n",
       "      <td>SUCCESS</td>\n",
       "      <td>16.0</td>\n",
       "      <td>Remove trailing whitespace ------------- Creat...</td>\n",
       "      <td>{}</td>\n",
       "      <td>NaN</td>\n",
       "    </tr>\n",
       "    <tr>\n",
       "      <th>4</th>\n",
       "      <td>4</td>\n",
       "      <td>7b116a69</td>\n",
       "      <td>SUCCESS</td>\n",
       "      <td>16.0</td>\n",
       "      <td>Externs version rollover dance for Maps API V3...</td>\n",
       "      <td>{}</td>\n",
       "      <td>NaN</td>\n",
       "    </tr>\n",
       "  </tbody>\n",
       "</table>\n",
       "</div>"
      ],
      "text/plain": [
       "   id    commit    build  exec_time  \\\n",
       "0   0  49e9565f  SUCCESS       10.0   \n",
       "1   1  aae547f4  SUCCESS       16.0   \n",
       "2   2  acd31d12  SUCCESS       16.0   \n",
       "3   3  e9bbaba7  SUCCESS       16.0   \n",
       "4   4  7b116a69  SUCCESS       16.0   \n",
       "\n",
       "                                             comment fix  lastFix  \n",
       "0  Shut off i18n warnings if the user didn't ask ...  {}      NaN  \n",
       "1  Don't try to process jsdoc nodes twice. Fixes ...  {}      NaN  \n",
       "2  Add function to detect namespace declarations....  {}      NaN  \n",
       "3  Remove trailing whitespace ------------- Creat...  {}      NaN  \n",
       "4  Externs version rollover dance for Maps API V3...  {}      NaN  "
      ]
     },
     "execution_count": 2,
     "metadata": {},
     "output_type": "execute_result"
    }
   ],
   "source": [
    "data = pd.read_csv(\"report_step_2.csv\")\n",
    "data.head()"
   ]
  },
  {
   "cell_type": "markdown",
   "metadata": {},
   "source": [
    "## Calculamos el número de builds de cada tipo"
   ]
  },
  {
   "cell_type": "code",
   "execution_count": 3,
   "metadata": {},
   "outputs": [
    {
     "data": {
      "text/plain": [
       "id           2855\n",
       "commit       2855\n",
       "build        2855\n",
       "exec_time    2855\n",
       "comment      2855\n",
       "fix          2855\n",
       "lastFix         0\n",
       "dtype: int64"
      ]
     },
     "execution_count": 3,
     "metadata": {},
     "output_type": "execute_result"
    }
   ],
   "source": [
    "data[(data['build'] == 'SUCCESS')].count()"
   ]
  },
  {
   "cell_type": "code",
   "execution_count": 4,
   "metadata": {},
   "outputs": [
    {
     "data": {
      "text/plain": [
       "id           3\n",
       "commit       3\n",
       "build        3\n",
       "exec_time    3\n",
       "comment      3\n",
       "fix          3\n",
       "lastFix      0\n",
       "dtype: int64"
      ]
     },
     "execution_count": 4,
     "metadata": {},
     "output_type": "execute_result"
    }
   ],
   "source": [
    "data[(data['build'] == 'FAIL')].count()"
   ]
  },
  {
   "cell_type": "code",
   "execution_count": 5,
   "metadata": {},
   "outputs": [
    {
     "data": {
      "image/png": "[encoded data removed]",
      "text/plain": [
       "<matplotlib.figure.Figure at 0x7f441a7de710>"
      ]
     },
     "metadata": {},
     "output_type": "display_data"
    }
   ],
   "source": [
    "def plot_histogram(total_commits, jump, limit, title):\n",
    "    fails_list=[]\n",
    "    success_list=[]\n",
    "    for index, row in data.iterrows():\n",
    "        if row['build'] == \"SUCCESS\":\n",
    "            success_list.append(row['id'])\n",
    "        else:\n",
    "            fails_list.append(row['id'])\n",
    "\n",
    "    bins = np.arange(0,total_commits,jump)\n",
    "\n",
    "    fig, ax = plt.subplots(figsize=(14, 4))\n",
    "    _, bins, patches = plt.hist([np.clip(success_list, bins[0], bins[-1]),\n",
    "                                 np.clip(fails_list, bins[0], bins[-1])],\n",
    "                                normed=1,  # normed is deprecated; replace with density\n",
    "                                stacked=True,\n",
    "                                #density=True,\n",
    "                                bins=bins, color=['#4b8869', '#a82e2e'], label=['SUCCESS', 'FAIL'])\n",
    "    \n",
    "    xlabels = bins[1:].astype(str)\n",
    "    xlabels[-1] += '+'\n",
    "\n",
    "    N_labels = len(xlabels)\n",
    "    \n",
    "    plt.xticks(jump * np.arange(N_labels) + jump/2)\n",
    "    ax.set_xticklabels(xlabels)\n",
    "\n",
    "    plt.yticks([])\n",
    "    plt.title(title, fontsize=20)\n",
    "    plt.setp(patches, linewidth=0)\n",
    "    plt.legend(loc='upper left', prop={'size': 16})\n",
    "\n",
    "    fig.tight_layout()\n",
    "    plt.xlim([0, limit])\n",
    "    plt.tick_params(axis='both', labelsize=13)\n",
    "    \n",
    "    plt.savefig('success_fail_hist.png')\n",
    "    plt.show()\n",
    "plot_histogram(3000,100,2800, \"Commit status history in Closure project\")"
   ]
  },
  {
   "cell_type": "markdown",
   "metadata": {},
   "source": [
    "## Recogemos todos los fails y los separamos en grupos"
   ]
  },
  {
   "cell_type": "code",
   "execution_count": 6,
   "metadata": {
    "collapsed": true
   },
   "outputs": [],
   "source": [
    "import csv\n",
    "\n",
    "with open(\"report_step_2.csv\") as csvfile:\n",
    "    reader = csv.DictReader(csvfile)\n",
    "    csvDict = dict()\n",
    "    for row in reader:\n",
    "        csvDict[row['commit']] = row"
   ]
  },
  {
   "cell_type": "code",
   "execution_count": 7,
   "metadata": {
    "collapsed": true
   },
   "outputs": [],
   "source": [
    "groups_of_fails = []\n",
    "fails = []\n",
    "current_group = []\n",
    "for k,v in csvDict.items():\n",
    "    if v['build'] == \"SUCCESS\" and len(current_group)>0:\n",
    "        groups_of_fails.append(current_group)\n",
    "        current_group = []\n",
    "    if v['build'] == \"FAIL\":\n",
    "        current_group.append(v)\n",
    "        fails.append(v)\n",
    "if len(current_group)>0:\n",
    "    groups_of_fails.append(current_group)"
   ]
  },
  {
   "cell_type": "code",
   "execution_count": 8,
   "metadata": {
    "collapsed": true
   },
   "outputs": [],
   "source": [
    "moreThan100 = []\n",
    "for g in groups_of_fails:\n",
    "    if len(g) > 100:\n",
    "        moreThan100.append(g)"
   ]
  },
  {
   "cell_type": "code",
   "execution_count": 9,
   "metadata": {
    "scrolled": true
   },
   "outputs": [
    {
     "data": {
      "text/plain": [
       "3"
      ]
     },
     "execution_count": 9,
     "metadata": {},
     "output_type": "execute_result"
    }
   ],
   "source": [
    "len(groups_of_fails)"
   ]
  },
  {
   "cell_type": "markdown",
   "metadata": {},
   "source": [
    "## Obtenemos los logs de cada commit con build fail"
   ]
  },
  {
   "cell_type": "code",
   "execution_count": 10,
   "metadata": {
    "collapsed": true
   },
   "outputs": [],
   "source": [
    "for fail in fails:\n",
    "    with open(\"logs/%s-%s.log\"%(fail['id'], fail['commit'])) as f: \n",
    "        r_data = f.read()\n",
    "        fail['log'] = r_data"
   ]
  },
  {
   "cell_type": "markdown",
   "metadata": {},
   "source": [
    "## Agrupamos los commits por sus logs"
   ]
  },
  {
   "cell_type": "code",
   "execution_count": 11,
   "metadata": {
    "collapsed": true
   },
   "outputs": [],
   "source": [
    "def cleanLog(text):\n",
    "    return text.replace('\\n', ' ').replace('\\t', ' ')"
   ]
  },
  {
   "cell_type": "code",
   "execution_count": 12,
   "metadata": {
    "collapsed": true
   },
   "outputs": [],
   "source": [
    "errors=dict()\n",
    "def addError(error_type, error_text, commit):\n",
    "    hash_object = hashlib.md5(error_text.encode())\n",
    "    hash_key = hash_object.hexdigest()\n",
    "    if hash_key in errors:\n",
    "        errors[hash_key]['count'] +=1\n",
    "        errors[hash_key]['commits'].append(commit)\n",
    "    else:\n",
    "        errors[hash_key] = {\n",
    "            'key': hash_key,\n",
    "            'type': error_type,\n",
    "            'message': cleanLog(error_text),\n",
    "            'commits': [commit],\n",
    "            'count': 1\n",
    "        }\n",
    "    "
   ]
  },
  {
   "cell_type": "code",
   "execution_count": 13,
   "metadata": {
    "collapsed": true
   },
   "outputs": [],
   "source": [
    "for fail in fails:\n",
    "    \n",
    "    detected = False\n",
    "    \n",
    "    for java_error in re.finditer('error: (.+)\\n(.+)', fail['log']):\n",
    "        addError(\"JAVA_ERROR\", java_error.group(0), fail['commit'])\n",
    "        detected = True\n",
    "        break\n",
    "    if detected: continue\n",
    "        \n",
    "    for java_error in re.finditer('apt does not exist under Java 1.8 and higher', fail['log']):\n",
    "        addError(\"JAVA_ERROR\", java_error.group(0), fail['commit'])\n",
    "        detected = True\n",
    "        break\n",
    "    if detected: continue\n",
    "        \n",
    "    if not detected:\n",
    "        addError(\"UNKNOWN_ERROR\", fail['log'], fail['commit'])"
   ]
  },
  {
   "cell_type": "code",
   "execution_count": 14,
   "metadata": {},
   "outputs": [
    {
     "data": {
      "text/html": [
       "<div>\n",
       "<style>\n",
       "    .dataframe thead tr:only-child th {\n",
       "        text-align: right;\n",
       "    }\n",
       "\n",
       "    .dataframe thead th {\n",
       "        text-align: left;\n",
       "    }\n",
       "\n",
       "    .dataframe tbody tr th {\n",
       "        vertical-align: top;\n",
       "    }\n",
       "</style>\n",
       "<table border=\"1\" class=\"dataframe\">\n",
       "  <thead>\n",
       "    <tr style=\"text-align: right;\">\n",
       "      <th></th>\n",
       "      <th>count</th>\n",
       "    </tr>\n",
       "    <tr>\n",
       "      <th>type</th>\n",
       "      <th></th>\n",
       "    </tr>\n",
       "  </thead>\n",
       "  <tbody>\n",
       "    <tr>\n",
       "      <th>JAVA_ERROR</th>\n",
       "      <td>2</td>\n",
       "    </tr>\n",
       "    <tr>\n",
       "      <th>UNKNOWN_ERROR</th>\n",
       "      <td>1</td>\n",
       "    </tr>\n",
       "  </tbody>\n",
       "</table>\n",
       "</div>"
      ],
      "text/plain": [
       "               count\n",
       "type                \n",
       "JAVA_ERROR         2\n",
       "UNKNOWN_ERROR      1"
      ]
     },
     "execution_count": 14,
     "metadata": {},
     "output_type": "execute_result"
    }
   ],
   "source": [
    "df = pd.DataFrame.from_dict(errors, orient='index')\n",
    "df.groupby(['type']).agg({'count': 'sum'})"
   ]
  },
  {
   "cell_type": "code",
   "execution_count": 15,
   "metadata": {},
   "outputs": [
    {
     "data": {
      "text/html": [
       "<div>\n",
       "<style>\n",
       "    .dataframe thead tr:only-child th {\n",
       "        text-align: right;\n",
       "    }\n",
       "\n",
       "    .dataframe thead th {\n",
       "        text-align: left;\n",
       "    }\n",
       "\n",
       "    .dataframe tbody tr th {\n",
       "        vertical-align: top;\n",
       "    }\n",
       "</style>\n",
       "<table border=\"1\" class=\"dataframe\">\n",
       "  <thead>\n",
       "    <tr style=\"text-align: right;\">\n",
       "      <th></th>\n",
       "      <th></th>\n",
       "      <th></th>\n",
       "      <th>count</th>\n",
       "    </tr>\n",
       "    <tr>\n",
       "      <th>key</th>\n",
       "      <th>type</th>\n",
       "      <th>message</th>\n",
       "      <th></th>\n",
       "    </tr>\n",
       "  </thead>\n",
       "  <tbody>\n",
       "    <tr>\n",
       "      <th>1f111130064db34efbba96a01f6809f0</th>\n",
       "      <th>JAVA_ERROR</th>\n",
       "      <th>error: package com.google.javascript.jscomp.regex does not exist     [javac] import com.google.javascript.jscomp.regex.RegExpTree;</th>\n",
       "      <td>1</td>\n",
       "    </tr>\n",
       "    <tr>\n",
       "      <th>a041081c632eb008489266c38ce448d0</th>\n",
       "      <th>JAVA_ERROR</th>\n",
       "      <th>error: LineMapping is not abstract and does not override abstract method newBuilderForType(BuilderParent) in GeneratedMessage     [javac]   public static final class LineMapping extends</th>\n",
       "      <td>1</td>\n",
       "    </tr>\n",
       "    <tr>\n",
       "      <th>a4cc33f384f75c30127ec5b76789cd0d</th>\n",
       "      <th>UNKNOWN_ERROR</th>\n",
       "      <th>Buildfile: build.xml does not exist! Build failed</th>\n",
       "      <td>1</td>\n",
       "    </tr>\n",
       "  </tbody>\n",
       "</table>\n",
       "</div>"
      ],
      "text/plain": [
       "                                                                                                   count\n",
       "key                              type          message                                                  \n",
       "1f111130064db34efbba96a01f6809f0 JAVA_ERROR    error: package com.google.javascript.jscomp.reg...      1\n",
       "a041081c632eb008489266c38ce448d0 JAVA_ERROR    error: LineMapping is not abstract and does not...      1\n",
       "a4cc33f384f75c30127ec5b76789cd0d UNKNOWN_ERROR Buildfile: build.xml does not exist! Build failed       1"
      ]
     },
     "execution_count": 15,
     "metadata": {},
     "output_type": "execute_result"
    }
   ],
   "source": [
    "df.groupby(['key', 'type', 'message']).agg({'count': 'sum'}).sort_values(by=['count'], ascending=False).head(30)"
   ]
  },
  {
   "cell_type": "code",
   "execution_count": 16,
   "metadata": {
    "collapsed": true
   },
   "outputs": [],
   "source": [
    "#json_df = df.to_json(\"data.json\",orient='records')"
   ]
  },
  {
   "cell_type": "code",
   "execution_count": 17,
   "metadata": {},
   "outputs": [
    {
     "ename": "KeyError",
     "evalue": "'a1061954ff6abcfc866f272ca9f90391'",
     "output_type": "error",
     "traceback": [
      "\u001b[0;31m---------------------------------------------------------------------------\u001b[0m",
      "\u001b[0;31mKeyError\u001b[0m                                  Traceback (most recent call last)",
      "\u001b[0;32m<ipython-input-17-fa5816f3eabe>\u001b[0m in \u001b[0;36m<module>\u001b[0;34m()\u001b[0m\n\u001b[1;32m      1\u001b[0m \u001b[0merror_id\u001b[0m \u001b[0;34m=\u001b[0m \u001b[0;34m\"a1061954ff6abcfc866f272ca9f90391\"\u001b[0m\u001b[0;34m\u001b[0m\u001b[0m\n\u001b[0;32m----> 2\u001b[0;31m \u001b[0merrors\u001b[0m\u001b[0;34m[\u001b[0m\u001b[0merror_id\u001b[0m\u001b[0;34m]\u001b[0m\u001b[0;34m[\u001b[0m\u001b[0;34m'commits'\u001b[0m\u001b[0;34m]\u001b[0m\u001b[0;34m[\u001b[0m\u001b[0;34m-\u001b[0m\u001b[0;36m1\u001b[0m\u001b[0;34m]\u001b[0m\u001b[0;34m\u001b[0m\u001b[0m\n\u001b[0m",
      "\u001b[0;31mKeyError\u001b[0m: 'a1061954ff6abcfc866f272ca9f90391'"
     ]
    }
   ],
   "source": [
    "# error_id = \"a1061954ff6abcfc866f272ca9f90391\"\n",
    "# errors[error_id]['commits'][-1]"
   ]
  },
  {
   "cell_type": "code",
   "execution_count": null,
   "metadata": {
    "collapsed": true
   },
   "outputs": [],
   "source": [
    "# commit_id=\"\"\n",
    "# csvDict[commit_id]"
   ]
  },
  {
   "cell_type": "code",
   "execution_count": null,
   "metadata": {
    "collapsed": true
   },
   "outputs": [],
   "source": [
    "success_commits = []\n",
    "for k,v in csvDict.items():\n",
    "    if v['build'] == \"SUCCESS\" and len(current_group)>0:\n",
    "        success_commits.append(v['commit'])\n",
    "len(success_commits)"
   ]
  },
  {
   "cell_type": "code",
   "execution_count": null,
   "metadata": {
    "collapsed": true
   },
   "outputs": [],
   "source": [
    "with open('success_commits.txt', 'w') as f:\n",
    "    for commit in success_commits:\n",
    "        f.write(\"%s\\n\" % commit)"
   ]
  }
 ],
 "metadata": {
  "kernelspec": {
   "display_name": "Python 3",
   "language": "python",
   "name": "python3"
  },
  "language_info": {
   "codemirror_mode": {
    "name": "ipython",
    "version": 3
   },
   "file_extension": ".py",
   "mimetype": "text/x-python",
   "name": "python",
   "nbconvert_exporter": "python",
   "pygments_lexer": "ipython3",
   "version": "3.6.2"
  }
 },
 "nbformat": 4,
 "nbformat_minor": 2
}
