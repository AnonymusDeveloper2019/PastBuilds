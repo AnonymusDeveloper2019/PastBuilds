{
 "cells": [
  {
   "cell_type": "code",
   "execution_count": 1,
   "metadata": {
    "collapsed": true
   },
   "outputs": [],
   "source": [
    "import csv\n",
    "import pandas as pd\n",
    "import matplotlib.pyplot as plt\n",
    "import re\n",
    "import hashlib\n",
    "import numpy as np"
   ]
  },
  {
   "cell_type": "code",
   "execution_count": 2,
   "metadata": {},
   "outputs": [
    {
     "data": {
      "text/html": [
       "<div>\n",
       "<style>\n",
       "    .dataframe thead tr:only-child th {\n",
       "        text-align: right;\n",
       "    }\n",
       "\n",
       "    .dataframe thead th {\n",
       "        text-align: left;\n",
       "    }\n",
       "\n",
       "    .dataframe tbody tr th {\n",
       "        vertical-align: top;\n",
       "    }\n",
       "</style>\n",
       "<table border=\"1\" class=\"dataframe\">\n",
       "  <thead>\n",
       "    <tr style=\"text-align: right;\">\n",
       "      <th></th>\n",
       "      <th>id</th>\n",
       "      <th>commit</th>\n",
       "      <th>build</th>\n",
       "      <th>exec_time</th>\n",
       "      <th>comment</th>\n",
       "      <th>fix</th>\n",
       "      <th>lastFix</th>\n",
       "    </tr>\n",
       "  </thead>\n",
       "  <tbody>\n",
       "    <tr>\n",
       "      <th>0</th>\n",
       "      <td>0</td>\n",
       "      <td>9a62b06</td>\n",
       "      <td>SUCCESS</td>\n",
       "      <td>25</td>\n",
       "      <td>Fix NPE in Partial.with()</td>\n",
       "      <td>{'lastFix': None}</td>\n",
       "      <td>NaN</td>\n",
       "    </tr>\n",
       "    <tr>\n",
       "      <th>1</th>\n",
       "      <td>1</td>\n",
       "      <td>8612f9e</td>\n",
       "      <td>SUCCESS</td>\n",
       "      <td>23</td>\n",
       "      <td>Fix NPE in Partial.with()</td>\n",
       "      <td>{'lastFix': None}</td>\n",
       "      <td>NaN</td>\n",
       "    </tr>\n",
       "    <tr>\n",
       "      <th>2</th>\n",
       "      <td>2</td>\n",
       "      <td>8d109fe</td>\n",
       "      <td>SUCCESS</td>\n",
       "      <td>23</td>\n",
       "      <td>Adding zero no longer changes the offset durin...</td>\n",
       "      <td>{'lastFix': None}</td>\n",
       "      <td>NaN</td>\n",
       "    </tr>\n",
       "    <tr>\n",
       "      <th>3</th>\n",
       "      <td>3</td>\n",
       "      <td>3ba9ba7</td>\n",
       "      <td>SUCCESS</td>\n",
       "      <td>22</td>\n",
       "      <td>Prevent creation of invalid partials via Parti...</td>\n",
       "      <td>{'lastFix': None}</td>\n",
       "      <td>NaN</td>\n",
       "    </tr>\n",
       "    <tr>\n",
       "      <th>4</th>\n",
       "      <td>4</td>\n",
       "      <td>bcb0446</td>\n",
       "      <td>SUCCESS</td>\n",
       "      <td>23</td>\n",
       "      <td>Fix NPE in DateTimeUtils.isContiguous with wei...</td>\n",
       "      <td>{'lastFix': None}</td>\n",
       "      <td>NaN</td>\n",
       "    </tr>\n",
       "  </tbody>\n",
       "</table>\n",
       "</div>"
      ],
      "text/plain": [
       "   id   commit    build  exec_time  \\\n",
       "0   0  9a62b06  SUCCESS         25   \n",
       "1   1  8612f9e  SUCCESS         23   \n",
       "2   2  8d109fe  SUCCESS         23   \n",
       "3   3  3ba9ba7  SUCCESS         22   \n",
       "4   4  bcb0446  SUCCESS         23   \n",
       "\n",
       "                                             comment                fix  \\\n",
       "0                          Fix NPE in Partial.with()  {'lastFix': None}   \n",
       "1                          Fix NPE in Partial.with()  {'lastFix': None}   \n",
       "2  Adding zero no longer changes the offset durin...  {'lastFix': None}   \n",
       "3  Prevent creation of invalid partials via Parti...  {'lastFix': None}   \n",
       "4  Fix NPE in DateTimeUtils.isContiguous with wei...  {'lastFix': None}   \n",
       "\n",
       "   lastFix  \n",
       "0      NaN  \n",
       "1      NaN  \n",
       "2      NaN  \n",
       "3      NaN  \n",
       "4      NaN  "
      ]
     },
     "execution_count": 2,
     "metadata": {},
     "output_type": "execute_result"
    }
   ],
   "source": [
    "data = pd.read_csv(\"report_step_1.csv\")\n",
    "data.head()"
   ]
  },
  {
   "cell_type": "markdown",
   "metadata": {},
   "source": [
    "## Calculamos el número de builds de cada tipo"
   ]
  },
  {
   "cell_type": "code",
   "execution_count": 3,
   "metadata": {},
   "outputs": [
    {
     "data": {
      "text/plain": [
       "id           246\n",
       "commit       246\n",
       "build        246\n",
       "exec_time    246\n",
       "comment      246\n",
       "fix          246\n",
       "lastFix        0\n",
       "dtype: int64"
      ]
     },
     "execution_count": 3,
     "metadata": {},
     "output_type": "execute_result"
    }
   ],
   "source": [
    "data[(data['build'] == 'SUCCESS')].count()"
   ]
  },
  {
   "cell_type": "code",
   "execution_count": 4,
   "metadata": {},
   "outputs": [
    {
     "data": {
      "text/plain": [
       "id           1471\n",
       "commit       1471\n",
       "build        1471\n",
       "exec_time    1471\n",
       "comment      1471\n",
       "fix          1471\n",
       "lastFix         0\n",
       "dtype: int64"
      ]
     },
     "execution_count": 4,
     "metadata": {},
     "output_type": "execute_result"
    }
   ],
   "source": [
    "# Movimiento del archivo POM\n",
    "data[(data['build'] == 'FAIL')].count()"
   ]
  },
  {
   "cell_type": "code",
   "execution_count": 5,
   "metadata": {},
   "outputs": [
    {
     "data": {
      "image/png": "[encoded data removed]",
      "text/plain": [
       "<matplotlib.figure.Figure at 0x7ff2e4510550>"
      ]
     },
     "metadata": {},
     "output_type": "display_data"
    }
   ],
   "source": [
    "def plot_histogram(total_commits, jump, limit, title):\n",
    "    fails_list=[]\n",
    "    success_list=[]\n",
    "    for index, row in data.iterrows():\n",
    "        if row['build'] == \"SUCCESS\":\n",
    "            success_list.append(row['id'])\n",
    "        else:\n",
    "            fails_list.append(row['id'])\n",
    "\n",
    "    bins = np.arange(0,total_commits,jump)\n",
    "\n",
    "    fig, ax = plt.subplots(figsize=(14, 4))\n",
    "    _, bins, patches = plt.hist([np.clip(success_list, bins[0], bins[-1]),\n",
    "                                 np.clip(fails_list, bins[0], bins[-1])],\n",
    "                                normed=1,  # normed is deprecated; replace with density\n",
    "                                stacked=True,\n",
    "                                #density=True,\n",
    "                                bins=bins, color=['#4b8869', '#a82e2e'], label=['SUCCESS', 'FAIL'])\n",
    "    \n",
    "    xlabels = bins[1:].astype(str)\n",
    "    xlabels[-1] += '+'\n",
    "\n",
    "    N_labels = len(xlabels)\n",
    "    \n",
    "    plt.xticks(jump * np.arange(N_labels) + jump/2)\n",
    "    ax.set_xticklabels(xlabels)\n",
    "\n",
    "    plt.yticks([])\n",
    "    plt.title(title, fontsize=20)\n",
    "    plt.setp(patches, linewidth=0)\n",
    "    plt.legend(loc='upper left', prop={'size': 16})\n",
    "\n",
    "    fig.tight_layout()\n",
    "    plt.xlim([0, limit])\n",
    "    plt.tick_params(axis='both', labelsize=14)\n",
    "    \n",
    "    plt.savefig('success_fail_hist.png')\n",
    "    plt.show()\n",
    "plot_histogram(1700,100,1500, \"Commit status history in Time project\")"
   ]
  },
  {
   "cell_type": "markdown",
   "metadata": {},
   "source": [
    "## Recogemos todos los fails y los separamos en grupos"
   ]
  },
  {
   "cell_type": "code",
   "execution_count": 6,
   "metadata": {
    "collapsed": true
   },
   "outputs": [],
   "source": [
    "import csv\n",
    "\n",
    "with open(\"report_step_1.csv\") as csvfile:\n",
    "    reader = csv.DictReader(csvfile)\n",
    "    csvDict = dict()\n",
    "    for row in reader:\n",
    "        csvDict[row['commit']] = row"
   ]
  },
  {
   "cell_type": "code",
   "execution_count": 7,
   "metadata": {
    "collapsed": true
   },
   "outputs": [],
   "source": [
    "groups_of_fails = []\n",
    "fails = []\n",
    "current_group = []\n",
    "for k,v in csvDict.items():\n",
    "    if v['build'] == \"SUCCESS\" and len(current_group)>0:\n",
    "        groups_of_fails.append(current_group)\n",
    "        current_group = []\n",
    "    if v['build'] == \"FAIL\":\n",
    "        current_group.append(v)\n",
    "        fails.append(v)\n",
    "if len(current_group)>0:\n",
    "    groups_of_fails.append(current_group)"
   ]
  },
  {
   "cell_type": "code",
   "execution_count": 8,
   "metadata": {
    "collapsed": true
   },
   "outputs": [],
   "source": [
    "moreThan100 = []\n",
    "for g in groups_of_fails:\n",
    "    if len(g) > 100:\n",
    "        moreThan100.append(g)"
   ]
  },
  {
   "cell_type": "code",
   "execution_count": 9,
   "metadata": {
    "scrolled": true
   },
   "outputs": [
    {
     "data": {
      "text/plain": [
       "1"
      ]
     },
     "execution_count": 9,
     "metadata": {},
     "output_type": "execute_result"
    }
   ],
   "source": [
    "len(groups_of_fails)"
   ]
  },
  {
   "cell_type": "markdown",
   "metadata": {},
   "source": [
    "## Obtenemos los logs de cada commit con build fail"
   ]
  },
  {
   "cell_type": "code",
   "execution_count": 10,
   "metadata": {
    "collapsed": true
   },
   "outputs": [],
   "source": [
    "for fail in fails:\n",
    "    with open(\"logs/%s-%s.log\"%(fail['id'], fail['commit'])) as f: \n",
    "        r_data = f.read()\n",
    "        fail['log'] = r_data"
   ]
  },
  {
   "cell_type": "markdown",
   "metadata": {},
   "source": [
    "## Agrupamos los commits por sus logs"
   ]
  },
  {
   "cell_type": "code",
   "execution_count": 11,
   "metadata": {
    "collapsed": true
   },
   "outputs": [],
   "source": [
    "def cleanLog(text):\n",
    "    return text.replace('\\n', ' ').replace('\\t', ' ')"
   ]
  },
  {
   "cell_type": "code",
   "execution_count": 12,
   "metadata": {
    "collapsed": true
   },
   "outputs": [],
   "source": [
    "errors=dict()\n",
    "def addError(error_type, error_text, commit):\n",
    "    hash_object = hashlib.md5(error_text.encode())\n",
    "    hash_key = hash_object.hexdigest()\n",
    "    if hash_key in errors:\n",
    "        errors[hash_key]['count'] +=1\n",
    "        errors[hash_key]['commits'].append(commit)\n",
    "    else:\n",
    "        errors[hash_key] = {\n",
    "            'key': hash_key,\n",
    "            'type': error_type,\n",
    "            'message': cleanLog(error_text),\n",
    "            'commits': [commit],\n",
    "            'count': 1\n",
    "        }\n",
    "    "
   ]
  },
  {
   "cell_type": "code",
   "execution_count": 13,
   "metadata": {
    "collapsed": true
   },
   "outputs": [],
   "source": [
    "for fail in fails:\n",
    "    \n",
    "    detected = False\n",
    "    \n",
    "    for e in re.finditer('Plugin .* or one of its dependencies could not be resolved', fail['log']):\n",
    "        addError(\"DEPENDENCY_ERROR\", e.group(0), fail['commit'])\n",
    "        detected = True\n",
    "        break\n",
    "    if detected: continue\n",
    "        \n",
    "    for no_pom_error in re.finditer('there is no POM in this directory', fail['log']):\n",
    "        addError(\"NO_POM_ERROR\", no_pom_error.group(0), fail['commit'])\n",
    "        detected = True\n",
    "        break\n",
    "    if detected: continue\n",
    "        \n",
    "    if not detected:\n",
    "        addError(\"UNKNOWN_ERROR\", fail['log'], fail['commit'])"
   ]
  },
  {
   "cell_type": "code",
   "execution_count": 14,
   "metadata": {},
   "outputs": [
    {
     "data": {
      "text/html": [
       "<div>\n",
       "<style>\n",
       "    .dataframe thead tr:only-child th {\n",
       "        text-align: right;\n",
       "    }\n",
       "\n",
       "    .dataframe thead th {\n",
       "        text-align: left;\n",
       "    }\n",
       "\n",
       "    .dataframe tbody tr th {\n",
       "        vertical-align: top;\n",
       "    }\n",
       "</style>\n",
       "<table border=\"1\" class=\"dataframe\">\n",
       "  <thead>\n",
       "    <tr style=\"text-align: right;\">\n",
       "      <th></th>\n",
       "      <th>count</th>\n",
       "    </tr>\n",
       "    <tr>\n",
       "      <th>type</th>\n",
       "      <th></th>\n",
       "    </tr>\n",
       "  </thead>\n",
       "  <tbody>\n",
       "    <tr>\n",
       "      <th>NO_POM_ERROR</th>\n",
       "      <td>1415</td>\n",
       "    </tr>\n",
       "    <tr>\n",
       "      <th>UNKNOWN_ERROR</th>\n",
       "      <td>56</td>\n",
       "    </tr>\n",
       "  </tbody>\n",
       "</table>\n",
       "</div>"
      ],
      "text/plain": [
       "               count\n",
       "type                \n",
       "NO_POM_ERROR    1415\n",
       "UNKNOWN_ERROR     56"
      ]
     },
     "execution_count": 14,
     "metadata": {},
     "output_type": "execute_result"
    }
   ],
   "source": [
    "df = pd.DataFrame.from_dict(errors, orient='index')\n",
    "df.groupby(['type']).agg({'count': 'sum'})"
   ]
  },
  {
   "cell_type": "code",
   "execution_count": 15,
   "metadata": {},
   "outputs": [
    {
     "data": {
      "text/html": [
       "<div>\n",
       "<style>\n",
       "    .dataframe thead tr:only-child th {\n",
       "        text-align: right;\n",
       "    }\n",
       "\n",
       "    .dataframe thead th {\n",
       "        text-align: left;\n",
       "    }\n",
       "\n",
       "    .dataframe tbody tr th {\n",
       "        vertical-align: top;\n",
       "    }\n",
       "</style>\n",
       "<table border=\"1\" class=\"dataframe\">\n",
       "  <thead>\n",
       "    <tr style=\"text-align: right;\">\n",
       "      <th></th>\n",
       "      <th></th>\n",
       "      <th></th>\n",
       "      <th>count</th>\n",
       "    </tr>\n",
       "    <tr>\n",
       "      <th>key</th>\n",
       "      <th>type</th>\n",
       "      <th>message</th>\n",
       "      <th></th>\n",
       "    </tr>\n",
       "  </thead>\n",
       "  <tbody>\n",
       "    <tr>\n",
       "      <th>25fe7d356a79255e6eb2a6bca03a5f19</th>\n",
       "      <th>NO_POM_ERROR</th>\n",
       "      <th>there is no POM in this directory</th>\n",
       "      <td>1415</td>\n",
       "    </tr>\n",
       "    <tr>\n",
       "      <th>53b247a1f95b27be88ca19fec71cc133</th>\n",
       "      <th>UNKNOWN_ERROR</th>\n",
       "      <th>[INFO] Scanning for projects... Downloading from central: https://repo.maven.apache.org/maven2/org/apache/maven/wagon/wagon-ssh-external/1.0-alpha-5/wagon-ssh-external-1.0-alpha-5.pom [ERROR] [ERROR] Some problems were encountered while processing the POMs: [WARNING] 'build.plugins.plugin.(groupId:artifactId)' must be unique but found duplicate declaration of plugin org.apache.maven.plugins:maven-source-plugin @ line 244, column 15 [WARNING] 'build.plugins.plugin.(groupId:artifactId)' must be unique but found duplicate declaration of plugin org.apache.maven.plugins:maven-javadoc-plugin @ line 256, column 15 [WARNING] 'build.plugins.plugin.version' for org.apache.maven.plugins:maven-javadoc-plugin is missing. @ line 256, column 15 [WARNING] 'build.plugins.plugin.version' for org.apache.maven.plugins:maven-compiler-plugin is missing. @ line 188, column 15 [WARNING] 'build.plugins.plugin.version' for org.apache.maven.plugins:maven-surefire-plugin is missing. @ line 235, column 15 [WARNING] 'build.plugins.plugin.version' for org.apache.maven.plugins:maven-source-plugin is missing. @ line 244, column 15 [WARNING] 'build.plugins.plugin.version' for org.apache.maven.plugins:maven-jar-plugin is missing. @ line 199, column 15 [ERROR] Unresolveable build extension: Plugin org.apache.maven.wagon:wagon-ssh-external:1.0-alpha-5 or one of its dependencies could not be resolved: Failed to read artifact descriptor for org.apache.maven.wagon:wagon-ssh-external:jar:1.0-alpha-5 @  [WARNING] 'dependencies.dependency.scope' for org.apache.maven.doxia:doxia-core:jar must be one of [provided, compile, runtime, test, system] but is 'site'. @ line 296, column 14  @  [ERROR] The build could not read 1 project -&gt; [Help 1] [ERROR]    [ERROR]   The project joda-time:joda-time:1.5 (/home/ubuntu/bugs/projects/Time/pom.xml) has 1 error [ERROR]     Unresolveable build extension: Plugin org.apache.maven.wagon:wagon-ssh-external:1.0-alpha-5 or one of its dependencies could not be resolved: Failed to read artifact descriptor for org.apache.maven.wagon:wagon-ssh-external:jar:1.0-alpha-5: Could not transfer artifact org.apache.maven.wagon:wagon-ssh-external:pom:1.0-alpha-5 from/to central (https://repo.maven.apache.org/maven2): Received fatal alert: protocol_version -&gt; [Help 2] [ERROR]  [ERROR] To see the full stack trace of the errors, re-run Maven with the -e switch. [ERROR] Re-run Maven using the -X switch to enable full debug logging. [ERROR]  [ERROR] For more information about the errors and possible solutions, please read the following articles: [ERROR] [Help 1] http://cwiki.apache.org/confluence/display/MAVEN/ProjectBuildingException [ERROR] [Help 2] http://cwiki.apache.org/confluence/display/MAVEN/PluginManagerException</th>\n",
       "      <td>5</td>\n",
       "    </tr>\n",
       "    <tr>\n",
       "      <th>0890c59417bb545c2d35429e12dc9cf7</th>\n",
       "      <th>UNKNOWN_ERROR</th>\n",
       "      <th>[INFO] Scanning for projects... [WARNING]  [WARNING] Some problems were encountered while building the effective model for joda-time:joda-time:jar:2.0 [WARNING] The expression ${pom.build.outputDirectory} is deprecated. Please use ${project.build.outputDirectory} instead. [WARNING] The expression ${pom.build.sourceDirectory} is deprecated. Please use ${project.build.sourceDirectory} instead. [WARNING] The expression ${pom.build.outputDirectory} is deprecated. Please use ${project.build.outputDirectory} instead. [WARNING]  [WARNING] It is highly recommended to fix these problems because they threaten the stability of your build. [WARNING]  [WARNING] For this reason, future Maven versions might no longer support building such malformed projects. [WARNING]  [INFO]  [INFO] ------------------------&lt; joda-time:joda-time &gt;------------------------- [INFO] Building Joda time 2.0 [INFO] --------------------------------[ jar ]--------------------------------- Downloading from central: https://repo.maven.apache.org/maven2/org/apache/maven/plugins/maven-toolchains-plugin/1.0/maven-toolchains-plugin-1.0.pom [INFO] ------------------------------------------------------------------------ [INFO] BUILD FAILURE [INFO] ------------------------------------------------------------------------ [INFO] Total time: 0.962 s [INFO] Finished at: 2019-01-23T17:12:44Z [INFO] ------------------------------------------------------------------------ [ERROR] Plugin org.apache.maven.plugins:maven-toolchains-plugin:1.0 or one of its dependencies could not be resolved: Failed to read artifact descriptor for org.apache.maven.plugins:maven-toolchains-plugin:jar:1.0: Could not transfer artifact org.apache.maven.plugins:maven-toolchains-plugin:pom:1.0 from/to central (https://repo.maven.apache.org/maven2): Received fatal alert: protocol_version -&gt; [Help 1] [ERROR]  [ERROR] To see the full stack trace of the errors, re-run Maven with the -e switch. [ERROR] Re-run Maven using the -X switch to enable full debug logging. [ERROR]  [ERROR] For more information about the errors and possible solutions, please read the following articles: [ERROR] [Help 1] http://cwiki.apache.org/confluence/display/MAVEN/PluginResolutionException</th>\n",
       "      <td>1</td>\n",
       "    </tr>\n",
       "    <tr>\n",
       "      <th>b44a4a792d7984ba710eef139d92b744</th>\n",
       "      <th>UNKNOWN_ERROR</th>\n",
       "      <th>[INFO] Scanning for projects... [WARNING]  [WARNING] Some problems were encountered while building the effective model for joda-time:joda-time:jar:2.0 [WARNING] The expression ${pom.build.sourceDirectory} is deprecated. Please use ${project.build.sourceDirectory} instead. [WARNING] The expression ${pom.build.outputDirectory} is deprecated. Please use ${project.build.outputDirectory} instead. [WARNING]  [WARNING] It is highly recommended to fix these problems because they threaten the stability of your build. [WARNING]  [WARNING] For this reason, future Maven versions might no longer support building such malformed projects. [WARNING]  [INFO]  [INFO] ------------------------&lt; joda-time:joda-time &gt;------------------------- [INFO] Building Joda time 2.0 [INFO] --------------------------------[ jar ]--------------------------------- Downloading from central: https://repo.maven.apache.org/maven2/org/apache/maven/plugins/maven-toolchains-plugin/1.0/maven-toolchains-plugin-1.0.pom [INFO] ------------------------------------------------------------------------ [INFO] BUILD FAILURE [INFO] ------------------------------------------------------------------------ [INFO] Total time: 0.849 s [INFO] Finished at: 2019-01-23T17:10:50Z [INFO] ------------------------------------------------------------------------ [ERROR] Plugin org.apache.maven.plugins:maven-toolchains-plugin:1.0 or one of its dependencies could not be resolved: Failed to read artifact descriptor for org.apache.maven.plugins:maven-toolchains-plugin:jar:1.0: Could not transfer artifact org.apache.maven.plugins:maven-toolchains-plugin:pom:1.0 from/to central (https://repo.maven.apache.org/maven2): Received fatal alert: protocol_version -&gt; [Help 1] [ERROR]  [ERROR] To see the full stack trace of the errors, re-run Maven with the -e switch. [ERROR] Re-run Maven using the -X switch to enable full debug logging. [ERROR]  [ERROR] For more information about the errors and possible solutions, please read the following articles: [ERROR] [Help 1] http://cwiki.apache.org/confluence/display/MAVEN/PluginResolutionException</th>\n",
       "      <td>1</td>\n",
       "    </tr>\n",
       "    <tr>\n",
       "      <th>95ca3ec8fb1a4d01e114c6b3bde9f217</th>\n",
       "      <th>UNKNOWN_ERROR</th>\n",
       "      <th>[INFO] Scanning for projects... [WARNING]  [WARNING] Some problems were encountered while building the effective model for joda-time:joda-time:jar:2.0 [WARNING] The expression ${pom.build.outputDirectory} is deprecated. Please use ${project.build.outputDirectory} instead. [WARNING] The expression ${pom.build.sourceDirectory} is deprecated. Please use ${project.build.sourceDirectory} instead. [WARNING] The expression ${pom.build.outputDirectory} is deprecated. Please use ${project.build.outputDirectory} instead. [WARNING]  [WARNING] It is highly recommended to fix these problems because they threaten the stability of your build. [WARNING]  [WARNING] For this reason, future Maven versions might no longer support building such malformed projects. [WARNING]  [INFO]  [INFO] ------------------------&lt; joda-time:joda-time &gt;------------------------- [INFO] Building Joda time 2.0 [INFO] --------------------------------[ jar ]--------------------------------- Downloading from central: https://repo.maven.apache.org/maven2/org/apache/maven/plugins/maven-toolchains-plugin/1.0/maven-toolchains-plugin-1.0.pom [INFO] ------------------------------------------------------------------------ [INFO] BUILD FAILURE [INFO] ------------------------------------------------------------------------ [INFO] Total time: 0.948 s [INFO] Finished at: 2019-01-23T17:12:34Z [INFO] ------------------------------------------------------------------------ [ERROR] Plugin org.apache.maven.plugins:maven-toolchains-plugin:1.0 or one of its dependencies could not be resolved: Failed to read artifact descriptor for org.apache.maven.plugins:maven-toolchains-plugin:jar:1.0: Could not transfer artifact org.apache.maven.plugins:maven-toolchains-plugin:pom:1.0 from/to central (https://repo.maven.apache.org/maven2): Received fatal alert: protocol_version -&gt; [Help 1] [ERROR]  [ERROR] To see the full stack trace of the errors, re-run Maven with the -e switch. [ERROR] Re-run Maven using the -X switch to enable full debug logging. [ERROR]  [ERROR] For more information about the errors and possible solutions, please read the following articles: [ERROR] [Help 1] http://cwiki.apache.org/confluence/display/MAVEN/PluginResolutionException</th>\n",
       "      <td>1</td>\n",
       "    </tr>\n",
       "    <tr>\n",
       "      <th>98295afce827d62dfe3586d246f994c8</th>\n",
       "      <th>UNKNOWN_ERROR</th>\n",
       "      <th>[INFO] Scanning for projects... [WARNING]  [WARNING] Some problems were encountered while building the effective model for joda-time:joda-time:jar:2.0 [WARNING] The expression ${pom.build.outputDirectory} is deprecated. Please use ${project.build.outputDirectory} instead. [WARNING] The expression ${pom.build.sourceDirectory} is deprecated. Please use ${project.build.sourceDirectory} instead. [WARNING] The expression ${pom.build.outputDirectory} is deprecated. Please use ${project.build.outputDirectory} instead. [WARNING]  [WARNING] It is highly recommended to fix these problems because they threaten the stability of your build. [WARNING]  [WARNING] For this reason, future Maven versions might no longer support building such malformed projects. [WARNING]  [INFO]  [INFO] ------------------------&lt; joda-time:joda-time &gt;------------------------- [INFO] Building Joda time 2.0 [INFO] --------------------------------[ jar ]--------------------------------- Downloading from central: https://repo.maven.apache.org/maven2/org/apache/maven/plugins/maven-toolchains-plugin/1.0/maven-toolchains-plugin-1.0.pom [INFO] ------------------------------------------------------------------------ [INFO] BUILD FAILURE [INFO] ------------------------------------------------------------------------ [INFO] Total time: 0.850 s [INFO] Finished at: 2019-01-23T17:11:59Z [INFO] ------------------------------------------------------------------------ [ERROR] Plugin org.apache.maven.plugins:maven-toolchains-plugin:1.0 or one of its dependencies could not be resolved: Failed to read artifact descriptor for org.apache.maven.plugins:maven-toolchains-plugin:jar:1.0: Could not transfer artifact org.apache.maven.plugins:maven-toolchains-plugin:pom:1.0 from/to central (https://repo.maven.apache.org/maven2): Received fatal alert: protocol_version -&gt; [Help 1] [ERROR]  [ERROR] To see the full stack trace of the errors, re-run Maven with the -e switch. [ERROR] Re-run Maven using the -X switch to enable full debug logging. [ERROR]  [ERROR] For more information about the errors and possible solutions, please read the following articles: [ERROR] [Help 1] http://cwiki.apache.org/confluence/display/MAVEN/PluginResolutionException</th>\n",
       "      <td>1</td>\n",
       "    </tr>\n",
       "    <tr>\n",
       "      <th>9bad2465597e97a5a3077d1528c4c5f6</th>\n",
       "      <th>UNKNOWN_ERROR</th>\n",
       "      <th>[INFO] Scanning for projects... [WARNING]  [WARNING] Some problems were encountered while building the effective model for joda-time:joda-time:jar:2.0 [WARNING] The expression ${pom.build.outputDirectory} is deprecated. Please use ${project.build.outputDirectory} instead. [WARNING] The expression ${pom.build.sourceDirectory} is deprecated. Please use ${project.build.sourceDirectory} instead. [WARNING] The expression ${pom.build.outputDirectory} is deprecated. Please use ${project.build.outputDirectory} instead. [WARNING]  [WARNING] It is highly recommended to fix these problems because they threaten the stability of your build. [WARNING]  [WARNING] For this reason, future Maven versions might no longer support building such malformed projects. [WARNING]  [INFO]  [INFO] ------------------------&lt; joda-time:joda-time &gt;------------------------- [INFO] Building Joda time 2.0 [INFO] --------------------------------[ jar ]--------------------------------- Downloading from central: https://repo.maven.apache.org/maven2/org/apache/maven/plugins/maven-toolchains-plugin/1.0/maven-toolchains-plugin-1.0.pom [INFO] ------------------------------------------------------------------------ [INFO] BUILD FAILURE [INFO] ------------------------------------------------------------------------ [INFO] Total time: 0.865 s [INFO] Finished at: 2019-01-23T17:12:28Z [INFO] ------------------------------------------------------------------------ [ERROR] Plugin org.apache.maven.plugins:maven-toolchains-plugin:1.0 or one of its dependencies could not be resolved: Failed to read artifact descriptor for org.apache.maven.plugins:maven-toolchains-plugin:jar:1.0: Could not transfer artifact org.apache.maven.plugins:maven-toolchains-plugin:pom:1.0 from/to central (https://repo.maven.apache.org/maven2): Received fatal alert: protocol_version -&gt; [Help 1] [ERROR]  [ERROR] To see the full stack trace of the errors, re-run Maven with the -e switch. [ERROR] Re-run Maven using the -X switch to enable full debug logging. [ERROR]  [ERROR] For more information about the errors and possible solutions, please read the following articles: [ERROR] [Help 1] http://cwiki.apache.org/confluence/display/MAVEN/PluginResolutionException</th>\n",
       "      <td>1</td>\n",
       "    </tr>\n",
       "    <tr>\n",
       "      <th>9f1dffcb9cc37bf2df0deaa79d023805</th>\n",
       "      <th>UNKNOWN_ERROR</th>\n",
       "      <th>[INFO] Scanning for projects... [WARNING]  [WARNING] Some problems were encountered while building the effective model for joda-time:joda-time:jar:2.0 [WARNING] The expression ${pom.build.outputDirectory} is deprecated. Please use ${project.build.outputDirectory} instead. [WARNING] The expression ${pom.build.sourceDirectory} is deprecated. Please use ${project.build.sourceDirectory} instead. [WARNING] The expression ${pom.build.outputDirectory} is deprecated. Please use ${project.build.outputDirectory} instead. [WARNING]  [WARNING] It is highly recommended to fix these problems because they threaten the stability of your build. [WARNING]  [WARNING] For this reason, future Maven versions might no longer support building such malformed projects. [WARNING]  [INFO]  [INFO] ------------------------&lt; joda-time:joda-time &gt;------------------------- [INFO] Building Joda time 2.0 [INFO] --------------------------------[ jar ]--------------------------------- Downloading from central: https://repo.maven.apache.org/maven2/org/apache/maven/plugins/maven-toolchains-plugin/1.0/maven-toolchains-plugin-1.0.pom [INFO] ------------------------------------------------------------------------ [INFO] BUILD FAILURE [INFO] ------------------------------------------------------------------------ [INFO] Total time: 0.893 s [INFO] Finished at: 2019-01-23T17:13:03Z [INFO] ------------------------------------------------------------------------ [ERROR] Plugin org.apache.maven.plugins:maven-toolchains-plugin:1.0 or one of its dependencies could not be resolved: Failed to read artifact descriptor for org.apache.maven.plugins:maven-toolchains-plugin:jar:1.0: Could not transfer artifact org.apache.maven.plugins:maven-toolchains-plugin:pom:1.0 from/to central (https://repo.maven.apache.org/maven2): Received fatal alert: protocol_version -&gt; [Help 1] [ERROR]  [ERROR] To see the full stack trace of the errors, re-run Maven with the -e switch. [ERROR] Re-run Maven using the -X switch to enable full debug logging. [ERROR]  [ERROR] For more information about the errors and possible solutions, please read the following articles: [ERROR] [Help 1] http://cwiki.apache.org/confluence/display/MAVEN/PluginResolutionException</th>\n",
       "      <td>1</td>\n",
       "    </tr>\n",
       "    <tr>\n",
       "      <th>a47c38b386d39c7d5fe6b8999da9944d</th>\n",
       "      <th>UNKNOWN_ERROR</th>\n",
       "      <th>[INFO] Scanning for projects... [WARNING]  [WARNING] Some problems were encountered while building the effective model for joda-time:joda-time:jar:2.0 [WARNING] The expression ${pom.build.outputDirectory} is deprecated. Please use ${project.build.outputDirectory} instead. [WARNING] The expression ${pom.build.sourceDirectory} is deprecated. Please use ${project.build.sourceDirectory} instead. [WARNING] The expression ${pom.build.outputDirectory} is deprecated. Please use ${project.build.outputDirectory} instead. [WARNING]  [WARNING] It is highly recommended to fix these problems because they threaten the stability of your build. [WARNING]  [WARNING] For this reason, future Maven versions might no longer support building such malformed projects. [WARNING]  [INFO]  [INFO] ------------------------&lt; joda-time:joda-time &gt;------------------------- [INFO] Building Joda time 2.0 [INFO] --------------------------------[ jar ]--------------------------------- Downloading from central: https://repo.maven.apache.org/maven2/org/apache/maven/plugins/maven-toolchains-plugin/1.0/maven-toolchains-plugin-1.0.pom [INFO] ------------------------------------------------------------------------ [INFO] BUILD FAILURE [INFO] ------------------------------------------------------------------------ [INFO] Total time: 0.914 s [INFO] Finished at: 2019-01-23T17:12:50Z [INFO] ------------------------------------------------------------------------ [ERROR] Plugin org.apache.maven.plugins:maven-toolchains-plugin:1.0 or one of its dependencies could not be resolved: Failed to read artifact descriptor for org.apache.maven.plugins:maven-toolchains-plugin:jar:1.0: Could not transfer artifact org.apache.maven.plugins:maven-toolchains-plugin:pom:1.0 from/to central (https://repo.maven.apache.org/maven2): Received fatal alert: protocol_version -&gt; [Help 1] [ERROR]  [ERROR] To see the full stack trace of the errors, re-run Maven with the -e switch. [ERROR] Re-run Maven using the -X switch to enable full debug logging. [ERROR]  [ERROR] For more information about the errors and possible solutions, please read the following articles: [ERROR] [Help 1] http://cwiki.apache.org/confluence/display/MAVEN/PluginResolutionException</th>\n",
       "      <td>1</td>\n",
       "    </tr>\n",
       "    <tr>\n",
       "      <th>a6003a9a80142df87263a50cc1db65b7</th>\n",
       "      <th>UNKNOWN_ERROR</th>\n",
       "      <th>[INFO] Scanning for projects... [WARNING]  [WARNING] Some problems were encountered while building the effective model for joda-time:joda-time:jar:2.0 [WARNING] The expression ${pom.build.sourceDirectory} is deprecated. Please use ${project.build.sourceDirectory} instead. [WARNING] The expression ${pom.build.outputDirectory} is deprecated. Please use ${project.build.outputDirectory} instead. [WARNING]  [WARNING] It is highly recommended to fix these problems because they threaten the stability of your build. [WARNING]  [WARNING] For this reason, future Maven versions might no longer support building such malformed projects. [WARNING]  [INFO]  [INFO] ------------------------&lt; joda-time:joda-time &gt;------------------------- [INFO] Building Joda time 2.0 [INFO] --------------------------------[ jar ]--------------------------------- Downloading from central: https://repo.maven.apache.org/maven2/org/apache/maven/plugins/maven-toolchains-plugin/1.0/maven-toolchains-plugin-1.0.pom [INFO] ------------------------------------------------------------------------ [INFO] BUILD FAILURE [INFO] ------------------------------------------------------------------------ [INFO] Total time: 0.859 s [INFO] Finished at: 2019-01-23T17:10:40Z [INFO] ------------------------------------------------------------------------ [ERROR] Plugin org.apache.maven.plugins:maven-toolchains-plugin:1.0 or one of its dependencies could not be resolved: Failed to read artifact descriptor for org.apache.maven.plugins:maven-toolchains-plugin:jar:1.0: Could not transfer artifact org.apache.maven.plugins:maven-toolchains-plugin:pom:1.0 from/to central (https://repo.maven.apache.org/maven2): Received fatal alert: protocol_version -&gt; [Help 1] [ERROR]  [ERROR] To see the full stack trace of the errors, re-run Maven with the -e switch. [ERROR] Re-run Maven using the -X switch to enable full debug logging. [ERROR]  [ERROR] For more information about the errors and possible solutions, please read the following articles: [ERROR] [Help 1] http://cwiki.apache.org/confluence/display/MAVEN/PluginResolutionException</th>\n",
       "      <td>1</td>\n",
       "    </tr>\n",
       "    <tr>\n",
       "      <th>a93f9e06653638ebd81da5c9c84d17ba</th>\n",
       "      <th>UNKNOWN_ERROR</th>\n",
       "      <th>[INFO] Scanning for projects... [WARNING]  [WARNING] Some problems were encountered while building the effective model for joda-time:joda-time:jar:2.0 [WARNING] The expression ${pom.build.sourceDirectory} is deprecated. Please use ${project.build.sourceDirectory} instead. [WARNING] The expression ${pom.build.outputDirectory} is deprecated. Please use ${project.build.outputDirectory} instead. [WARNING]  [WARNING] It is highly recommended to fix these problems because they threaten the stability of your build. [WARNING]  [WARNING] For this reason, future Maven versions might no longer support building such malformed projects. [WARNING]  [INFO]  [INFO] ------------------------&lt; joda-time:joda-time &gt;------------------------- [INFO] Building Joda time 2.0 [INFO] --------------------------------[ jar ]--------------------------------- Downloading from central: https://repo.maven.apache.org/maven2/org/apache/maven/plugins/maven-toolchains-plugin/1.0/maven-toolchains-plugin-1.0.pom [INFO] ------------------------------------------------------------------------ [INFO] BUILD FAILURE [INFO] ------------------------------------------------------------------------ [INFO] Total time: 0.895 s [INFO] Finished at: 2019-01-23T17:11:39Z [INFO] ------------------------------------------------------------------------ [ERROR] Plugin org.apache.maven.plugins:maven-toolchains-plugin:1.0 or one of its dependencies could not be resolved: Failed to read artifact descriptor for org.apache.maven.plugins:maven-toolchains-plugin:jar:1.0: Could not transfer artifact org.apache.maven.plugins:maven-toolchains-plugin:pom:1.0 from/to central (https://repo.maven.apache.org/maven2): Received fatal alert: protocol_version -&gt; [Help 1] [ERROR]  [ERROR] To see the full stack trace of the errors, re-run Maven with the -e switch. [ERROR] Re-run Maven using the -X switch to enable full debug logging. [ERROR]  [ERROR] For more information about the errors and possible solutions, please read the following articles: [ERROR] [Help 1] http://cwiki.apache.org/confluence/display/MAVEN/PluginResolutionException</th>\n",
       "      <td>1</td>\n",
       "    </tr>\n",
       "    <tr>\n",
       "      <th>b176e6c19e3aaba4c66d705f7df64d11</th>\n",
       "      <th>UNKNOWN_ERROR</th>\n",
       "      <th>[INFO] Scanning for projects... [WARNING]  [WARNING] Some problems were encountered while building the effective model for joda-time:joda-time:jar:2.0 [WARNING] The expression ${pom.build.outputDirectory} is deprecated. Please use ${project.build.outputDirectory} instead. [WARNING] The expression ${pom.build.sourceDirectory} is deprecated. Please use ${project.build.sourceDirectory} instead. [WARNING] The expression ${pom.build.outputDirectory} is deprecated. Please use ${project.build.outputDirectory} instead. [WARNING]  [WARNING] It is highly recommended to fix these problems because they threaten the stability of your build. [WARNING]  [WARNING] For this reason, future Maven versions might no longer support building such malformed projects. [WARNING]  [INFO]  [INFO] ------------------------&lt; joda-time:joda-time &gt;------------------------- [INFO] Building Joda time 2.0 [INFO] --------------------------------[ jar ]--------------------------------- Downloading from central: https://repo.maven.apache.org/maven2/org/apache/maven/plugins/maven-toolchains-plugin/1.0/maven-toolchains-plugin-1.0.pom [INFO] ------------------------------------------------------------------------ [INFO] BUILD FAILURE [INFO] ------------------------------------------------------------------------ [INFO] Total time: 0.835 s [INFO] Finished at: 2019-01-23T17:13:00Z [INFO] ------------------------------------------------------------------------ [ERROR] Plugin org.apache.maven.plugins:maven-toolchains-plugin:1.0 or one of its dependencies could not be resolved: Failed to read artifact descriptor for org.apache.maven.plugins:maven-toolchains-plugin:jar:1.0: Could not transfer artifact org.apache.maven.plugins:maven-toolchains-plugin:pom:1.0 from/to central (https://repo.maven.apache.org/maven2): Received fatal alert: protocol_version -&gt; [Help 1] [ERROR]  [ERROR] To see the full stack trace of the errors, re-run Maven with the -e switch. [ERROR] Re-run Maven using the -X switch to enable full debug logging. [ERROR]  [ERROR] For more information about the errors and possible solutions, please read the following articles: [ERROR] [Help 1] http://cwiki.apache.org/confluence/display/MAVEN/PluginResolutionException</th>\n",
       "      <td>1</td>\n",
       "    </tr>\n",
       "    <tr>\n",
       "      <th>b3118ca1814c58ed12e4cf9bf61c4394</th>\n",
       "      <th>UNKNOWN_ERROR</th>\n",
       "      <th>[INFO] Scanning for projects... [WARNING]  [WARNING] Some problems were encountered while building the effective model for joda-time:joda-time:jar:2.0 [WARNING] The expression ${pom.build.outputDirectory} is deprecated. Please use ${project.build.outputDirectory} instead. [WARNING] The expression ${pom.build.sourceDirectory} is deprecated. Please use ${project.build.sourceDirectory} instead. [WARNING] The expression ${pom.build.outputDirectory} is deprecated. Please use ${project.build.outputDirectory} instead. [WARNING]  [WARNING] It is highly recommended to fix these problems because they threaten the stability of your build. [WARNING]  [WARNING] For this reason, future Maven versions might no longer support building such malformed projects. [WARNING]  [INFO]  [INFO] ------------------------&lt; joda-time:joda-time &gt;------------------------- [INFO] Building Joda time 2.0 [INFO] --------------------------------[ jar ]--------------------------------- Downloading from central: https://repo.maven.apache.org/maven2/org/apache/maven/plugins/maven-toolchains-plugin/1.0/maven-toolchains-plugin-1.0.pom [INFO] ------------------------------------------------------------------------ [INFO] BUILD FAILURE [INFO] ------------------------------------------------------------------------ [INFO] Total time: 0.863 s [INFO] Finished at: 2019-01-23T17:11:55Z [INFO] ------------------------------------------------------------------------ [ERROR] Plugin org.apache.maven.plugins:maven-toolchains-plugin:1.0 or one of its dependencies could not be resolved: Failed to read artifact descriptor for org.apache.maven.plugins:maven-toolchains-plugin:jar:1.0: Could not transfer artifact org.apache.maven.plugins:maven-toolchains-plugin:pom:1.0 from/to central (https://repo.maven.apache.org/maven2): Received fatal alert: protocol_version -&gt; [Help 1] [ERROR]  [ERROR] To see the full stack trace of the errors, re-run Maven with the -e switch. [ERROR] Re-run Maven using the -X switch to enable full debug logging. [ERROR]  [ERROR] For more information about the errors and possible solutions, please read the following articles: [ERROR] [Help 1] http://cwiki.apache.org/confluence/display/MAVEN/PluginResolutionException</th>\n",
       "      <td>1</td>\n",
       "    </tr>\n",
       "    <tr>\n",
       "      <th>b34d2980d76a2360c0f2460f1caab319</th>\n",
       "      <th>UNKNOWN_ERROR</th>\n",
       "      <th>[INFO] Scanning for projects... [WARNING]  [WARNING] Some problems were encountered while building the effective model for joda-time:joda-time:jar:2.0 [WARNING] The expression ${pom.build.outputDirectory} is deprecated. Please use ${project.build.outputDirectory} instead. [WARNING] The expression ${pom.build.sourceDirectory} is deprecated. Please use ${project.build.sourceDirectory} instead. [WARNING] The expression ${pom.build.outputDirectory} is deprecated. Please use ${project.build.outputDirectory} instead. [WARNING]  [WARNING] It is highly recommended to fix these problems because they threaten the stability of your build. [WARNING]  [WARNING] For this reason, future Maven versions might no longer support building such malformed projects. [WARNING]  [INFO]  [INFO] ------------------------&lt; joda-time:joda-time &gt;------------------------- [INFO] Building Joda time 2.0 [INFO] --------------------------------[ jar ]--------------------------------- Downloading from central: https://repo.maven.apache.org/maven2/org/apache/maven/plugins/maven-toolchains-plugin/1.0/maven-toolchains-plugin-1.0.pom [INFO] ------------------------------------------------------------------------ [INFO] BUILD FAILURE [INFO] ------------------------------------------------------------------------ [INFO] Total time: 0.861 s [INFO] Finished at: 2019-01-23T17:12:12Z [INFO] ------------------------------------------------------------------------ [ERROR] Plugin org.apache.maven.plugins:maven-toolchains-plugin:1.0 or one of its dependencies could not be resolved: Failed to read artifact descriptor for org.apache.maven.plugins:maven-toolchains-plugin:jar:1.0: Could not transfer artifact org.apache.maven.plugins:maven-toolchains-plugin:pom:1.0 from/to central (https://repo.maven.apache.org/maven2): Received fatal alert: protocol_version -&gt; [Help 1] [ERROR]  [ERROR] To see the full stack trace of the errors, re-run Maven with the -e switch. [ERROR] Re-run Maven using the -X switch to enable full debug logging. [ERROR]  [ERROR] For more information about the errors and possible solutions, please read the following articles: [ERROR] [Help 1] http://cwiki.apache.org/confluence/display/MAVEN/PluginResolutionException</th>\n",
       "      <td>1</td>\n",
       "    </tr>\n",
       "    <tr>\n",
       "      <th>b520972224a46ee6af995d64068c0bae</th>\n",
       "      <th>UNKNOWN_ERROR</th>\n",
       "      <th>[INFO] Scanning for projects... [WARNING]  [WARNING] Some problems were encountered while building the effective model for joda-time:joda-time:jar:2.0 [WARNING] The expression ${pom.build.outputDirectory} is deprecated. Please use ${project.build.outputDirectory} instead. [WARNING] The expression ${pom.build.sourceDirectory} is deprecated. Please use ${project.build.sourceDirectory} instead. [WARNING] The expression ${pom.build.outputDirectory} is deprecated. Please use ${project.build.outputDirectory} instead. [WARNING]  [WARNING] It is highly recommended to fix these problems because they threaten the stability of your build. [WARNING]  [WARNING] For this reason, future Maven versions might no longer support building such malformed projects. [WARNING]  [INFO]  [INFO] ------------------------&lt; joda-time:joda-time &gt;------------------------- [INFO] Building Joda time 2.0 [INFO] --------------------------------[ jar ]--------------------------------- Downloading from central: https://repo.maven.apache.org/maven2/org/apache/maven/plugins/maven-toolchains-plugin/1.0/maven-toolchains-plugin-1.0.pom [INFO] ------------------------------------------------------------------------ [INFO] BUILD FAILURE [INFO] ------------------------------------------------------------------------ [INFO] Total time: 0.855 s [INFO] Finished at: 2019-01-23T17:12:37Z [INFO] ------------------------------------------------------------------------ [ERROR] Plugin org.apache.maven.plugins:maven-toolchains-plugin:1.0 or one of its dependencies could not be resolved: Failed to read artifact descriptor for org.apache.maven.plugins:maven-toolchains-plugin:jar:1.0: Could not transfer artifact org.apache.maven.plugins:maven-toolchains-plugin:pom:1.0 from/to central (https://repo.maven.apache.org/maven2): Received fatal alert: protocol_version -&gt; [Help 1] [ERROR]  [ERROR] To see the full stack trace of the errors, re-run Maven with the -e switch. [ERROR] Re-run Maven using the -X switch to enable full debug logging. [ERROR]  [ERROR] For more information about the errors and possible solutions, please read the following articles: [ERROR] [Help 1] http://cwiki.apache.org/confluence/display/MAVEN/PluginResolutionException</th>\n",
       "      <td>1</td>\n",
       "    </tr>\n",
       "    <tr>\n",
       "      <th>796ddadbf45a384dd0413d47f5ded139</th>\n",
       "      <th>UNKNOWN_ERROR</th>\n",
       "      <th>[INFO] Scanning for projects... [WARNING]  [WARNING] Some problems were encountered while building the effective model for joda-time:joda-time:jar:2.0 [WARNING] The expression ${pom.build.sourceDirectory} is deprecated. Please use ${project.build.sourceDirectory} instead. [WARNING] The expression ${pom.build.outputDirectory} is deprecated. Please use ${project.build.outputDirectory} instead. [WARNING]  [WARNING] It is highly recommended to fix these problems because they threaten the stability of your build. [WARNING]  [WARNING] For this reason, future Maven versions might no longer support building such malformed projects. [WARNING]  [INFO]  [INFO] ------------------------&lt; joda-time:joda-time &gt;------------------------- [INFO] Building Joda time 2.0 [INFO] --------------------------------[ jar ]--------------------------------- Downloading from central: https://repo.maven.apache.org/maven2/org/apache/maven/plugins/maven-toolchains-plugin/1.0/maven-toolchains-plugin-1.0.pom [INFO] ------------------------------------------------------------------------ [INFO] BUILD FAILURE [INFO] ------------------------------------------------------------------------ [INFO] Total time: 0.893 s [INFO] Finished at: 2019-01-23T17:11:29Z [INFO] ------------------------------------------------------------------------ [ERROR] Plugin org.apache.maven.plugins:maven-toolchains-plugin:1.0 or one of its dependencies could not be resolved: Failed to read artifact descriptor for org.apache.maven.plugins:maven-toolchains-plugin:jar:1.0: Could not transfer artifact org.apache.maven.plugins:maven-toolchains-plugin:pom:1.0 from/to central (https://repo.maven.apache.org/maven2): Received fatal alert: protocol_version -&gt; [Help 1] [ERROR]  [ERROR] To see the full stack trace of the errors, re-run Maven with the -e switch. [ERROR] Re-run Maven using the -X switch to enable full debug logging. [ERROR]  [ERROR] For more information about the errors and possible solutions, please read the following articles: [ERROR] [Help 1] http://cwiki.apache.org/confluence/display/MAVEN/PluginResolutionException</th>\n",
       "      <td>1</td>\n",
       "    </tr>\n",
       "    <tr>\n",
       "      <th>b774c3551592037c57e50b586f30c4df</th>\n",
       "      <th>UNKNOWN_ERROR</th>\n",
       "      <th>[INFO] Scanning for projects... [WARNING]  [WARNING] Some problems were encountered while building the effective model for joda-time:joda-time:jar:2.0 [WARNING] The expression ${pom.build.sourceDirectory} is deprecated. Please use ${project.build.sourceDirectory} instead. [WARNING] The expression ${pom.build.outputDirectory} is deprecated. Please use ${project.build.outputDirectory} instead. [WARNING]  [WARNING] It is highly recommended to fix these problems because they threaten the stability of your build. [WARNING]  [WARNING] For this reason, future Maven versions might no longer support building such malformed projects. [WARNING]  [INFO]  [INFO] ------------------------&lt; joda-time:joda-time &gt;------------------------- [INFO] Building Joda time 2.0 [INFO] --------------------------------[ jar ]--------------------------------- Downloading from central: https://repo.maven.apache.org/maven2/org/apache/maven/plugins/maven-toolchains-plugin/1.0/maven-toolchains-plugin-1.0.pom [INFO] ------------------------------------------------------------------------ [INFO] BUILD FAILURE [INFO] ------------------------------------------------------------------------ [INFO] Total time: 0.831 s [INFO] Finished at: 2019-01-23T17:10:53Z [INFO] ------------------------------------------------------------------------ [ERROR] Plugin org.apache.maven.plugins:maven-toolchains-plugin:1.0 or one of its dependencies could not be resolved: Failed to read artifact descriptor for org.apache.maven.plugins:maven-toolchains-plugin:jar:1.0: Could not transfer artifact org.apache.maven.plugins:maven-toolchains-plugin:pom:1.0 from/to central (https://repo.maven.apache.org/maven2): Received fatal alert: protocol_version -&gt; [Help 1] [ERROR]  [ERROR] To see the full stack trace of the errors, re-run Maven with the -e switch. [ERROR] Re-run Maven using the -X switch to enable full debug logging. [ERROR]  [ERROR] For more information about the errors and possible solutions, please read the following articles: [ERROR] [Help 1] http://cwiki.apache.org/confluence/display/MAVEN/PluginResolutionException</th>\n",
       "      <td>1</td>\n",
       "    </tr>\n",
       "    <tr>\n",
       "      <th>bed39d1e08b1ff30fe3047409b054334</th>\n",
       "      <th>UNKNOWN_ERROR</th>\n",
       "      <th>[INFO] Scanning for projects... [WARNING]  [WARNING] Some problems were encountered while building the effective model for joda-time:joda-time:jar:2.0 [WARNING] The expression ${pom.build.outputDirectory} is deprecated. Please use ${project.build.outputDirectory} instead. [WARNING] The expression ${pom.build.sourceDirectory} is deprecated. Please use ${project.build.sourceDirectory} instead. [WARNING] The expression ${pom.build.outputDirectory} is deprecated. Please use ${project.build.outputDirectory} instead. [WARNING]  [WARNING] It is highly recommended to fix these problems because they threaten the stability of your build. [WARNING]  [WARNING] For this reason, future Maven versions might no longer support building such malformed projects. [WARNING]  [INFO]  [INFO] ------------------------&lt; joda-time:joda-time &gt;------------------------- [INFO] Building Joda time 2.0 [INFO] --------------------------------[ jar ]--------------------------------- Downloading from central: https://repo.maven.apache.org/maven2/org/apache/maven/plugins/maven-toolchains-plugin/1.0/maven-toolchains-plugin-1.0.pom [INFO] ------------------------------------------------------------------------ [INFO] BUILD FAILURE [INFO] ------------------------------------------------------------------------ [INFO] Total time: 0.854 s [INFO] Finished at: 2019-01-23T17:11:46Z [INFO] ------------------------------------------------------------------------ [ERROR] Plugin org.apache.maven.plugins:maven-toolchains-plugin:1.0 or one of its dependencies could not be resolved: Failed to read artifact descriptor for org.apache.maven.plugins:maven-toolchains-plugin:jar:1.0: Could not transfer artifact org.apache.maven.plugins:maven-toolchains-plugin:pom:1.0 from/to central (https://repo.maven.apache.org/maven2): Received fatal alert: protocol_version -&gt; [Help 1] [ERROR]  [ERROR] To see the full stack trace of the errors, re-run Maven with the -e switch. [ERROR] Re-run Maven using the -X switch to enable full debug logging. [ERROR]  [ERROR] For more information about the errors and possible solutions, please read the following articles: [ERROR] [Help 1] http://cwiki.apache.org/confluence/display/MAVEN/PluginResolutionException</th>\n",
       "      <td>1</td>\n",
       "    </tr>\n",
       "    <tr>\n",
       "      <th>c7b8794328adc89cd1db99aff80e09e7</th>\n",
       "      <th>UNKNOWN_ERROR</th>\n",
       "      <th>[INFO] Scanning for projects... [WARNING]  [WARNING] Some problems were encountered while building the effective model for joda-time:joda-time:jar:2.0 [WARNING] The expression ${pom.build.sourceDirectory} is deprecated. Please use ${project.build.sourceDirectory} instead. [WARNING] The expression ${pom.build.outputDirectory} is deprecated. Please use ${project.build.outputDirectory} instead. [WARNING]  [WARNING] It is highly recommended to fix these problems because they threaten the stability of your build. [WARNING]  [WARNING] For this reason, future Maven versions might no longer support building such malformed projects. [WARNING]  [INFO]  [INFO] ------------------------&lt; joda-time:joda-time &gt;------------------------- [INFO] Building Joda time 2.0 [INFO] --------------------------------[ jar ]--------------------------------- Downloading from central: https://repo.maven.apache.org/maven2/org/apache/maven/plugins/maven-toolchains-plugin/1.0/maven-toolchains-plugin-1.0.pom [INFO] ------------------------------------------------------------------------ [INFO] BUILD FAILURE [INFO] ------------------------------------------------------------------------ [INFO] Total time: 0.882 s [INFO] Finished at: 2019-01-23T17:10:24Z [INFO] ------------------------------------------------------------------------ [ERROR] Plugin org.apache.maven.plugins:maven-toolchains-plugin:1.0 or one of its dependencies could not be resolved: Failed to read artifact descriptor for org.apache.maven.plugins:maven-toolchains-plugin:jar:1.0: Could not transfer artifact org.apache.maven.plugins:maven-toolchains-plugin:pom:1.0 from/to central (https://repo.maven.apache.org/maven2): Received fatal alert: protocol_version -&gt; [Help 1] [ERROR]  [ERROR] To see the full stack trace of the errors, re-run Maven with the -e switch. [ERROR] Re-run Maven using the -X switch to enable full debug logging. [ERROR]  [ERROR] For more information about the errors and possible solutions, please read the following articles: [ERROR] [Help 1] http://cwiki.apache.org/confluence/display/MAVEN/PluginResolutionException</th>\n",
       "      <td>1</td>\n",
       "    </tr>\n",
       "    <tr>\n",
       "      <th>c8600b1b34b7d3dce0c6fe1e00766ff2</th>\n",
       "      <th>UNKNOWN_ERROR</th>\n",
       "      <th>[INFO] Scanning for projects... [WARNING]  [WARNING] Some problems were encountered while building the effective model for joda-time:joda-time:jar:2.0 [WARNING] The expression ${pom.build.outputDirectory} is deprecated. Please use ${project.build.outputDirectory} instead. [WARNING] The expression ${pom.build.sourceDirectory} is deprecated. Please use ${project.build.sourceDirectory} instead. [WARNING] The expression ${pom.build.outputDirectory} is deprecated. Please use ${project.build.outputDirectory} instead. [WARNING]  [WARNING] It is highly recommended to fix these problems because they threaten the stability of your build. [WARNING]  [WARNING] For this reason, future Maven versions might no longer support building such malformed projects. [WARNING]  [INFO]  [INFO] ------------------------&lt; joda-time:joda-time &gt;------------------------- [INFO] Building Joda time 2.0 [INFO] --------------------------------[ jar ]--------------------------------- Downloading from central: https://repo.maven.apache.org/maven2/org/apache/maven/plugins/maven-toolchains-plugin/1.0/maven-toolchains-plugin-1.0.pom [INFO] ------------------------------------------------------------------------ [INFO] BUILD FAILURE [INFO] ------------------------------------------------------------------------ [INFO] Total time: 0.902 s [INFO] Finished at: 2019-01-23T17:12:08Z [INFO] ------------------------------------------------------------------------ [ERROR] Plugin org.apache.maven.plugins:maven-toolchains-plugin:1.0 or one of its dependencies could not be resolved: Failed to read artifact descriptor for org.apache.maven.plugins:maven-toolchains-plugin:jar:1.0: Could not transfer artifact org.apache.maven.plugins:maven-toolchains-plugin:pom:1.0 from/to central (https://repo.maven.apache.org/maven2): Received fatal alert: protocol_version -&gt; [Help 1] [ERROR]  [ERROR] To see the full stack trace of the errors, re-run Maven with the -e switch. [ERROR] Re-run Maven using the -X switch to enable full debug logging. [ERROR]  [ERROR] For more information about the errors and possible solutions, please read the following articles: [ERROR] [Help 1] http://cwiki.apache.org/confluence/display/MAVEN/PluginResolutionException</th>\n",
       "      <td>1</td>\n",
       "    </tr>\n",
       "    <tr>\n",
       "      <th>d216e617e5b772f89ad42d6051230609</th>\n",
       "      <th>UNKNOWN_ERROR</th>\n",
       "      <th>[INFO] Scanning for projects... [WARNING]  [WARNING] Some problems were encountered while building the effective model for joda-time:joda-time:jar:2.0 [WARNING] The expression ${pom.build.outputDirectory} is deprecated. Please use ${project.build.outputDirectory} instead. [WARNING] The expression ${pom.build.sourceDirectory} is deprecated. Please use ${project.build.sourceDirectory} instead. [WARNING] The expression ${pom.build.outputDirectory} is deprecated. Please use ${project.build.outputDirectory} instead. [WARNING]  [WARNING] It is highly recommended to fix these problems because they threaten the stability of your build. [WARNING]  [WARNING] For this reason, future Maven versions might no longer support building such malformed projects. [WARNING]  [INFO]  [INFO] ------------------------&lt; joda-time:joda-time &gt;------------------------- [INFO] Building Joda time 2.0 [INFO] --------------------------------[ jar ]--------------------------------- Downloading from central: https://repo.maven.apache.org/maven2/org/apache/maven/plugins/maven-toolchains-plugin/1.0/maven-toolchains-plugin-1.0.pom [INFO] ------------------------------------------------------------------------ [INFO] BUILD FAILURE [INFO] ------------------------------------------------------------------------ [INFO] Total time: 0.947 s [INFO] Finished at: 2019-01-23T17:12:02Z [INFO] ------------------------------------------------------------------------ [ERROR] Plugin org.apache.maven.plugins:maven-toolchains-plugin:1.0 or one of its dependencies could not be resolved: Failed to read artifact descriptor for org.apache.maven.plugins:maven-toolchains-plugin:jar:1.0: Could not transfer artifact org.apache.maven.plugins:maven-toolchains-plugin:pom:1.0 from/to central (https://repo.maven.apache.org/maven2): Received fatal alert: protocol_version -&gt; [Help 1] [ERROR]  [ERROR] To see the full stack trace of the errors, re-run Maven with the -e switch. [ERROR] Re-run Maven using the -X switch to enable full debug logging. [ERROR]  [ERROR] For more information about the errors and possible solutions, please read the following articles: [ERROR] [Help 1] http://cwiki.apache.org/confluence/display/MAVEN/PluginResolutionException</th>\n",
       "      <td>1</td>\n",
       "    </tr>\n",
       "    <tr>\n",
       "      <th>d30b0c417b6a416f1bab5fe1df53e03b</th>\n",
       "      <th>UNKNOWN_ERROR</th>\n",
       "      <th>[INFO] Scanning for projects... [WARNING]  [WARNING] Some problems were encountered while building the effective model for joda-time:joda-time:jar:2.0 [WARNING] The expression ${pom.build.outputDirectory} is deprecated. Please use ${project.build.outputDirectory} instead. [WARNING] The expression ${pom.build.sourceDirectory} is deprecated. Please use ${project.build.sourceDirectory} instead. [WARNING] The expression ${pom.build.outputDirectory} is deprecated. Please use ${project.build.outputDirectory} instead. [WARNING]  [WARNING] It is highly recommended to fix these problems because they threaten the stability of your build. [WARNING]  [WARNING] For this reason, future Maven versions might no longer support building such malformed projects. [WARNING]  [INFO]  [INFO] ------------------------&lt; joda-time:joda-time &gt;------------------------- [INFO] Building Joda time 2.0 [INFO] --------------------------------[ jar ]--------------------------------- Downloading from central: https://repo.maven.apache.org/maven2/org/apache/maven/plugins/maven-toolchains-plugin/1.0/maven-toolchains-plugin-1.0.pom [INFO] ------------------------------------------------------------------------ [INFO] BUILD FAILURE [INFO] ------------------------------------------------------------------------ [INFO] Total time: 0.912 s [INFO] Finished at: 2019-01-23T17:12:05Z [INFO] ------------------------------------------------------------------------ [ERROR] Plugin org.apache.maven.plugins:maven-toolchains-plugin:1.0 or one of its dependencies could not be resolved: Failed to read artifact descriptor for org.apache.maven.plugins:maven-toolchains-plugin:jar:1.0: Could not transfer artifact org.apache.maven.plugins:maven-toolchains-plugin:pom:1.0 from/to central (https://repo.maven.apache.org/maven2): Received fatal alert: protocol_version -&gt; [Help 1] [ERROR]  [ERROR] To see the full stack trace of the errors, re-run Maven with the -e switch. [ERROR] Re-run Maven using the -X switch to enable full debug logging. [ERROR]  [ERROR] For more information about the errors and possible solutions, please read the following articles: [ERROR] [Help 1] http://cwiki.apache.org/confluence/display/MAVEN/PluginResolutionException</th>\n",
       "      <td>1</td>\n",
       "    </tr>\n",
       "    <tr>\n",
       "      <th>f26fe63113adf4e0b071d2840c2dc1cd</th>\n",
       "      <th>UNKNOWN_ERROR</th>\n",
       "      <th>[INFO] Scanning for projects... [WARNING]  [WARNING] Some problems were encountered while building the effective model for joda-time:joda-time:jar:2.0 [WARNING] The expression ${pom.build.outputDirectory} is deprecated. Please use ${project.build.outputDirectory} instead. [WARNING] The expression ${pom.build.sourceDirectory} is deprecated. Please use ${project.build.sourceDirectory} instead. [WARNING] The expression ${pom.build.outputDirectory} is deprecated. Please use ${project.build.outputDirectory} instead. [WARNING]  [WARNING] It is highly recommended to fix these problems because they threaten the stability of your build. [WARNING]  [WARNING] For this reason, future Maven versions might no longer support building such malformed projects. [WARNING]  [INFO]  [INFO] ------------------------&lt; joda-time:joda-time &gt;------------------------- [INFO] Building Joda time 2.0 [INFO] --------------------------------[ jar ]--------------------------------- Downloading from central: https://repo.maven.apache.org/maven2/org/apache/maven/plugins/maven-toolchains-plugin/1.0/maven-toolchains-plugin-1.0.pom [INFO] ------------------------------------------------------------------------ [INFO] BUILD FAILURE [INFO] ------------------------------------------------------------------------ [INFO] Total time: 0.914 s [INFO] Finished at: 2019-01-23T17:13:07Z [INFO] ------------------------------------------------------------------------ [ERROR] Plugin org.apache.maven.plugins:maven-toolchains-plugin:1.0 or one of its dependencies could not be resolved: Failed to read artifact descriptor for org.apache.maven.plugins:maven-toolchains-plugin:jar:1.0: Could not transfer artifact org.apache.maven.plugins:maven-toolchains-plugin:pom:1.0 from/to central (https://repo.maven.apache.org/maven2): Received fatal alert: protocol_version -&gt; [Help 1] [ERROR]  [ERROR] To see the full stack trace of the errors, re-run Maven with the -e switch. [ERROR] Re-run Maven using the -X switch to enable full debug logging. [ERROR]  [ERROR] For more information about the errors and possible solutions, please read the following articles: [ERROR] [Help 1] http://cwiki.apache.org/confluence/display/MAVEN/PluginResolutionException</th>\n",
       "      <td>1</td>\n",
       "    </tr>\n",
       "    <tr>\n",
       "      <th>f9903542301370006ae67ee386fd895d</th>\n",
       "      <th>UNKNOWN_ERROR</th>\n",
       "      <th>[INFO] Scanning for projects... [WARNING]  [WARNING] Some problems were encountered while building the effective model for joda-time:joda-time:jar:2.0 [WARNING] The expression ${pom.build.sourceDirectory} is deprecated. Please use ${project.build.sourceDirectory} instead. [WARNING] The expression ${pom.build.outputDirectory} is deprecated. Please use ${project.build.outputDirectory} instead. [WARNING]  [WARNING] It is highly recommended to fix these problems because they threaten the stability of your build. [WARNING]  [WARNING] For this reason, future Maven versions might no longer support building such malformed projects. [WARNING]  [INFO]  [INFO] ------------------------&lt; joda-time:joda-time &gt;------------------------- [INFO] Building Joda time 2.0 [INFO] --------------------------------[ jar ]--------------------------------- Downloading from central: https://repo.maven.apache.org/maven2/org/apache/maven/plugins/maven-toolchains-plugin/1.0/maven-toolchains-plugin-1.0.pom [INFO] ------------------------------------------------------------------------ [INFO] BUILD FAILURE [INFO] ------------------------------------------------------------------------ [INFO] Total time: 0.879 s [INFO] Finished at: 2019-01-23T17:11:16Z [INFO] ------------------------------------------------------------------------ [ERROR] Plugin org.apache.maven.plugins:maven-toolchains-plugin:1.0 or one of its dependencies could not be resolved: Failed to read artifact descriptor for org.apache.maven.plugins:maven-toolchains-plugin:jar:1.0: Could not transfer artifact org.apache.maven.plugins:maven-toolchains-plugin:pom:1.0 from/to central (https://repo.maven.apache.org/maven2): Received fatal alert: protocol_version -&gt; [Help 1] [ERROR]  [ERROR] To see the full stack trace of the errors, re-run Maven with the -e switch. [ERROR] Re-run Maven using the -X switch to enable full debug logging. [ERROR]  [ERROR] For more information about the errors and possible solutions, please read the following articles: [ERROR] [Help 1] http://cwiki.apache.org/confluence/display/MAVEN/PluginResolutionException</th>\n",
       "      <td>1</td>\n",
       "    </tr>\n",
       "    <tr>\n",
       "      <th>fbe396110a80b0e9cbe61f30e06b6290</th>\n",
       "      <th>UNKNOWN_ERROR</th>\n",
       "      <th>[INFO] Scanning for projects... [WARNING]  [WARNING] Some problems were encountered while building the effective model for joda-time:joda-time:jar:2.0 [WARNING] The expression ${pom.build.sourceDirectory} is deprecated. Please use ${project.build.sourceDirectory} instead. [WARNING] The expression ${pom.build.outputDirectory} is deprecated. Please use ${project.build.outputDirectory} instead. [WARNING]  [WARNING] It is highly recommended to fix these problems because they threaten the stability of your build. [WARNING]  [WARNING] For this reason, future Maven versions might no longer support building such malformed projects. [WARNING]  [INFO]  [INFO] ------------------------&lt; joda-time:joda-time &gt;------------------------- [INFO] Building Joda time 2.0 [INFO] --------------------------------[ jar ]--------------------------------- Downloading from central: https://repo.maven.apache.org/maven2/org/apache/maven/plugins/maven-toolchains-plugin/1.0/maven-toolchains-plugin-1.0.pom [INFO] ------------------------------------------------------------------------ [INFO] BUILD FAILURE [INFO] ------------------------------------------------------------------------ [INFO] Total time: 0.888 s [INFO] Finished at: 2019-01-23T17:11:26Z [INFO] ------------------------------------------------------------------------ [ERROR] Plugin org.apache.maven.plugins:maven-toolchains-plugin:1.0 or one of its dependencies could not be resolved: Failed to read artifact descriptor for org.apache.maven.plugins:maven-toolchains-plugin:jar:1.0: Could not transfer artifact org.apache.maven.plugins:maven-toolchains-plugin:pom:1.0 from/to central (https://repo.maven.apache.org/maven2): Received fatal alert: protocol_version -&gt; [Help 1] [ERROR]  [ERROR] To see the full stack trace of the errors, re-run Maven with the -e switch. [ERROR] Re-run Maven using the -X switch to enable full debug logging. [ERROR]  [ERROR] For more information about the errors and possible solutions, please read the following articles: [ERROR] [Help 1] http://cwiki.apache.org/confluence/display/MAVEN/PluginResolutionException</th>\n",
       "      <td>1</td>\n",
       "    </tr>\n",
       "    <tr>\n",
       "      <th>fbf08c8694d437b66682ed92e8c02ce8</th>\n",
       "      <th>UNKNOWN_ERROR</th>\n",
       "      <th>[INFO] Scanning for projects... [WARNING]  [WARNING] Some problems were encountered while building the effective model for joda-time:joda-time:jar:2.0 [WARNING] The expression ${pom.build.sourceDirectory} is deprecated. Please use ${project.build.sourceDirectory} instead. [WARNING] The expression ${pom.build.outputDirectory} is deprecated. Please use ${project.build.outputDirectory} instead. [WARNING]  [WARNING] It is highly recommended to fix these problems because they threaten the stability of your build. [WARNING]  [WARNING] For this reason, future Maven versions might no longer support building such malformed projects. [WARNING]  [INFO]  [INFO] ------------------------&lt; joda-time:joda-time &gt;------------------------- [INFO] Building Joda time 2.0 [INFO] --------------------------------[ jar ]--------------------------------- Downloading from central: https://repo.maven.apache.org/maven2/org/apache/maven/plugins/maven-toolchains-plugin/1.0/maven-toolchains-plugin-1.0.pom [INFO] ------------------------------------------------------------------------ [INFO] BUILD FAILURE [INFO] ------------------------------------------------------------------------ [INFO] Total time: 0.878 s [INFO] Finished at: 2019-01-23T17:11:23Z [INFO] ------------------------------------------------------------------------ [ERROR] Plugin org.apache.maven.plugins:maven-toolchains-plugin:1.0 or one of its dependencies could not be resolved: Failed to read artifact descriptor for org.apache.maven.plugins:maven-toolchains-plugin:jar:1.0: Could not transfer artifact org.apache.maven.plugins:maven-toolchains-plugin:pom:1.0 from/to central (https://repo.maven.apache.org/maven2): Received fatal alert: protocol_version -&gt; [Help 1] [ERROR]  [ERROR] To see the full stack trace of the errors, re-run Maven with the -e switch. [ERROR] Re-run Maven using the -X switch to enable full debug logging. [ERROR]  [ERROR] For more information about the errors and possible solutions, please read the following articles: [ERROR] [Help 1] http://cwiki.apache.org/confluence/display/MAVEN/PluginResolutionException</th>\n",
       "      <td>1</td>\n",
       "    </tr>\n",
       "    <tr>\n",
       "      <th>8518496dfa1c03caf01cd8d328a04c34</th>\n",
       "      <th>UNKNOWN_ERROR</th>\n",
       "      <th>[INFO] Scanning for projects... [WARNING]  [WARNING] Some problems were encountered while building the effective model for joda-time:joda-time:jar:2.0 [WARNING] The expression ${pom.build.sourceDirectory} is deprecated. Please use ${project.build.sourceDirectory} instead. [WARNING] The expression ${pom.build.outputDirectory} is deprecated. Please use ${project.build.outputDirectory} instead. [WARNING]  [WARNING] It is highly recommended to fix these problems because they threaten the stability of your build. [WARNING]  [WARNING] For this reason, future Maven versions might no longer support building such malformed projects. [WARNING]  [INFO]  [INFO] ------------------------&lt; joda-time:joda-time &gt;------------------------- [INFO] Building Joda time 2.0 [INFO] --------------------------------[ jar ]--------------------------------- Downloading from central: https://repo.maven.apache.org/maven2/org/apache/maven/plugins/maven-toolchains-plugin/1.0/maven-toolchains-plugin-1.0.pom [INFO] ------------------------------------------------------------------------ [INFO] BUILD FAILURE [INFO] ------------------------------------------------------------------------ [INFO] Total time: 0.874 s [INFO] Finished at: 2019-01-23T17:11:03Z [INFO] ------------------------------------------------------------------------ [ERROR] Plugin org.apache.maven.plugins:maven-toolchains-plugin:1.0 or one of its dependencies could not be resolved: Failed to read artifact descriptor for org.apache.maven.plugins:maven-toolchains-plugin:jar:1.0: Could not transfer artifact org.apache.maven.plugins:maven-toolchains-plugin:pom:1.0 from/to central (https://repo.maven.apache.org/maven2): Received fatal alert: protocol_version -&gt; [Help 1] [ERROR]  [ERROR] To see the full stack trace of the errors, re-run Maven with the -e switch. [ERROR] Re-run Maven using the -X switch to enable full debug logging. [ERROR]  [ERROR] For more information about the errors and possible solutions, please read the following articles: [ERROR] [Help 1] http://cwiki.apache.org/confluence/display/MAVEN/PluginResolutionException</th>\n",
       "      <td>1</td>\n",
       "    </tr>\n",
       "    <tr>\n",
       "      <th>77e73fcc867dac3355010a402c118653</th>\n",
       "      <th>UNKNOWN_ERROR</th>\n",
       "      <th>[INFO] Scanning for projects... [WARNING]  [WARNING] Some problems were encountered while building the effective model for joda-time:joda-time:jar:2.0 [WARNING] The expression ${pom.build.outputDirectory} is deprecated. Please use ${project.build.outputDirectory} instead. [WARNING] The expression ${pom.build.sourceDirectory} is deprecated. Please use ${project.build.sourceDirectory} instead. [WARNING] The expression ${pom.build.outputDirectory} is deprecated. Please use ${project.build.outputDirectory} instead. [WARNING]  [WARNING] It is highly recommended to fix these problems because they threaten the stability of your build. [WARNING]  [WARNING] For this reason, future Maven versions might no longer support building such malformed projects. [WARNING]  [INFO]  [INFO] ------------------------&lt; joda-time:joda-time &gt;------------------------- [INFO] Building Joda time 2.0 [INFO] --------------------------------[ jar ]--------------------------------- Downloading from central: https://repo.maven.apache.org/maven2/org/apache/maven/plugins/maven-toolchains-plugin/1.0/maven-toolchains-plugin-1.0.pom [INFO] ------------------------------------------------------------------------ [INFO] BUILD FAILURE [INFO] ------------------------------------------------------------------------ [INFO] Total time: 0.910 s [INFO] Finished at: 2019-01-23T17:12:31Z [INFO] ------------------------------------------------------------------------ [ERROR] Plugin org.apache.maven.plugins:maven-toolchains-plugin:1.0 or one of its dependencies could not be resolved: Failed to read artifact descriptor for org.apache.maven.plugins:maven-toolchains-plugin:jar:1.0: Could not transfer artifact org.apache.maven.plugins:maven-toolchains-plugin:pom:1.0 from/to central (https://repo.maven.apache.org/maven2): Received fatal alert: protocol_version -&gt; [Help 1] [ERROR]  [ERROR] To see the full stack trace of the errors, re-run Maven with the -e switch. [ERROR] Re-run Maven using the -X switch to enable full debug logging. [ERROR]  [ERROR] For more information about the errors and possible solutions, please read the following articles: [ERROR] [Help 1] http://cwiki.apache.org/confluence/display/MAVEN/PluginResolutionException</th>\n",
       "      <td>1</td>\n",
       "    </tr>\n",
       "    <tr>\n",
       "      <th>79641c189623699e97e1d92018e9fe1c</th>\n",
       "      <th>UNKNOWN_ERROR</th>\n",
       "      <th>[INFO] Scanning for projects... [WARNING]  [WARNING] Some problems were encountered while building the effective model for joda-time:joda-time:jar:2.0 [WARNING] The expression ${pom.build.sourceDirectory} is deprecated. Please use ${project.build.sourceDirectory} instead. [WARNING] The expression ${pom.build.outputDirectory} is deprecated. Please use ${project.build.outputDirectory} instead. [WARNING]  [WARNING] It is highly recommended to fix these problems because they threaten the stability of your build. [WARNING]  [WARNING] For this reason, future Maven versions might no longer support building such malformed projects. [WARNING]  [INFO]  [INFO] ------------------------&lt; joda-time:joda-time &gt;------------------------- [INFO] Building Joda time 2.0 [INFO] --------------------------------[ jar ]--------------------------------- Downloading from central: https://repo.maven.apache.org/maven2/org/apache/maven/plugins/maven-toolchains-plugin/1.0/maven-toolchains-plugin-1.0.pom [INFO] ------------------------------------------------------------------------ [INFO] BUILD FAILURE [INFO] ------------------------------------------------------------------------ [INFO] Total time: 0.962 s [INFO] Finished at: 2019-01-23T17:10:30Z [INFO] ------------------------------------------------------------------------ [ERROR] Plugin org.apache.maven.plugins:maven-toolchains-plugin:1.0 or one of its dependencies could not be resolved: Failed to read artifact descriptor for org.apache.maven.plugins:maven-toolchains-plugin:jar:1.0: Could not transfer artifact org.apache.maven.plugins:maven-toolchains-plugin:pom:1.0 from/to central (https://repo.maven.apache.org/maven2): Received fatal alert: protocol_version -&gt; [Help 1] [ERROR]  [ERROR] To see the full stack trace of the errors, re-run Maven with the -e switch. [ERROR] Re-run Maven using the -X switch to enable full debug logging. [ERROR]  [ERROR] For more information about the errors and possible solutions, please read the following articles: [ERROR] [Help 1] http://cwiki.apache.org/confluence/display/MAVEN/PluginResolutionException</th>\n",
       "      <td>1</td>\n",
       "    </tr>\n",
       "    <tr>\n",
       "      <th>32a86cf1f1f415a058c9c237ffea664e</th>\n",
       "      <th>UNKNOWN_ERROR</th>\n",
       "      <th>[INFO] Scanning for projects... [WARNING]  [WARNING] Some problems were encountered while building the effective model for joda-time:joda-time:jar:2.0 [WARNING] The expression ${pom.build.outputDirectory} is deprecated. Please use ${project.build.outputDirectory} instead. [WARNING] The expression ${pom.build.sourceDirectory} is deprecated. Please use ${project.build.sourceDirectory} instead. [WARNING] The expression ${pom.build.outputDirectory} is deprecated. Please use ${project.build.outputDirectory} instead. [WARNING]  [WARNING] It is highly recommended to fix these problems because they threaten the stability of your build. [WARNING]  [WARNING] For this reason, future Maven versions might no longer support building such malformed projects. [WARNING]  [INFO]  [INFO] ------------------------&lt; joda-time:joda-time &gt;------------------------- [INFO] Building Joda time 2.0 [INFO] --------------------------------[ jar ]--------------------------------- Downloading from central: https://repo.maven.apache.org/maven2/org/apache/maven/plugins/maven-toolchains-plugin/1.0/maven-toolchains-plugin-1.0.pom [INFO] ------------------------------------------------------------------------ [INFO] BUILD FAILURE [INFO] ------------------------------------------------------------------------ [INFO] Total time: 0.941 s [INFO] Finished at: 2019-01-23T17:12:21Z [INFO] ------------------------------------------------------------------------ [ERROR] Plugin org.apache.maven.plugins:maven-toolchains-plugin:1.0 or one of its dependencies could not be resolved: Failed to read artifact descriptor for org.apache.maven.plugins:maven-toolchains-plugin:jar:1.0: Could not transfer artifact org.apache.maven.plugins:maven-toolchains-plugin:pom:1.0 from/to central (https://repo.maven.apache.org/maven2): Received fatal alert: protocol_version -&gt; [Help 1] [ERROR]  [ERROR] To see the full stack trace of the errors, re-run Maven with the -e switch. [ERROR] Re-run Maven using the -X switch to enable full debug logging. [ERROR]  [ERROR] For more information about the errors and possible solutions, please read the following articles: [ERROR] [Help 1] http://cwiki.apache.org/confluence/display/MAVEN/PluginResolutionException</th>\n",
       "      <td>1</td>\n",
       "    </tr>\n",
       "  </tbody>\n",
       "</table>\n",
       "</div>"
      ],
      "text/plain": [
       "                                                                                                   count\n",
       "key                              type          message                                                  \n",
       "25fe7d356a79255e6eb2a6bca03a5f19 NO_POM_ERROR  there is no POM in this directory                    1415\n",
       "53b247a1f95b27be88ca19fec71cc133 UNKNOWN_ERROR [INFO] Scanning for projects... Downloading fro...      5\n",
       "0890c59417bb545c2d35429e12dc9cf7 UNKNOWN_ERROR [INFO] Scanning for projects... [WARNING]  [WAR...      1\n",
       "b44a4a792d7984ba710eef139d92b744 UNKNOWN_ERROR [INFO] Scanning for projects... [WARNING]  [WAR...      1\n",
       "95ca3ec8fb1a4d01e114c6b3bde9f217 UNKNOWN_ERROR [INFO] Scanning for projects... [WARNING]  [WAR...      1\n",
       "98295afce827d62dfe3586d246f994c8 UNKNOWN_ERROR [INFO] Scanning for projects... [WARNING]  [WAR...      1\n",
       "9bad2465597e97a5a3077d1528c4c5f6 UNKNOWN_ERROR [INFO] Scanning for projects... [WARNING]  [WAR...      1\n",
       "9f1dffcb9cc37bf2df0deaa79d023805 UNKNOWN_ERROR [INFO] Scanning for projects... [WARNING]  [WAR...      1\n",
       "a47c38b386d39c7d5fe6b8999da9944d UNKNOWN_ERROR [INFO] Scanning for projects... [WARNING]  [WAR...      1\n",
       "a6003a9a80142df87263a50cc1db65b7 UNKNOWN_ERROR [INFO] Scanning for projects... [WARNING]  [WAR...      1\n",
       "a93f9e06653638ebd81da5c9c84d17ba UNKNOWN_ERROR [INFO] Scanning for projects... [WARNING]  [WAR...      1\n",
       "b176e6c19e3aaba4c66d705f7df64d11 UNKNOWN_ERROR [INFO] Scanning for projects... [WARNING]  [WAR...      1\n",
       "b3118ca1814c58ed12e4cf9bf61c4394 UNKNOWN_ERROR [INFO] Scanning for projects... [WARNING]  [WAR...      1\n",
       "b34d2980d76a2360c0f2460f1caab319 UNKNOWN_ERROR [INFO] Scanning for projects... [WARNING]  [WAR...      1\n",
       "b520972224a46ee6af995d64068c0bae UNKNOWN_ERROR [INFO] Scanning for projects... [WARNING]  [WAR...      1\n",
       "796ddadbf45a384dd0413d47f5ded139 UNKNOWN_ERROR [INFO] Scanning for projects... [WARNING]  [WAR...      1\n",
       "b774c3551592037c57e50b586f30c4df UNKNOWN_ERROR [INFO] Scanning for projects... [WARNING]  [WAR...      1\n",
       "bed39d1e08b1ff30fe3047409b054334 UNKNOWN_ERROR [INFO] Scanning for projects... [WARNING]  [WAR...      1\n",
       "c7b8794328adc89cd1db99aff80e09e7 UNKNOWN_ERROR [INFO] Scanning for projects... [WARNING]  [WAR...      1\n",
       "c8600b1b34b7d3dce0c6fe1e00766ff2 UNKNOWN_ERROR [INFO] Scanning for projects... [WARNING]  [WAR...      1\n",
       "d216e617e5b772f89ad42d6051230609 UNKNOWN_ERROR [INFO] Scanning for projects... [WARNING]  [WAR...      1\n",
       "d30b0c417b6a416f1bab5fe1df53e03b UNKNOWN_ERROR [INFO] Scanning for projects... [WARNING]  [WAR...      1\n",
       "f26fe63113adf4e0b071d2840c2dc1cd UNKNOWN_ERROR [INFO] Scanning for projects... [WARNING]  [WAR...      1\n",
       "f9903542301370006ae67ee386fd895d UNKNOWN_ERROR [INFO] Scanning for projects... [WARNING]  [WAR...      1\n",
       "fbe396110a80b0e9cbe61f30e06b6290 UNKNOWN_ERROR [INFO] Scanning for projects... [WARNING]  [WAR...      1\n",
       "fbf08c8694d437b66682ed92e8c02ce8 UNKNOWN_ERROR [INFO] Scanning for projects... [WARNING]  [WAR...      1\n",
       "8518496dfa1c03caf01cd8d328a04c34 UNKNOWN_ERROR [INFO] Scanning for projects... [WARNING]  [WAR...      1\n",
       "77e73fcc867dac3355010a402c118653 UNKNOWN_ERROR [INFO] Scanning for projects... [WARNING]  [WAR...      1\n",
       "79641c189623699e97e1d92018e9fe1c UNKNOWN_ERROR [INFO] Scanning for projects... [WARNING]  [WAR...      1\n",
       "32a86cf1f1f415a058c9c237ffea664e UNKNOWN_ERROR [INFO] Scanning for projects... [WARNING]  [WAR...      1"
      ]
     },
     "execution_count": 15,
     "metadata": {},
     "output_type": "execute_result"
    }
   ],
   "source": [
    "df.groupby(['key', 'type', 'message']).agg({'count': 'sum'}).sort_values(by=['count'], ascending=False).head(30)"
   ]
  },
  {
   "cell_type": "code",
   "execution_count": 16,
   "metadata": {},
   "outputs": [
    {
     "data": {
      "text/plain": [
       "'0f951f3'"
      ]
     },
     "execution_count": 16,
     "metadata": {},
     "output_type": "execute_result"
    }
   ],
   "source": [
    "error_id = \"25fe7d356a79255e6eb2a6bca03a5f19\"\n",
    "errors[error_id]['commits'][0]"
   ]
  },
  {
   "cell_type": "code",
   "execution_count": 17,
   "metadata": {
    "collapsed": true
   },
   "outputs": [],
   "source": [
    "# commit_id=\"\"\n",
    "# csvDict[commit_id]"
   ]
  },
  {
   "cell_type": "code",
   "execution_count": 18,
   "metadata": {
    "collapsed": true
   },
   "outputs": [],
   "source": [
    "# success_commits = []\n",
    "# for k,v in csvDict.items():\n",
    "#     if v['build'] == \"SUCCESS\" and len(current_group)>0:\n",
    "#         success_commits.append(v['commit'])\n",
    "# len(success_commits)"
   ]
  },
  {
   "cell_type": "code",
   "execution_count": 19,
   "metadata": {
    "collapsed": true
   },
   "outputs": [],
   "source": [
    "# with open('success_commits.txt', 'w') as f:\n",
    "#     for commit in success_commits:\n",
    "#         f.write(\"%s\\n\" % commit)"
   ]
  }
 ],
 "metadata": {
  "kernelspec": {
   "display_name": "Python 3",
   "language": "python",
   "name": "python3"
  },
  "language_info": {
   "codemirror_mode": {
    "name": "ipython",
    "version": 3
   },
   "file_extension": ".py",
   "mimetype": "text/x-python",
   "name": "python",
   "nbconvert_exporter": "python",
   "pygments_lexer": "ipython3",
   "version": "3.6.2"
  }
 },
 "nbformat": 4,
 "nbformat_minor": 2
}
