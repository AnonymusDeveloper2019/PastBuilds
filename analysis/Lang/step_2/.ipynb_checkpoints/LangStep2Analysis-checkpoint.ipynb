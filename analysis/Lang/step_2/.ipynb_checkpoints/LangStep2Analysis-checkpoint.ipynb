{
 "cells": [
  {
   "cell_type": "code",
   "execution_count": 1,
   "metadata": {
    "collapsed": true
   },
   "outputs": [],
   "source": [
    "import csv\n",
    "import pandas as pd\n",
    "import matplotlib.pyplot as plt\n",
    "import re\n",
    "import hashlib\n",
    "import numpy as np"
   ]
  },
  {
   "cell_type": "code",
   "execution_count": 2,
   "metadata": {},
   "outputs": [
    {
     "data": {
      "text/html": [
       "<div>\n",
       "<style>\n",
       "    .dataframe thead tr:only-child th {\n",
       "        text-align: right;\n",
       "    }\n",
       "\n",
       "    .dataframe thead th {\n",
       "        text-align: left;\n",
       "    }\n",
       "\n",
       "    .dataframe tbody tr th {\n",
       "        vertical-align: top;\n",
       "    }\n",
       "</style>\n",
       "<table border=\"1\" class=\"dataframe\">\n",
       "  <thead>\n",
       "    <tr style=\"text-align: right;\">\n",
       "      <th></th>\n",
       "      <th>id</th>\n",
       "      <th>commit</th>\n",
       "      <th>build</th>\n",
       "      <th>exec_time</th>\n",
       "      <th>comment</th>\n",
       "      <th>fix</th>\n",
       "    </tr>\n",
       "  </thead>\n",
       "  <tbody>\n",
       "    <tr>\n",
       "      <th>0</th>\n",
       "      <td>0</td>\n",
       "      <td>687b2e62</td>\n",
       "      <td>SUCCESS</td>\n",
       "      <td>6</td>\n",
       "      <td>LANG-747 NumberUtils does not handle Long Hex ...</td>\n",
       "      <td>{}</td>\n",
       "    </tr>\n",
       "    <tr>\n",
       "      <th>1</th>\n",
       "      <td>1</td>\n",
       "      <td>2c454a4c</td>\n",
       "      <td>SUCCESS</td>\n",
       "      <td>7</td>\n",
       "      <td>LANG-837 Add ObjectUtils.toIdentityString meth...</td>\n",
       "      <td>{}</td>\n",
       "    </tr>\n",
       "    <tr>\n",
       "      <th>2</th>\n",
       "      <td>2</td>\n",
       "      <td>47d59745</td>\n",
       "      <td>SUCCESS</td>\n",
       "      <td>6</td>\n",
       "      <td>short circuit (un)capitalize if string is alre...</td>\n",
       "      <td>{}</td>\n",
       "    </tr>\n",
       "    <tr>\n",
       "      <th>3</th>\n",
       "      <td>3</td>\n",
       "      <td>6b5acb4b</td>\n",
       "      <td>SUCCESS</td>\n",
       "      <td>6</td>\n",
       "      <td>Add tests for new Javadoc examples</td>\n",
       "      <td>{}</td>\n",
       "    </tr>\n",
       "    <tr>\n",
       "      <th>4</th>\n",
       "      <td>4</td>\n",
       "      <td>de63ae7c</td>\n",
       "      <td>SUCCESS</td>\n",
       "      <td>7</td>\n",
       "      <td>Clarify Javadoc</td>\n",
       "      <td>{}</td>\n",
       "    </tr>\n",
       "  </tbody>\n",
       "</table>\n",
       "</div>"
      ],
      "text/plain": [
       "   id    commit    build  exec_time  \\\n",
       "0   0  687b2e62  SUCCESS          6   \n",
       "1   1  2c454a4c  SUCCESS          7   \n",
       "2   2  47d59745  SUCCESS          6   \n",
       "3   3  6b5acb4b  SUCCESS          6   \n",
       "4   4  de63ae7c  SUCCESS          7   \n",
       "\n",
       "                                             comment fix  \n",
       "0  LANG-747 NumberUtils does not handle Long Hex ...  {}  \n",
       "1  LANG-837 Add ObjectUtils.toIdentityString meth...  {}  \n",
       "2  short circuit (un)capitalize if string is alre...  {}  \n",
       "3                 Add tests for new Javadoc examples  {}  \n",
       "4                                    Clarify Javadoc  {}  "
      ]
     },
     "execution_count": 2,
     "metadata": {},
     "output_type": "execute_result"
    }
   ],
   "source": [
    "data = pd.read_csv(\"report_step_1.csv\")\n",
    "data.head()"
   ]
  },
  {
   "cell_type": "markdown",
   "metadata": {},
   "source": [
    "## Calculamos el número de builds de cada tipo"
   ]
  },
  {
   "cell_type": "code",
   "execution_count": 3,
   "metadata": {},
   "outputs": [
    {
     "data": {
      "text/plain": [
       "id           1897\n",
       "commit       1897\n",
       "build        1897\n",
       "exec_time    1897\n",
       "comment      1897\n",
       "fix          1897\n",
       "dtype: int64"
      ]
     },
     "execution_count": 3,
     "metadata": {},
     "output_type": "execute_result"
    }
   ],
   "source": [
    "data[(data['build'] == 'SUCCESS')].count()"
   ]
  },
  {
   "cell_type": "code",
   "execution_count": 4,
   "metadata": {},
   "outputs": [
    {
     "data": {
      "text/plain": [
       "id           1673\n",
       "commit       1673\n",
       "build        1673\n",
       "exec_time    1673\n",
       "comment      1673\n",
       "fix          1673\n",
       "dtype: int64"
      ]
     },
     "execution_count": 4,
     "metadata": {},
     "output_type": "execute_result"
    }
   ],
   "source": [
    "data[(data['build'] == 'FAIL')].count()"
   ]
  },
  {
   "cell_type": "code",
   "execution_count": 5,
   "metadata": {},
   "outputs": [
    {
     "data": {
      "image/png": "[encoded data removed]",
      "text/plain": [
       "<matplotlib.figure.Figure at 0x7fcee7f969e8>"
      ]
     },
     "metadata": {},
     "output_type": "display_data"
    }
   ],
   "source": [
    "def plot_histogram(total_commits, jump, limit, title):\n",
    "    fails_list=[]\n",
    "    success_list=[]\n",
    "    for index, row in data.iterrows():\n",
    "        if row['build'] == \"SUCCESS\":\n",
    "            success_list.append(row['id'])\n",
    "        else:\n",
    "            fails_list.append(row['id'])\n",
    "\n",
    "    bins = np.arange(0,total_commits,jump)\n",
    "\n",
    "    fig, ax = plt.subplots(figsize=(15, 4))\n",
    "    _, bins, patches = plt.hist([np.clip(success_list, bins[0], bins[-1]),\n",
    "                                 np.clip(fails_list, bins[0], bins[-1])],\n",
    "                                normed=1,  # normed is deprecated; replace with density\n",
    "                                stacked=True,\n",
    "                                #density=True,\n",
    "                                bins=bins, color=['#4b8869', '#a82e2e'], label=['SUCCESS', 'FAIL'])\n",
    "    \n",
    "    xlabels = bins[1:].astype(str)\n",
    "    xlabels[-1] += '+'\n",
    "\n",
    "    N_labels = len(xlabels)\n",
    "    \n",
    "    plt.xticks(jump * np.arange(N_labels) + jump/2)\n",
    "    ax.set_xticklabels(xlabels)\n",
    "\n",
    "    plt.yticks([])\n",
    "    plt.title(title, fontsize=20)\n",
    "    plt.setp(patches, linewidth=0)\n",
    "    plt.legend(loc='upper left', prop={'size': 16})\n",
    "\n",
    "    fig.tight_layout()\n",
    "    plt.xlim([0, limit])\n",
    "    plt.tick_params(axis='both', labelsize=12)\n",
    "    \n",
    "    plt.savefig('success_fail_hist.png')\n",
    "    plt.show()\n",
    "plot_histogram(3600,100,3400, \"Commit status history in Lang project\")"
   ]
  },
  {
   "cell_type": "markdown",
   "metadata": {},
   "source": [
    "## Recogemos todos los fails y los separamos en grupos"
   ]
  },
  {
   "cell_type": "code",
   "execution_count": 6,
   "metadata": {
    "collapsed": true
   },
   "outputs": [],
   "source": [
    "import csv\n",
    "\n",
    "with open(\"report_step_1.csv\") as csvfile:\n",
    "    reader = csv.DictReader(csvfile)\n",
    "    csvDict = dict()\n",
    "    for row in reader:\n",
    "        csvDict[row['commit']] = row"
   ]
  },
  {
   "cell_type": "code",
   "execution_count": 7,
   "metadata": {
    "collapsed": true
   },
   "outputs": [],
   "source": [
    "groups_of_fails = []\n",
    "fails = []\n",
    "current_group = []\n",
    "for k,v in csvDict.items():\n",
    "    if v['build'] == \"SUCCESS\" and len(current_group)>0:\n",
    "        groups_of_fails.append(current_group)\n",
    "        current_group = []\n",
    "    if v['build'] == \"FAIL\":\n",
    "        current_group.append(v)\n",
    "        fails.append(v)\n",
    "if len(current_group)>0:\n",
    "    groups_of_fails.append(current_group)"
   ]
  },
  {
   "cell_type": "code",
   "execution_count": 8,
   "metadata": {
    "collapsed": true
   },
   "outputs": [],
   "source": [
    "moreThan100 = []\n",
    "for g in groups_of_fails:\n",
    "    if len(g) > 100:\n",
    "        moreThan100.append(g)"
   ]
  },
  {
   "cell_type": "code",
   "execution_count": 9,
   "metadata": {
    "scrolled": true
   },
   "outputs": [
    {
     "data": {
      "text/plain": [
       "18"
      ]
     },
     "execution_count": 9,
     "metadata": {},
     "output_type": "execute_result"
    }
   ],
   "source": [
    "len(groups_of_fails)"
   ]
  },
  {
   "cell_type": "markdown",
   "metadata": {},
   "source": [
    "## Obtenemos los logs de cada commit con build fail"
   ]
  },
  {
   "cell_type": "code",
   "execution_count": 10,
   "metadata": {
    "collapsed": true
   },
   "outputs": [],
   "source": [
    "for fail in fails:\n",
    "    with open(\"logs/%s-%s.log\"%(fail['id'], fail['commit'])) as f: \n",
    "        r_data = f.read()\n",
    "        fail['log'] = r_data"
   ]
  },
  {
   "cell_type": "markdown",
   "metadata": {},
   "source": [
    "## Agrupamos los commits por sus logs"
   ]
  },
  {
   "cell_type": "code",
   "execution_count": 11,
   "metadata": {
    "collapsed": true
   },
   "outputs": [],
   "source": [
    "def cleanLog(text):\n",
    "    return text.replace('\\n', ' ').replace('\\t', ' ')"
   ]
  },
  {
   "cell_type": "code",
   "execution_count": 12,
   "metadata": {
    "collapsed": true
   },
   "outputs": [],
   "source": [
    "errors=dict()\n",
    "def addError(error_type, error_text, commit):\n",
    "    hash_object = hashlib.md5(error_text.encode())\n",
    "    hash_key = hash_object.hexdigest()\n",
    "    if hash_key in errors:\n",
    "        errors[hash_key]['count'] +=1\n",
    "        errors[hash_key]['commits'].append(commit)\n",
    "    else:\n",
    "        errors[hash_key] = {\n",
    "            'key': hash_key,\n",
    "            'type': error_type,\n",
    "            'message': cleanLog(error_text),\n",
    "            'commits': [commit],\n",
    "            'count': 1\n",
    "        }\n",
    "    "
   ]
  },
  {
   "cell_type": "code",
   "execution_count": 13,
   "metadata": {
    "collapsed": true
   },
   "outputs": [],
   "source": [
    "for fail in fails:\n",
    "    #print(\"LOG_%s\"%fail['id'])\n",
    "    detected = False\n",
    "    \n",
    "    for pom_error in re.finditer('\\[ERROR\\] (.+)\\n(.+)', fail['log']):\n",
    "        addError(\"POM_ERROR\", pom_error.group(0), fail['commit'])\n",
    "        detected = True\n",
    "        break\n",
    "    if detected: continue\n",
    "        \n",
    "    for no_pom_error in re.finditer('there is no POM in this directory', fail['log']):\n",
    "        addError(\"NO_POM_ERROR\", no_pom_error.group(0), fail['commit'])\n",
    "        detected = True\n",
    "        break\n",
    "    if detected: continue\n",
    "        \n",
    "    for encoding_error in re.finditer('unmappable character for encoding UTF8', fail['log']):\n",
    "        addError(\"ENCODING_ERROR\", encoding_error.group(0), fail['commit'])\n",
    "        detected = True\n",
    "        break\n",
    "    if detected: continue\n",
    "        \n",
    "    \n",
    "    for java_error in re.finditer('error: (.+)\\n(.+)', fail['log']):\n",
    "        addError(\"JAVA_ERROR\", java_error.group(0), fail['commit'])\n",
    "        detected = True\n",
    "        break\n",
    "    if detected: continue\n",
    "        \n",
    "    if not detected:\n",
    "        addError(\"UNKNOWN_ERROR\", fail['log'], fail['commit'])"
   ]
  },
  {
   "cell_type": "code",
   "execution_count": 14,
   "metadata": {},
   "outputs": [
    {
     "data": {
      "text/html": [
       "<div>\n",
       "<style>\n",
       "    .dataframe thead tr:only-child th {\n",
       "        text-align: right;\n",
       "    }\n",
       "\n",
       "    .dataframe thead th {\n",
       "        text-align: left;\n",
       "    }\n",
       "\n",
       "    .dataframe tbody tr th {\n",
       "        vertical-align: top;\n",
       "    }\n",
       "</style>\n",
       "<table border=\"1\" class=\"dataframe\">\n",
       "  <thead>\n",
       "    <tr style=\"text-align: right;\">\n",
       "      <th></th>\n",
       "      <th>count</th>\n",
       "    </tr>\n",
       "    <tr>\n",
       "      <th>type</th>\n",
       "      <th></th>\n",
       "    </tr>\n",
       "  </thead>\n",
       "  <tbody>\n",
       "    <tr>\n",
       "      <th>ENCODING_ERROR</th>\n",
       "      <td>110</td>\n",
       "    </tr>\n",
       "    <tr>\n",
       "      <th>JAVA_ERROR</th>\n",
       "      <td>32</td>\n",
       "    </tr>\n",
       "    <tr>\n",
       "      <th>NO_POM_ERROR</th>\n",
       "      <td>1524</td>\n",
       "    </tr>\n",
       "    <tr>\n",
       "      <th>POM_ERROR</th>\n",
       "      <td>7</td>\n",
       "    </tr>\n",
       "  </tbody>\n",
       "</table>\n",
       "</div>"
      ],
      "text/plain": [
       "                count\n",
       "type                 \n",
       "ENCODING_ERROR    110\n",
       "JAVA_ERROR         32\n",
       "NO_POM_ERROR     1524\n",
       "POM_ERROR           7"
      ]
     },
     "execution_count": 14,
     "metadata": {},
     "output_type": "execute_result"
    }
   ],
   "source": [
    "df = pd.DataFrame.from_dict(errors, orient='index')\n",
    "df.groupby(['type']).agg({'count': 'sum'})"
   ]
  },
  {
   "cell_type": "code",
   "execution_count": 15,
   "metadata": {},
   "outputs": [
    {
     "data": {
      "text/html": [
       "<div>\n",
       "<style>\n",
       "    .dataframe thead tr:only-child th {\n",
       "        text-align: right;\n",
       "    }\n",
       "\n",
       "    .dataframe thead th {\n",
       "        text-align: left;\n",
       "    }\n",
       "\n",
       "    .dataframe tbody tr th {\n",
       "        vertical-align: top;\n",
       "    }\n",
       "</style>\n",
       "<table border=\"1\" class=\"dataframe\">\n",
       "  <thead>\n",
       "    <tr style=\"text-align: right;\">\n",
       "      <th></th>\n",
       "      <th></th>\n",
       "      <th></th>\n",
       "      <th>count</th>\n",
       "    </tr>\n",
       "    <tr>\n",
       "      <th>key</th>\n",
       "      <th>type</th>\n",
       "      <th>message</th>\n",
       "      <th></th>\n",
       "    </tr>\n",
       "  </thead>\n",
       "  <tbody>\n",
       "    <tr>\n",
       "      <th>25fe7d356a79255e6eb2a6bca03a5f19</th>\n",
       "      <th>NO_POM_ERROR</th>\n",
       "      <th>there is no POM in this directory</th>\n",
       "      <td>1524</td>\n",
       "    </tr>\n",
       "    <tr>\n",
       "      <th>2e38940d63562835bb22eb0590ea14fb</th>\n",
       "      <th>ENCODING_ERROR</th>\n",
       "      <th>unmappable character for encoding UTF8</th>\n",
       "      <td>110</td>\n",
       "    </tr>\n",
       "    <tr>\n",
       "      <th>37268cd935f8221f9a2f72ac14f86945</th>\n",
       "      <th>JAVA_ERROR</th>\n",
       "      <th>error: cannot find symbol [\u001b[1;31mERROR\u001b[m]</th>\n",
       "      <td>20</td>\n",
       "    </tr>\n",
       "    <tr>\n",
       "      <th>f8a49f41b57bfc1c4d5579844f882ff8</th>\n",
       "      <th>POM_ERROR</th>\n",
       "      <th>[ERROR] Some problems were encountered while processing the POMs: [FATAL] Non-resolvable parent POM for org.apache.commons:commons-lang3:3.2-SNAPSHOT: Could not find artifact org.apache.commons:commons-parent:pom:28-SNAPSHOT and 'parent.relativePath' points at wrong local POM @ line 12, column 11</th>\n",
       "      <td>4</td>\n",
       "    </tr>\n",
       "    <tr>\n",
       "      <th>2d95fbc00bd4d08c860666aaad96d1ff</th>\n",
       "      <th>JAVA_ERROR</th>\n",
       "      <th>error: cannot find symbol\u001b[m [\u001b[1;31mERROR\u001b[m] \u001b[1;31m\u001b[m</th>\n",
       "      <td>2</td>\n",
       "    </tr>\n",
       "    <tr>\n",
       "      <th>2ebbfcf1ea7eedb67be2dc1d90e290d3</th>\n",
       "      <th>JAVA_ERROR</th>\n",
       "      <th>error: IDKey is not public in org.apache.commons.lang; cannot be accessed from outside package [\u001b[1;31mERROR\u001b[m]</th>\n",
       "      <td>2</td>\n",
       "    </tr>\n",
       "    <tr>\n",
       "      <th>5d8f8286321fc3c8f1d25a15536f4ed2</th>\n",
       "      <th>JAVA_ERROR</th>\n",
       "      <th>error: variable options might not have been initialized\u001b[m [\u001b[1;31mERROR\u001b[m] \u001b[1;31m\u001b[m</th>\n",
       "      <td>2</td>\n",
       "    </tr>\n",
       "    <tr>\n",
       "      <th>ccf2a222c70ec8dacd569fce019db003</th>\n",
       "      <th>JAVA_ERROR</th>\n",
       "      <th>error: incompatible types\u001b[m [\u001b[1;31mERROR\u001b[m] \u001b[1;31m\u001b[m</th>\n",
       "      <td>2</td>\n",
       "    </tr>\n",
       "    <tr>\n",
       "      <th>2f630a95e53c0b194073210aa6562b36</th>\n",
       "      <th>JAVA_ERROR</th>\n",
       "      <th>error: reached end of file while parsing\u001b[m [\u001b[1;31mERROR\u001b[m] \u001b[1;31m\u001b[m</th>\n",
       "      <td>1</td>\n",
       "    </tr>\n",
       "    <tr>\n",
       "      <th>548116871373715cad09676c7d092a11</th>\n",
       "      <th>JAVA_ERROR</th>\n",
       "      <th>error: as of release 5, 'enum' is a keyword, and may not be used as an identifier [\u001b[1;31mERROR\u001b[m]</th>\n",
       "      <td>1</td>\n",
       "    </tr>\n",
       "    <tr>\n",
       "      <th>65d90d0a14ab2cf455b9d1ed50c876bb</th>\n",
       "      <th>POM_ERROR</th>\n",
       "      <th>[ERROR] Some problems were encountered while processing the POMs: [FATAL] Non-parseable POM /home/michel/Investigacion/bugs/Lang/pom.xml: only whitespace content allowed before start tag and not p (position: START_DOCUMENT seen ... governing permissions and\\n   limitations under the License.\\n--&gt;\\np... @18:2)  @ line 18, column 2</th>\n",
       "      <td>1</td>\n",
       "    </tr>\n",
       "    <tr>\n",
       "      <th>6f9b6ee144c79d8f93d5fdffa4bee0f1</th>\n",
       "      <th>JAVA_ERROR</th>\n",
       "      <th>error: incomparable types: int and &lt;null&gt; [\u001b[1;31mERROR\u001b[m]</th>\n",
       "      <td>1</td>\n",
       "    </tr>\n",
       "    <tr>\n",
       "      <th>a4f1c11f4bb22e03b00674400b7b0651</th>\n",
       "      <th>POM_ERROR</th>\n",
       "      <th>[ERROR] Some problems were encountered while processing the POMs: [FATAL] Non-resolvable parent POM for org.apache.commons:commons-lang:2.3-SNAPSHOT: Could not find artifact org.apache.commons:commons-parent:pom:1-SNAPSHOT and 'parent.relativePath' points at wrong local POM @ line 22, column 11</th>\n",
       "      <td>1</td>\n",
       "    </tr>\n",
       "    <tr>\n",
       "      <th>b867478293030f9b21a0700b303e3039</th>\n",
       "      <th>POM_ERROR</th>\n",
       "      <th>[ERROR] Some problems were encountered while processing the POMs: [ERROR] Malformed POM /home/michel/Investigacion/bugs/Lang/pom.xml: Unrecognised tag: 'developer' (position: START_TAG seen ...&lt;/name&gt;\\n        &lt;developer&gt;... @159:20)  @ /home/michel/Investigacion/bugs/Lang/pom.xml, line 159, column 20</th>\n",
       "      <td>1</td>\n",
       "    </tr>\n",
       "    <tr>\n",
       "      <th>ed9fb91a0450a7651f86366429105413</th>\n",
       "      <th>JAVA_ERROR</th>\n",
       "      <th>error: package org.apache.commons.collections.comparators does not exist [\u001b[1;31mERROR\u001b[m]</th>\n",
       "      <td>1</td>\n",
       "    </tr>\n",
       "  </tbody>\n",
       "</table>\n",
       "</div>"
      ],
      "text/plain": [
       "                                                                                                    count\n",
       "key                              type           message                                                  \n",
       "25fe7d356a79255e6eb2a6bca03a5f19 NO_POM_ERROR   there is no POM in this directory                    1524\n",
       "2e38940d63562835bb22eb0590ea14fb ENCODING_ERROR unmappable character for encoding UTF8                110\n",
       "37268cd935f8221f9a2f72ac14f86945 JAVA_ERROR     error: cannot find symbol [\u001b[1;31mERROR\u001b[m]            20\n",
       "f8a49f41b57bfc1c4d5579844f882ff8 POM_ERROR      [ERROR] Some problems were encountered while pr...      4\n",
       "2d95fbc00bd4d08c860666aaad96d1ff JAVA_ERROR     error: cannot find symbol\u001b[m [\u001b[1;31mERROR\u001b[m] ...      2\n",
       "2ebbfcf1ea7eedb67be2dc1d90e290d3 JAVA_ERROR     error: IDKey is not public in org.apache.common...      2\n",
       "5d8f8286321fc3c8f1d25a15536f4ed2 JAVA_ERROR     error: variable options might not have been ini...      2\n",
       "ccf2a222c70ec8dacd569fce019db003 JAVA_ERROR     error: incompatible types\u001b[m [\u001b[1;31mERROR\u001b[m] ...      2\n",
       "2f630a95e53c0b194073210aa6562b36 JAVA_ERROR     error: reached end of file while parsing\u001b[m [\u001b[...      1\n",
       "548116871373715cad09676c7d092a11 JAVA_ERROR     error: as of release 5, 'enum' is a keyword, an...      1\n",
       "65d90d0a14ab2cf455b9d1ed50c876bb POM_ERROR      [ERROR] Some problems were encountered while pr...      1\n",
       "6f9b6ee144c79d8f93d5fdffa4bee0f1 JAVA_ERROR     error: incomparable types: int and <null> [\u001b[1;...      1\n",
       "a4f1c11f4bb22e03b00674400b7b0651 POM_ERROR      [ERROR] Some problems were encountered while pr...      1\n",
       "b867478293030f9b21a0700b303e3039 POM_ERROR      [ERROR] Some problems were encountered while pr...      1\n",
       "ed9fb91a0450a7651f86366429105413 JAVA_ERROR     error: package org.apache.commons.collections.c...      1"
      ]
     },
     "execution_count": 15,
     "metadata": {},
     "output_type": "execute_result"
    }
   ],
   "source": [
    "df.groupby(['key', 'type', 'message']).agg({'count': 'sum'}).sort_values(by=['count'], ascending=False)"
   ]
  },
  {
   "cell_type": "code",
   "execution_count": 16,
   "metadata": {
    "collapsed": true
   },
   "outputs": [],
   "source": [
    "#json_df = df.to_json(\"data.json\",orient='records')"
   ]
  },
  {
   "cell_type": "code",
   "execution_count": 24,
   "metadata": {},
   "outputs": [
    {
     "data": {
      "text/plain": [
       "'5ac897ad'"
      ]
     },
     "execution_count": 24,
     "metadata": {},
     "output_type": "execute_result"
    }
   ],
   "source": [
    "errors['25fe7d356a79255e6eb2a6bca03a5f19']['commits'][0]"
   ]
  },
  {
   "cell_type": "code",
   "execution_count": 22,
   "metadata": {},
   "outputs": [
    {
     "data": {
      "text/plain": [
       "OrderedDict([('id', '2046'),\n",
       "             ('commit', '5ac897ad'),\n",
       "             ('build', 'FAIL'),\n",
       "             ('exec_time', '1'),\n",
       "             ('comment',\n",
       "              \"removing unnecessary part of the pom; no xml files in lang's test directory\"),\n",
       "             ('fix', '{}'),\n",
       "             ('log',\n",
       "              '[\\x1b[1;34mINFO\\x1b[m] Scanning for projects...\\n[\\x1b[1;34mINFO\\x1b[m] \\x1b[1m------------------------------------------------------------------------\\x1b[m\\n[\\x1b[1;34mINFO\\x1b[m] \\x1b[1;31mBUILD FAILURE\\x1b[m\\n[\\x1b[1;34mINFO\\x1b[m] \\x1b[1m------------------------------------------------------------------------\\x1b[m\\n[\\x1b[1;34mINFO\\x1b[m] Total time: 0.073 s\\n[\\x1b[1;34mINFO\\x1b[m] Finished at: 2019-01-12T03:13:39+01:00\\n[\\x1b[1;34mINFO\\x1b[m] Final Memory: 7M/239M\\n[\\x1b[1;34mINFO\\x1b[m] \\x1b[1m------------------------------------------------------------------------\\x1b[m\\n[\\x1b[1;31mERROR\\x1b[m] The goal you specified requires a project to execute but there is no POM in this directory (/home/michel/Investigacion/bugs/Lang). Please verify you invoked Maven from the correct directory. -> \\x1b[1m[Help 1]\\x1b[m\\n[\\x1b[1;31mERROR\\x1b[m] \\n[\\x1b[1;31mERROR\\x1b[m] To see the full stack trace of the errors, re-run Maven with the \\x1b[1m-e\\x1b[m switch.\\n[\\x1b[1;31mERROR\\x1b[m] Re-run Maven using the \\x1b[1m-X\\x1b[m switch to enable full debug logging.\\n[\\x1b[1;31mERROR\\x1b[m] \\n[\\x1b[1;31mERROR\\x1b[m] For more information about the errors and possible solutions, please read the following articles:\\n[\\x1b[1;31mERROR\\x1b[m] \\x1b[1m[Help 1]\\x1b[m http://cwiki.apache.org/confluence/display/MAVEN/MissingProjectException\\n')])"
      ]
     },
     "execution_count": 22,
     "metadata": {},
     "output_type": "execute_result"
    }
   ],
   "source": [
    "csvDict['5ac897ad']"
   ]
  },
  {
   "cell_type": "code",
   "execution_count": 19,
   "metadata": {},
   "outputs": [
    {
     "data": {
      "text/plain": [
       "1897"
      ]
     },
     "execution_count": 19,
     "metadata": {},
     "output_type": "execute_result"
    }
   ],
   "source": [
    "success_commits = []\n",
    "for k,v in csvDict.items():\n",
    "    if v['build'] == \"SUCCESS\" and len(current_group)>0:\n",
    "        success_commits.append(v['commit'])\n",
    "len(success_commits)"
   ]
  },
  {
   "cell_type": "code",
   "execution_count": 20,
   "metadata": {
    "collapsed": true
   },
   "outputs": [],
   "source": [
    "with open('success_commits.txt', 'w') as f:\n",
    "    for commit in success_commits:\n",
    "        f.write(\"%s\\n\" % commit)"
   ]
  }
 ],
 "metadata": {
  "kernelspec": {
   "display_name": "Python 3",
   "language": "python",
   "name": "python3"
  },
  "language_info": {
   "codemirror_mode": {
    "name": "ipython",
    "version": 3
   },
   "file_extension": ".py",
   "mimetype": "text/x-python",
   "name": "python",
   "nbconvert_exporter": "python",
   "pygments_lexer": "ipython3",
   "version": "3.6.2"
  }
 },
 "nbformat": 4,
 "nbformat_minor": 2
}
