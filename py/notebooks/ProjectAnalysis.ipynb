{
 "cells": [
  {
   "cell_type": "code",
   "execution_count": 1,
   "metadata": {},
   "outputs": [],
   "source": [
    "import csv\n",
    "import pandas as pd\n",
    "import matplotlib.pyplot as plt\n",
    "import re\n",
    "import hashlib\n",
    "import numpy as np\n",
    "from matplotlib import rc\n",
    "from ProjectAnalysis import ProjectAnalysis\n",
    "pd.set_option('display.max_colwidth', -1)"
   ]
  },
  {
   "cell_type": "code",
   "execution_count": 2,
   "metadata": {},
   "outputs": [],
   "source": [
    "project=\"Lang\"\n",
    "experiment=2"
   ]
  },
  {
   "cell_type": "code",
   "execution_count": 3,
   "metadata": {},
   "outputs": [],
   "source": [
    "pa = ProjectAnalysis(project,  experiment)"
   ]
  },
  {
   "cell_type": "markdown",
   "metadata": {},
   "source": [
    "## Calculate the number of builds of each type"
   ]
  },
  {
   "cell_type": "code",
   "execution_count": 4,
   "metadata": {},
   "outputs": [
    {
     "name": "stdout",
     "output_type": "stream",
     "text": [
      "TOTAL: 3570\n",
      "SUCCESS: 2789\n",
      "FAIL: 781\n",
      "SUCCESS RATIO: 78.12324929971989%\n",
      "FAIL RATIO: 21.876750700280112%\n"
     ]
    }
   ],
   "source": [
    "pa.stats()"
   ]
  },
  {
   "cell_type": "code",
   "execution_count": 5,
   "metadata": {},
   "outputs": [
    {
     "data": {
      "image/png": "[encoded data removed]",
      "text/plain": [
       "<Figure size 576x72 with 1 Axes>"
      ]
     },
     "metadata": {
      "needs_background": "light"
     },
     "output_type": "display_data"
    }
   ],
   "source": [
    "pa.plot_and_save_histogram(1)"
   ]
  },
  {
   "cell_type": "markdown",
   "metadata": {},
   "source": [
    "## Collect all fails, separate them into groups and get the logs of each commit with build fail"
   ]
  },
  {
   "cell_type": "code",
   "execution_count": 6,
   "metadata": {},
   "outputs": [],
   "source": [
    "fails, groups_of_fails = pa.get_fails_and_grouped_fails()\n",
    "groups_of_fails.reverse()"
   ]
  },
  {
   "cell_type": "markdown",
   "metadata": {},
   "source": [
    "## Group the commits by their logs"
   ]
  },
  {
   "cell_type": "code",
   "execution_count": 7,
   "metadata": {},
   "outputs": [],
   "source": [
    "DEV=\"DEVELOPER_ERROR\"\n",
    "CONTX=\"CONTEXT_ERROR\"\n",
    "ND=\"NOT_DETECTED\"\n",
    "symptom_templates = [\n",
    "    # CONTEXT ERRORS\n",
    "        # ADDED WITH LANG\n",
    "        ('error: unmappable character for encoding UTF8', CONTX),\n",
    "        ('error: as of release 5, \\'enum\\' is a keyword, and may not be used as an identifier', CONTX),\n",
    "        ('error: no suitable method found for append\\(char\\[\\]\\)', CONTX),\n",
    "        # ADDED WITH MATH\n",
    "        ('Error opening connection (.+)', CONTX),\n",
    "        # ADDED WITH MOCKITO\n",
    "        ('Could not find (.+)', CONTX),\n",
    "        ('Could not compile build file (.+)', CONTX),\n",
    "        ('Cannot get property \\'tasks\\' on null object', CONTX),\n",
    "        ('There were failing tests.', CONTX),\n",
    "        ('Exception in thread \"main\" java.io.FileNotFoundException: (.+)', CONTX),\n",
    "        ('Could not resolve all dependencies (.+)', CONTX),\n",
    "        ('FileNotFoundException: (.+)', CONTX)\n",
    "    \n",
    "]+[\n",
    "    # DEVELOPER ERRORS\n",
    "        # ADDED WITH LANG\n",
    "        ('(error: cannot find symbol)(?:.*\\n)*.*symbol: (.*)',DEV,[1,2]),\n",
    "        ('build.xml:1: Content is not allowed in prolog.', DEV),\n",
    "        #('(.+)\\.java:\\[\\d+,\\d+\\] error: cannot find symbol (.*)',\"SSS\",[1,2]),\n",
    "        # ADDED WITH MOCKITO,\n",
    "        ('unable to resolve class (.+)', DEV),\n",
    "        ('Type Improvement not present', DEV)\n",
    "        \n",
    "]+[\n",
    "    # COMMON ERRORS\n",
    "        # ADDED WITH LANG\n",
    "        ('\\[ERROR\\] .*\\.java:\\[\\d+,\\d+\\] (.+)', DEV,[1]),\n",
    "        ('error: (.+)', DEV),\n",
    "        # ADDED WITH MOCKITO\n",
    "        (\"What went wrong:\\n(.+)\", DEV),\n",
    "        # ADDED WITH MATH\n",
    "        (\"BUILD FAILED\\n(.*)\", DEV),\n",
    "        (\"\\[ERROR\\] (.*)\", DEV),\n",
    "        (\"there is no POM in this directory\", ND),\n",
    "        # ADDED WITH MATH\n",
    "        ('Failed to execute goal (\\S+)', DEV),\n",
    "]"
   ]
  },
  {
   "cell_type": "code",
   "execution_count": 8,
   "metadata": {},
   "outputs": [
    {
     "name": "stdout",
     "output_type": "stream",
     "text": [
      "Number of errors: 19\n",
      "Number of groups: 20\n"
     ]
    }
   ],
   "source": [
    "errors = pa.group_errors_by_log(fails, symptom_templates)\n",
    "print(\"Number of errors: %d\"%len(errors))\n",
    "print(\"Number of groups: %d\"%len(groups_of_fails))"
   ]
  },
  {
   "cell_type": "code",
   "execution_count": 9,
   "metadata": {
    "scrolled": false
   },
   "outputs": [
    {
     "name": "stdout",
     "output_type": "stream",
     "text": [
      "Saved at Lang_errors.tsv\n"
     ]
    },
    {
     "data": {
      "text/html": [
       "<div>\n",
       "<style scoped>\n",
       "    .dataframe tbody tr th:only-of-type {\n",
       "        vertical-align: middle;\n",
       "    }\n",
       "\n",
       "    .dataframe tbody tr th {\n",
       "        vertical-align: top;\n",
       "    }\n",
       "\n",
       "    .dataframe thead th {\n",
       "        text-align: right;\n",
       "    }\n",
       "</style>\n",
       "<table border=\"1\" class=\"dataframe\">\n",
       "  <thead>\n",
       "    <tr style=\"text-align: right;\">\n",
       "      <th></th>\n",
       "      <th>trace</th>\n",
       "      <th>type</th>\n",
       "      <th>count</th>\n",
       "    </tr>\n",
       "  </thead>\n",
       "  <tbody>\n",
       "    <tr>\n",
       "      <th>8c9a61e569504289e9c6b17d8d1bf829</th>\n",
       "      <td>error: unmappable character for encoding UTF8</td>\n",
       "      <td>CONTEXT_ERROR</td>\n",
       "      <td>474</td>\n",
       "    </tr>\n",
       "    <tr>\n",
       "      <th>1a8c2eecee81eb655b47e5bd09016a3c</th>\n",
       "      <td>error: as of release 5, 'enum' is a keyword, and may not be used as an identifier</td>\n",
       "      <td>CONTEXT_ERROR</td>\n",
       "      <td>162</td>\n",
       "    </tr>\n",
       "    <tr>\n",
       "      <th>d1b28270a5c1c424bb429361faedc15c</th>\n",
       "      <td>error: no suitable method found for append(char[])</td>\n",
       "      <td>CONTEXT_ERROR</td>\n",
       "      <td>106</td>\n",
       "    </tr>\n",
       "    <tr>\n",
       "      <th>66eb9f223332d42c2ae312408c746f11</th>\n",
       "      <td>error: cannot find symbol</td>\n",
       "      <td>DEVELOPER_ERROR</td>\n",
       "      <td>9</td>\n",
       "    </tr>\n",
       "    <tr>\n",
       "      <th>eda3012a0ad35cb8171a49c1b4cff3fb</th>\n",
       "      <td>error: cannot find symbol  class UnhandledException</td>\n",
       "      <td>DEVELOPER_ERROR</td>\n",
       "      <td>6</td>\n",
       "    </tr>\n",
       "    <tr>\n",
       "      <th>55f75185b4ce632ff325a7ae0d87f097</th>\n",
       "      <td>error: cannot find symbol  class NullArgumentException</td>\n",
       "      <td>DEVELOPER_ERROR</td>\n",
       "      <td>5</td>\n",
       "    </tr>\n",
       "    <tr>\n",
       "      <th>4e5f7034fb1f14a046b5643cc360b10f</th>\n",
       "      <td>error: incompatible types: Constructor&lt;?&gt;[] cannot be converted to Constructor&lt;T&gt;[]</td>\n",
       "      <td>DEVELOPER_ERROR</td>\n",
       "      <td>2</td>\n",
       "    </tr>\n",
       "    <tr>\n",
       "      <th>6d324ddea319521c900649c5f0ff179d</th>\n",
       "      <td>error: variable options might not have been initialized</td>\n",
       "      <td>DEVELOPER_ERROR</td>\n",
       "      <td>2</td>\n",
       "    </tr>\n",
       "    <tr>\n",
       "      <th>1ce85102744fbcc9e1b9ec80cba20671</th>\n",
       "      <td>error: cannot find symbol  class IDKey</td>\n",
       "      <td>DEVELOPER_ERROR</td>\n",
       "      <td>2</td>\n",
       "    </tr>\n",
       "    <tr>\n",
       "      <th>722ff9d3d59f5046e9b3f74a2e6d1ddf</th>\n",
       "      <td>error: cannot find symbol  method appendIdentityToString(StringBuffer,Object)</td>\n",
       "      <td>DEVELOPER_ERROR</td>\n",
       "      <td>2</td>\n",
       "    </tr>\n",
       "    <tr>\n",
       "      <th>7e87eb1a28d67e7baa767b31742e7628</th>\n",
       "      <td>error: no suitable method found for format(long,String,boolean)</td>\n",
       "      <td>DEVELOPER_ERROR</td>\n",
       "      <td>2</td>\n",
       "    </tr>\n",
       "    <tr>\n",
       "      <th>ed45700600ee60d6e9f48d3f85a771c7</th>\n",
       "      <td>build.xml:1: Content is not allowed in prolog.</td>\n",
       "      <td>DEVELOPER_ERROR</td>\n",
       "      <td>2</td>\n",
       "    </tr>\n",
       "    <tr>\n",
       "      <th>42a615a7097fbe70021105f85292c0b2</th>\n",
       "      <td>error: ';' expected</td>\n",
       "      <td>DEVELOPER_ERROR</td>\n",
       "      <td>1</td>\n",
       "    </tr>\n",
       "    <tr>\n",
       "      <th>87296cd5515549bd75d66beac97c8875</th>\n",
       "      <td>error: reached end of file while parsing</td>\n",
       "      <td>DEVELOPER_ERROR</td>\n",
       "      <td>1</td>\n",
       "    </tr>\n",
       "    <tr>\n",
       "      <th>8981782c01b07c7a051e34808c3edd99</th>\n",
       "      <td>error: illegal unicode escape</td>\n",
       "      <td>DEVELOPER_ERROR</td>\n",
       "      <td>1</td>\n",
       "    </tr>\n",
       "    <tr>\n",
       "      <th>2e38940d63562835bb22eb0590ea14fb</th>\n",
       "      <td>unmappable character for encoding UTF8</td>\n",
       "      <td>DEVELOPER_ERROR</td>\n",
       "      <td>1</td>\n",
       "    </tr>\n",
       "    <tr>\n",
       "      <th>a895d834a1be13e5923f9d07b534b2bb</th>\n",
       "      <td>BuildAnalycer: No build system detected</td>\n",
       "      <td>NOT_DETECTED</td>\n",
       "      <td>1</td>\n",
       "    </tr>\n",
       "    <tr>\n",
       "      <th>1df8c9ee950128875736824d3e2122fc</th>\n",
       "      <td>error: incomparable types: int and &lt;null&gt;</td>\n",
       "      <td>DEVELOPER_ERROR</td>\n",
       "      <td>1</td>\n",
       "    </tr>\n",
       "    <tr>\n",
       "      <th>71b82c3b11a63507a5b91a8c1f7ffb53</th>\n",
       "      <td>error: package org.apache.commons.collections.comparators does not exist</td>\n",
       "      <td>DEVELOPER_ERROR</td>\n",
       "      <td>1</td>\n",
       "    </tr>\n",
       "  </tbody>\n",
       "</table>\n",
       "</div>"
      ],
      "text/plain": [
       "                                                                                                                trace  \\\n",
       "8c9a61e569504289e9c6b17d8d1bf829  error: unmappable character for encoding UTF8                                         \n",
       "1a8c2eecee81eb655b47e5bd09016a3c  error: as of release 5, 'enum' is a keyword, and may not be used as an identifier     \n",
       "d1b28270a5c1c424bb429361faedc15c  error: no suitable method found for append(char[])                                    \n",
       "66eb9f223332d42c2ae312408c746f11  error: cannot find symbol                                                             \n",
       "eda3012a0ad35cb8171a49c1b4cff3fb  error: cannot find symbol  class UnhandledException                                   \n",
       "55f75185b4ce632ff325a7ae0d87f097  error: cannot find symbol  class NullArgumentException                                \n",
       "4e5f7034fb1f14a046b5643cc360b10f  error: incompatible types: Constructor<?>[] cannot be converted to Constructor<T>[]   \n",
       "6d324ddea319521c900649c5f0ff179d  error: variable options might not have been initialized                               \n",
       "1ce85102744fbcc9e1b9ec80cba20671  error: cannot find symbol  class IDKey                                                \n",
       "722ff9d3d59f5046e9b3f74a2e6d1ddf  error: cannot find symbol  method appendIdentityToString(StringBuffer,Object)         \n",
       "7e87eb1a28d67e7baa767b31742e7628  error: no suitable method found for format(long,String,boolean)                       \n",
       "ed45700600ee60d6e9f48d3f85a771c7  build.xml:1: Content is not allowed in prolog.                                        \n",
       "42a615a7097fbe70021105f85292c0b2  error: ';' expected                                                                   \n",
       "87296cd5515549bd75d66beac97c8875  error: reached end of file while parsing                                              \n",
       "8981782c01b07c7a051e34808c3edd99  error: illegal unicode escape                                                         \n",
       "2e38940d63562835bb22eb0590ea14fb  unmappable character for encoding UTF8                                                \n",
       "a895d834a1be13e5923f9d07b534b2bb  BuildAnalycer: No build system detected                                               \n",
       "1df8c9ee950128875736824d3e2122fc  error: incomparable types: int and <null>                                             \n",
       "71b82c3b11a63507a5b91a8c1f7ffb53  error: package org.apache.commons.collections.comparators does not exist              \n",
       "\n",
       "                                             type  count  \n",
       "8c9a61e569504289e9c6b17d8d1bf829  CONTEXT_ERROR    474    \n",
       "1a8c2eecee81eb655b47e5bd09016a3c  CONTEXT_ERROR    162    \n",
       "d1b28270a5c1c424bb429361faedc15c  CONTEXT_ERROR    106    \n",
       "66eb9f223332d42c2ae312408c746f11  DEVELOPER_ERROR  9      \n",
       "eda3012a0ad35cb8171a49c1b4cff3fb  DEVELOPER_ERROR  6      \n",
       "55f75185b4ce632ff325a7ae0d87f097  DEVELOPER_ERROR  5      \n",
       "4e5f7034fb1f14a046b5643cc360b10f  DEVELOPER_ERROR  2      \n",
       "6d324ddea319521c900649c5f0ff179d  DEVELOPER_ERROR  2      \n",
       "1ce85102744fbcc9e1b9ec80cba20671  DEVELOPER_ERROR  2      \n",
       "722ff9d3d59f5046e9b3f74a2e6d1ddf  DEVELOPER_ERROR  2      \n",
       "7e87eb1a28d67e7baa767b31742e7628  DEVELOPER_ERROR  2      \n",
       "ed45700600ee60d6e9f48d3f85a771c7  DEVELOPER_ERROR  2      \n",
       "42a615a7097fbe70021105f85292c0b2  DEVELOPER_ERROR  1      \n",
       "87296cd5515549bd75d66beac97c8875  DEVELOPER_ERROR  1      \n",
       "8981782c01b07c7a051e34808c3edd99  DEVELOPER_ERROR  1      \n",
       "2e38940d63562835bb22eb0590ea14fb  DEVELOPER_ERROR  1      \n",
       "a895d834a1be13e5923f9d07b534b2bb  NOT_DETECTED     1      \n",
       "1df8c9ee950128875736824d3e2122fc  DEVELOPER_ERROR  1      \n",
       "71b82c3b11a63507a5b91a8c1f7ffb53  DEVELOPER_ERROR  1      "
      ]
     },
     "execution_count": 9,
     "metadata": {},
     "output_type": "execute_result"
    }
   ],
   "source": [
    "# Trazas de error agrupadas\n",
    "errors_df = pd.DataFrame.from_dict(errors, orient='index')\n",
    "errors_df = errors_df.sort_values(by=['count'], ascending=False)\n",
    "errors_df = errors_df[['trace','type', 'count']]\n",
    "errors_df.to_csv(\"%s/%s_errors.tsv\"%(pa.path, pa.project), sep='\\t', encoding='utf-8', index=False)\n",
    "print(\"Saved at %s_errors.tsv\"%pa.project)\n",
    "errors_df"
   ]
  },
  {
   "cell_type": "code",
   "execution_count": 10,
   "metadata": {
    "scrolled": false
   },
   "outputs": [],
   "source": [
    "#pa.view_log_by_hash(errors,\"35af87301d9e4dbc0856be7aec1a0926\", 0)"
   ]
  },
  {
   "cell_type": "code",
   "execution_count": 11,
   "metadata": {},
   "outputs": [
    {
     "data": {
      "text/html": [
       "<div>\n",
       "<style scoped>\n",
       "    .dataframe tbody tr th:only-of-type {\n",
       "        vertical-align: middle;\n",
       "    }\n",
       "\n",
       "    .dataframe tbody tr th {\n",
       "        vertical-align: top;\n",
       "    }\n",
       "\n",
       "    .dataframe thead th {\n",
       "        text-align: right;\n",
       "    }\n",
       "</style>\n",
       "<table border=\"1\" class=\"dataframe\">\n",
       "  <thead>\n",
       "    <tr style=\"text-align: right;\">\n",
       "      <th></th>\n",
       "      <th>count</th>\n",
       "    </tr>\n",
       "    <tr>\n",
       "      <th>type</th>\n",
       "      <th></th>\n",
       "    </tr>\n",
       "  </thead>\n",
       "  <tbody>\n",
       "    <tr>\n",
       "      <th>CONTEXT_ERROR</th>\n",
       "      <td>742</td>\n",
       "    </tr>\n",
       "    <tr>\n",
       "      <th>DEVELOPER_ERROR</th>\n",
       "      <td>38</td>\n",
       "    </tr>\n",
       "    <tr>\n",
       "      <th>NOT_DETECTED</th>\n",
       "      <td>1</td>\n",
       "    </tr>\n",
       "  </tbody>\n",
       "</table>\n",
       "</div>"
      ],
      "text/plain": [
       "                 count\n",
       "type                  \n",
       "CONTEXT_ERROR    742  \n",
       "DEVELOPER_ERROR  38   \n",
       "NOT_DETECTED     1    "
      ]
     },
     "execution_count": 11,
     "metadata": {},
     "output_type": "execute_result"
    }
   ],
   "source": [
    "errors_df.groupby(errors_df['type']).sum()"
   ]
  },
  {
   "cell_type": "code",
   "execution_count": 12,
   "metadata": {},
   "outputs": [
    {
     "name": "stdout",
     "output_type": "stream",
     "text": [
      "CONTEXT_ERRORS 95.006402\n",
      "DEVELOPER_ERRORS 4.865557\n",
      "NOT_DETECTED 0.128041\n"
     ]
    }
   ],
   "source": [
    "context_errors_count = errors_df[errors_df['type']==\"CONTEXT_ERROR\"]['count'].sum()\n",
    "dev_errors_count = errors_df[errors_df['type']==\"DEVELOPER_ERROR\"]['count'].sum()\n",
    "no_build_system_errors_count = errors_df[errors_df['type']==\"NOT_DETECTED\"]['count'].sum()\n",
    "total_errors_count = errors_df['count'].sum()\n",
    "\n",
    "print(\"CONTEXT_ERRORS %f\"%((context_errors_count/total_errors_count)*100))\n",
    "print(\"DEVELOPER_ERRORS %f\"%((dev_errors_count/total_errors_count)*100))\n",
    "print(\"NOT_DETECTED %f\"%((no_build_system_errors_count/total_errors_count)*100))"
   ]
  },
  {
   "cell_type": "code",
   "execution_count": 13,
   "metadata": {},
   "outputs": [
    {
     "data": {
      "text/html": [
       "<div>\n",
       "<style scoped>\n",
       "    .dataframe tbody tr th:only-of-type {\n",
       "        vertical-align: middle;\n",
       "    }\n",
       "\n",
       "    .dataframe tbody tr th {\n",
       "        vertical-align: top;\n",
       "    }\n",
       "\n",
       "    .dataframe thead th {\n",
       "        text-align: right;\n",
       "    }\n",
       "</style>\n",
       "<table border=\"1\" class=\"dataframe\">\n",
       "  <thead>\n",
       "    <tr style=\"text-align: right;\">\n",
       "      <th></th>\n",
       "      <th>Count</th>\n",
       "      <th>Error type</th>\n",
       "      <th>Traces</th>\n",
       "    </tr>\n",
       "  </thead>\n",
       "  <tbody>\n",
       "    <tr>\n",
       "      <th>0</th>\n",
       "      <td>1</td>\n",
       "      <td>NOT_DETECTED</td>\n",
       "      <td>[(a895d834a1be13e5923f9d07b534b2bb, 1)]</td>\n",
       "    </tr>\n",
       "    <tr>\n",
       "      <th>1</th>\n",
       "      <td>636</td>\n",
       "      <td>CONTEXT_ERROR</td>\n",
       "      <td>[(8c9a61e569504289e9c6b17d8d1bf829, 474), (1a8c2eecee81eb655b47e5bd09016a3c, 162)]</td>\n",
       "    </tr>\n",
       "    <tr>\n",
       "      <th>2</th>\n",
       "      <td>2</td>\n",
       "      <td>DEVELOPER_ERROR</td>\n",
       "      <td>[(7e87eb1a28d67e7baa767b31742e7628, 2)]</td>\n",
       "    </tr>\n",
       "    <tr>\n",
       "      <th>3</th>\n",
       "      <td>106</td>\n",
       "      <td>CONTEXT_ERROR</td>\n",
       "      <td>[(d1b28270a5c1c424bb429361faedc15c, 106)]</td>\n",
       "    </tr>\n",
       "    <tr>\n",
       "      <th>4</th>\n",
       "      <td>1</td>\n",
       "      <td>DEVELOPER_ERROR</td>\n",
       "      <td>[(8981782c01b07c7a051e34808c3edd99, 1)]</td>\n",
       "    </tr>\n",
       "    <tr>\n",
       "      <th>5</th>\n",
       "      <td>2</td>\n",
       "      <td>DEVELOPER_ERROR</td>\n",
       "      <td>[(ed45700600ee60d6e9f48d3f85a771c7, 2)]</td>\n",
       "    </tr>\n",
       "    <tr>\n",
       "      <th>6</th>\n",
       "      <td>1</td>\n",
       "      <td>DEVELOPER_ERROR</td>\n",
       "      <td>[(42a615a7097fbe70021105f85292c0b2, 1)]</td>\n",
       "    </tr>\n",
       "    <tr>\n",
       "      <th>7</th>\n",
       "      <td>1</td>\n",
       "      <td>DEVELOPER_ERROR</td>\n",
       "      <td>[(2e38940d63562835bb22eb0590ea14fb, 1)]</td>\n",
       "    </tr>\n",
       "    <tr>\n",
       "      <th>8</th>\n",
       "      <td>2</td>\n",
       "      <td>DEVELOPER_ERROR</td>\n",
       "      <td>[(1ce85102744fbcc9e1b9ec80cba20671, 2)]</td>\n",
       "    </tr>\n",
       "    <tr>\n",
       "      <th>9</th>\n",
       "      <td>2</td>\n",
       "      <td>DEVELOPER_ERROR</td>\n",
       "      <td>[(722ff9d3d59f5046e9b3f74a2e6d1ddf, 2)]</td>\n",
       "    </tr>\n",
       "    <tr>\n",
       "      <th>10</th>\n",
       "      <td>1</td>\n",
       "      <td>DEVELOPER_ERROR</td>\n",
       "      <td>[(66eb9f223332d42c2ae312408c746f11, 1)]</td>\n",
       "    </tr>\n",
       "    <tr>\n",
       "      <th>11</th>\n",
       "      <td>11</td>\n",
       "      <td>DEVELOPER_ERROR</td>\n",
       "      <td>[(eda3012a0ad35cb8171a49c1b4cff3fb, 6), (55f75185b4ce632ff325a7ae0d87f097, 5)]</td>\n",
       "    </tr>\n",
       "    <tr>\n",
       "      <th>12</th>\n",
       "      <td>1</td>\n",
       "      <td>DEVELOPER_ERROR</td>\n",
       "      <td>[(6d324ddea319521c900649c5f0ff179d, 1)]</td>\n",
       "    </tr>\n",
       "    <tr>\n",
       "      <th>13</th>\n",
       "      <td>2</td>\n",
       "      <td>DEVELOPER_ERROR</td>\n",
       "      <td>[(4e5f7034fb1f14a046b5643cc360b10f, 2)]</td>\n",
       "    </tr>\n",
       "    <tr>\n",
       "      <th>14</th>\n",
       "      <td>1</td>\n",
       "      <td>DEVELOPER_ERROR</td>\n",
       "      <td>[(66eb9f223332d42c2ae312408c746f11, 1)]</td>\n",
       "    </tr>\n",
       "    <tr>\n",
       "      <th>15</th>\n",
       "      <td>1</td>\n",
       "      <td>DEVELOPER_ERROR</td>\n",
       "      <td>[(6d324ddea319521c900649c5f0ff179d, 1)]</td>\n",
       "    </tr>\n",
       "    <tr>\n",
       "      <th>16</th>\n",
       "      <td>1</td>\n",
       "      <td>DEVELOPER_ERROR</td>\n",
       "      <td>[(87296cd5515549bd75d66beac97c8875, 1)]</td>\n",
       "    </tr>\n",
       "    <tr>\n",
       "      <th>17</th>\n",
       "      <td>1</td>\n",
       "      <td>DEVELOPER_ERROR</td>\n",
       "      <td>[(1df8c9ee950128875736824d3e2122fc, 1)]</td>\n",
       "    </tr>\n",
       "    <tr>\n",
       "      <th>18</th>\n",
       "      <td>7</td>\n",
       "      <td>DEVELOPER_ERROR</td>\n",
       "      <td>[(66eb9f223332d42c2ae312408c746f11, 6), (71b82c3b11a63507a5b91a8c1f7ffb53, 1)]</td>\n",
       "    </tr>\n",
       "    <tr>\n",
       "      <th>19</th>\n",
       "      <td>1</td>\n",
       "      <td>DEVELOPER_ERROR</td>\n",
       "      <td>[(66eb9f223332d42c2ae312408c746f11, 1)]</td>\n",
       "    </tr>\n",
       "  </tbody>\n",
       "</table>\n",
       "</div>"
      ],
      "text/plain": [
       "    Count       Error type  \\\n",
       "0   1      NOT_DETECTED      \n",
       "1   636    CONTEXT_ERROR     \n",
       "2   2      DEVELOPER_ERROR   \n",
       "3   106    CONTEXT_ERROR     \n",
       "4   1      DEVELOPER_ERROR   \n",
       "5   2      DEVELOPER_ERROR   \n",
       "6   1      DEVELOPER_ERROR   \n",
       "7   1      DEVELOPER_ERROR   \n",
       "8   2      DEVELOPER_ERROR   \n",
       "9   2      DEVELOPER_ERROR   \n",
       "10  1      DEVELOPER_ERROR   \n",
       "11  11     DEVELOPER_ERROR   \n",
       "12  1      DEVELOPER_ERROR   \n",
       "13  2      DEVELOPER_ERROR   \n",
       "14  1      DEVELOPER_ERROR   \n",
       "15  1      DEVELOPER_ERROR   \n",
       "16  1      DEVELOPER_ERROR   \n",
       "17  1      DEVELOPER_ERROR   \n",
       "18  7      DEVELOPER_ERROR   \n",
       "19  1      DEVELOPER_ERROR   \n",
       "\n",
       "                                                                                Traces  \n",
       "0   [(a895d834a1be13e5923f9d07b534b2bb, 1)]                                             \n",
       "1   [(8c9a61e569504289e9c6b17d8d1bf829, 474), (1a8c2eecee81eb655b47e5bd09016a3c, 162)]  \n",
       "2   [(7e87eb1a28d67e7baa767b31742e7628, 2)]                                             \n",
       "3   [(d1b28270a5c1c424bb429361faedc15c, 106)]                                           \n",
       "4   [(8981782c01b07c7a051e34808c3edd99, 1)]                                             \n",
       "5   [(ed45700600ee60d6e9f48d3f85a771c7, 2)]                                             \n",
       "6   [(42a615a7097fbe70021105f85292c0b2, 1)]                                             \n",
       "7   [(2e38940d63562835bb22eb0590ea14fb, 1)]                                             \n",
       "8   [(1ce85102744fbcc9e1b9ec80cba20671, 2)]                                             \n",
       "9   [(722ff9d3d59f5046e9b3f74a2e6d1ddf, 2)]                                             \n",
       "10  [(66eb9f223332d42c2ae312408c746f11, 1)]                                             \n",
       "11  [(eda3012a0ad35cb8171a49c1b4cff3fb, 6), (55f75185b4ce632ff325a7ae0d87f097, 5)]      \n",
       "12  [(6d324ddea319521c900649c5f0ff179d, 1)]                                             \n",
       "13  [(4e5f7034fb1f14a046b5643cc360b10f, 2)]                                             \n",
       "14  [(66eb9f223332d42c2ae312408c746f11, 1)]                                             \n",
       "15  [(6d324ddea319521c900649c5f0ff179d, 1)]                                             \n",
       "16  [(87296cd5515549bd75d66beac97c8875, 1)]                                             \n",
       "17  [(1df8c9ee950128875736824d3e2122fc, 1)]                                             \n",
       "18  [(66eb9f223332d42c2ae312408c746f11, 6), (71b82c3b11a63507a5b91a8c1f7ffb53, 1)]      \n",
       "19  [(66eb9f223332d42c2ae312408c746f11, 1)]                                             "
      ]
     },
     "execution_count": 13,
     "metadata": {},
     "output_type": "execute_result"
    }
   ],
   "source": [
    "# Errors by group (group = consecutive failed commits between two SUCCESS commits)\n",
    "# -> Traces: Identifier-Hash of the different traces of error found in the same group\n",
    "stripes = []\n",
    "for idx, g in enumerate(groups_of_fails):\n",
    "    error_types = []\n",
    "    error_traces = []\n",
    "    current_sub_group = (\"\",0)\n",
    "    for commit in g:\n",
    "        if commit['type'] not in error_types:\n",
    "            error_types.append(commit['type'])\n",
    "        \n",
    "        if current_sub_group[0] == commit['hash']:\n",
    "            current_sub_group = (current_sub_group[0], current_sub_group[1] + 1)\n",
    "        else:\n",
    "            if current_sub_group[0] != \"\": # FIRST\n",
    "                error_traces.append(current_sub_group)\n",
    "            current_sub_group = (commit['hash'],1)\n",
    "    # ADD LAST GROUP\n",
    "    error_traces.append(current_sub_group)\n",
    "    seperator = ', '\n",
    "    error_types = seperator.join(error_types)\n",
    "    stripes.append([len(g), error_types, error_traces])\n",
    "df = pd.DataFrame(stripes, columns=['Count', 'Error type', 'Traces'])\n",
    "df"
   ]
  },
  {
   "cell_type": "code",
   "execution_count": 14,
   "metadata": {},
   "outputs": [
    {
     "name": "stdout",
     "output_type": "stream",
     "text": [
      "MEAN:  2.0\n",
      "MAX:  6\n",
      "MIN:  1\n"
     ]
    }
   ],
   "source": [
    "# RQ3: MEAN, MAX AND AVERAGE - INTERNAL ERRORS \n",
    "def getDuration(hash_key):\n",
    "    return len(errors[hash_key]['commits'])\n",
    "def mean(arr):\n",
    "    return sum(arr) / len(arr) \n",
    "\n",
    "durantions=[]\n",
    "for stripes in df.values.tolist():\n",
    "    errors_in_same_stripe = stripes[2]   \n",
    "    for error_hash in errors_in_same_stripe:\n",
    "        if errors_df.to_dict()['type'][error_hash[0]] == \"DEVELOPER_ERROR\":\n",
    "            durantions.append(error_hash[1])\n",
    "\n",
    "print(\"MEAN: \",mean(durantions))\n",
    "print(\"MAX: \",max(durantions))\n",
    "print(\"MIN: \",min(durantions))\n",
    "\n"
   ]
  },
  {
   "cell_type": "code",
   "execution_count": 15,
   "metadata": {},
   "outputs": [
    {
     "name": "stdout",
     "output_type": "stream",
     "text": [
      "MEAN:  247.33333333333334\n",
      "MAX:  474\n",
      "MIN:  106\n"
     ]
    }
   ],
   "source": [
    "# RQ4: MEAN, MAX AND AVERAGE - CONTEXT ERRORS \n",
    "durantions=[]\n",
    "for stripes in df.values.tolist():\n",
    "    errors_in_same_stripe = stripes[2]   \n",
    "    for error_hash in errors_in_same_stripe:\n",
    "        if errors_df.to_dict()['type'][error_hash[0]] ==\"CONTEXT_ERROR\":\n",
    "            durantions.append(error_hash[1])\n",
    "\n",
    "print(\"MEAN: \",mean(durantions))\n",
    "print(\"MAX: \",max(durantions))\n",
    "print(\"MIN: \",min(durantions))"
   ]
  },
  {
   "cell_type": "code",
   "execution_count": 16,
   "metadata": {
    "scrolled": true
   },
   "outputs": [
    {
     "data": {
      "image/png": "[encoded data removed]",
      "text/plain": [
       "<Figure size 1152x144 with 1 Axes>"
      ]
     },
     "metadata": {},
     "output_type": "display_data"
    }
   ],
   "source": [
    "# Number of commits by years, segmented by type of failure\n",
    "def getType(commit):\n",
    "    if 'type' in pa.csvDict[commit]:\n",
    "        return pa.csvDict[commit]['type']\n",
    "    else:\n",
    "        return 'SUCCESS'\n",
    "\n",
    "import seaborn as sns\n",
    "plt.rcParams[\"figure.figsize\"] =[10.0, 2.0]\n",
    "sns.set()\n",
    "sns.set_palette([\n",
    "    '#f2711c', \n",
    "    '#a82e2e', \n",
    "    '#909090', \n",
    "    '#4b8869'\n",
    "])\n",
    "commits = pa.data.copy()\n",
    "commits['type'] = commits.apply(lambda x: getType(x['commit']), axis=1)\n",
    "# commits.groupby(commits['date'].dt.year).type.value_counts().unstack('type')\n",
    "# commits.plot(kind='line', stacked=True)\n",
    "# plt.show()\n",
    "\n",
    "df = commits.groupby(commits['date'].dt.year).type.value_counts()\n",
    "df = df.groupby(level=0).apply(lambda x: x / float(x.sum()))\n",
    "df = df.unstack('type').fillna(0)\n",
    "df = df['DEVELOPER_ERROR']\n",
    "ax = df.plot(figsize=(16, 2), color=\"#a82e2e\")\n",
    "ax.set_yticklabels(['{:,.2%}'.format(x) for x in ax.get_yticks()])\n",
    "plt.title(\"%s project - %% of dev errors per year\"%pa.project, fontsize=14)\n",
    "df.to_csv(\"%s/%s_dev_errors.tsv\"%(pa.path, pa.project), sep='\\t', encoding='utf-8')\n",
    "plt.savefig(\"%s/%s_dev_errors.png\"%(pa.path, pa.project),bbox_inches='tight')\n",
    "plt.show()"
   ]
  },
  {
   "cell_type": "code",
   "execution_count": 17,
   "metadata": {},
   "outputs": [
    {
     "data": {
      "image/png": "[encoded data removed]",
      "text/plain": [
       "<Figure size 1152x144 with 1 Axes>"
      ]
     },
     "metadata": {},
     "output_type": "display_data"
    },
    {
     "data": {
      "text/plain": [
       "date\n",
       "2002    0.907749\n",
       "2003    0.755814\n",
       "2004    0.000000\n",
       "2005    0.341912\n",
       "2006    0.056522\n",
       "2007    0.000000\n",
       "2008    0.000000\n",
       "2009    0.000000\n",
       "2010    0.000000\n",
       "2011    0.000000\n",
       "2012    0.000000\n",
       "2013    0.000000\n",
       "Name: CONTEXT_ERROR, dtype: float64"
      ]
     },
     "execution_count": 17,
     "metadata": {},
     "output_type": "execute_result"
    }
   ],
   "source": [
    "df = commits.groupby(commits['date'].dt.year).type.value_counts()\n",
    "df = df.groupby(level=0).apply(lambda x: x / float(x.sum()))\n",
    "df = df.unstack('type').fillna(0)\n",
    "df = df['CONTEXT_ERROR']\n",
    "ax = df.plot(figsize=(16, 2), color=\"#f2711c\")\n",
    "ax.set_yticklabels(['{:,.2%}'.format(x) for x in ax.get_yticks()])\n",
    "plt.title(\"%s project - %% of context errors per year\"%pa.project, fontsize=14)\n",
    "df.to_csv(\"%s/%s_context_errors.tsv\"%(pa.path, pa.project), sep='\\t', encoding='utf-8')\n",
    "plt.savefig(\"%s/%s_context_errors.png\"%(pa.path, pa.project),bbox_inches='tight')\n",
    "plt.show()\n",
    "df"
   ]
  },
  {
   "cell_type": "code",
   "execution_count": 18,
   "metadata": {},
   "outputs": [
    {
     "data": {
      "image/png": "[encoded data removed]",
      "text/plain": [
       "<Figure size 720x144 with 1 Axes>"
      ]
     },
     "metadata": {},
     "output_type": "display_data"
    }
   ],
   "source": [
    "# Nº de commits erroneos por años (CONTEXT_ERROR + DEVELOPER_ERROR + NOT_DETECTED)\n",
    "f_commits = commits[(commits['build'] == 'FAIL')].copy()\n",
    "f_commits.groupby(f_commits['date'].dt.year).type.count().plot()\n",
    "plt.show()"
   ]
  },
  {
   "cell_type": "code",
   "execution_count": 19,
   "metadata": {},
   "outputs": [],
   "source": [
    "import os\n",
    "build_files = [f for f in os.listdir(pa.path+\"/build_files/\") if re.match(r'.*\\.json', f)]\n",
    "def atoi(text):\n",
    "    return int(text) if text.isdigit() else text\n",
    "def natural_keys(text):\n",
    "    return [ atoi(c) for c in re.split(r'(\\d+)-.*', text) ]\n",
    "build_files.sort(key=natural_keys)"
   ]
  },
  {
   "cell_type": "code",
   "execution_count": 20,
   "metadata": {},
   "outputs": [
    {
     "data": {
      "image/png": "[encoded data removed]",
      "text/plain": [
       "<Figure size 1152x144 with 1 Axes>"
      ]
     },
     "metadata": {},
     "output_type": "display_data"
    }
   ],
   "source": [
    "import json\n",
    "sns.set_palette([\n",
    "    '#d60db1', # MORADO - ANT\n",
    "    '#1BA8CB', # AZUL - GRADLE/MAVEN\n",
    "    '#909090'\n",
    "])\n",
    "def getBuildSystem(id_, commit):\n",
    "    with open(pa.path+\"/build_files/%d-%s-build.json\"%(id_, commit)) as f: \n",
    "        build_file = json.load(f)\n",
    "    return build_file['build_system']\n",
    "commits['build_system'] = commits.apply(lambda x: getBuildSystem(x['id'],x['commit']), axis=1)\n",
    "(commits.groupby(commits['date'].dt.year).build_system.value_counts().unstack('build_system')\n",
    ".plot(kind='area', stacked=True, figsize=(16, 2), linewidth=0))\n",
    "lgd=plt.legend(bbox_to_anchor=(1, 1), loc=2, borderaxespad=0., prop={'size': 12})\n",
    "plt.savefig(\"%s/%s_build_systems-1.png\"%(pa.path, pa.project),bbox_extra_artists=(lgd,), bbox_inches='tight')\n",
    "plt.show()"
   ]
  },
  {
   "cell_type": "code",
   "execution_count": 21,
   "metadata": {},
   "outputs": [
    {
     "data": {
      "image/png": "[encoded data removed]",
      "text/plain": [
       "<Figure size 720x144 with 1 Axes>"
      ]
     },
     "metadata": {},
     "output_type": "display_data"
    },
    {
     "data": {
      "text/html": [
       "<div>\n",
       "<style scoped>\n",
       "    .dataframe tbody tr th:only-of-type {\n",
       "        vertical-align: middle;\n",
       "    }\n",
       "\n",
       "    .dataframe tbody tr th {\n",
       "        vertical-align: top;\n",
       "    }\n",
       "\n",
       "    .dataframe thead th {\n",
       "        text-align: right;\n",
       "    }\n",
       "</style>\n",
       "<table border=\"1\" class=\"dataframe\">\n",
       "  <thead>\n",
       "    <tr style=\"text-align: right;\">\n",
       "      <th>build_system</th>\n",
       "      <th>Ant</th>\n",
       "      <th>Maven</th>\n",
       "      <th>NOT_FOUND</th>\n",
       "    </tr>\n",
       "    <tr>\n",
       "      <th>date</th>\n",
       "      <th></th>\n",
       "      <th></th>\n",
       "      <th></th>\n",
       "    </tr>\n",
       "  </thead>\n",
       "  <tbody>\n",
       "    <tr>\n",
       "      <th>2002</th>\n",
       "      <td>0.996310</td>\n",
       "      <td>0.000000</td>\n",
       "      <td>0.00369</td>\n",
       "    </tr>\n",
       "    <tr>\n",
       "      <th>2003</th>\n",
       "      <td>1.000000</td>\n",
       "      <td>0.000000</td>\n",
       "      <td>0.00000</td>\n",
       "    </tr>\n",
       "    <tr>\n",
       "      <th>2004</th>\n",
       "      <td>1.000000</td>\n",
       "      <td>0.000000</td>\n",
       "      <td>0.00000</td>\n",
       "    </tr>\n",
       "    <tr>\n",
       "      <th>2005</th>\n",
       "      <td>1.000000</td>\n",
       "      <td>0.000000</td>\n",
       "      <td>0.00000</td>\n",
       "    </tr>\n",
       "    <tr>\n",
       "      <th>2006</th>\n",
       "      <td>1.000000</td>\n",
       "      <td>0.000000</td>\n",
       "      <td>0.00000</td>\n",
       "    </tr>\n",
       "    <tr>\n",
       "      <th>2007</th>\n",
       "      <td>0.396825</td>\n",
       "      <td>0.603175</td>\n",
       "      <td>0.00000</td>\n",
       "    </tr>\n",
       "    <tr>\n",
       "      <th>2008</th>\n",
       "      <td>0.006897</td>\n",
       "      <td>0.993103</td>\n",
       "      <td>0.00000</td>\n",
       "    </tr>\n",
       "    <tr>\n",
       "      <th>2009</th>\n",
       "      <td>0.002532</td>\n",
       "      <td>0.997468</td>\n",
       "      <td>0.00000</td>\n",
       "    </tr>\n",
       "    <tr>\n",
       "      <th>2010</th>\n",
       "      <td>0.000000</td>\n",
       "      <td>1.000000</td>\n",
       "      <td>0.00000</td>\n",
       "    </tr>\n",
       "    <tr>\n",
       "      <th>2011</th>\n",
       "      <td>0.001543</td>\n",
       "      <td>0.998457</td>\n",
       "      <td>0.00000</td>\n",
       "    </tr>\n",
       "    <tr>\n",
       "      <th>2012</th>\n",
       "      <td>0.014493</td>\n",
       "      <td>0.985507</td>\n",
       "      <td>0.00000</td>\n",
       "    </tr>\n",
       "    <tr>\n",
       "      <th>2013</th>\n",
       "      <td>0.010309</td>\n",
       "      <td>0.989691</td>\n",
       "      <td>0.00000</td>\n",
       "    </tr>\n",
       "  </tbody>\n",
       "</table>\n",
       "</div>"
      ],
      "text/plain": [
       "build_system       Ant     Maven  NOT_FOUND\n",
       "date                                       \n",
       "2002          0.996310  0.000000  0.00369  \n",
       "2003          1.000000  0.000000  0.00000  \n",
       "2004          1.000000  0.000000  0.00000  \n",
       "2005          1.000000  0.000000  0.00000  \n",
       "2006          1.000000  0.000000  0.00000  \n",
       "2007          0.396825  0.603175  0.00000  \n",
       "2008          0.006897  0.993103  0.00000  \n",
       "2009          0.002532  0.997468  0.00000  \n",
       "2010          0.000000  1.000000  0.00000  \n",
       "2011          0.001543  0.998457  0.00000  \n",
       "2012          0.014493  0.985507  0.00000  \n",
       "2013          0.010309  0.989691  0.00000  "
      ]
     },
     "execution_count": 21,
     "metadata": {},
     "output_type": "execute_result"
    }
   ],
   "source": [
    "data = commits.groupby(commits['date'].dt.year).build_system.value_counts().unstack('build_system')\n",
    "data = data.fillna(0)\n",
    "data_perc = data.divide(data.sum(axis=1), axis=0)\n",
    "\n",
    "ax=data_perc.plot(kind='area', stacked=True, linewidth=0)\n",
    "plt.ylim((0,1))\n",
    "lgd=plt.legend(bbox_to_anchor=(1, 1), loc=2, borderaxespad=0., prop={'size': 12})\n",
    "plt.title(\"%s project - Build system per year\"%pa.project, fontsize=14)\n",
    "plt.savefig(\"%s/%s_build_systems-2.png\"%(pa.path, pa.project),bbox_extra_artists=(lgd,), bbox_inches='tight')\n",
    "ax.set_yticklabels(['{:,.2%}'.format(x) for x in ax.get_yticks()])\n",
    "plt.show()\n",
    "data_perc "
   ]
  },
  {
   "cell_type": "code",
   "execution_count": 22,
   "metadata": {},
   "outputs": [],
   "source": [
    "def plot_and_save_histogram_advance(pa,jump):\n",
    "    total_commits = len(pa.df())+jump\n",
    "    limit = len(pa.df())\n",
    "\n",
    "    data = pa.df()\n",
    "\n",
    "    dev_list=[]\n",
    "    context_list=[]\n",
    "    grey_list=[]\n",
    "    success_list=[]\n",
    "    for _,row in data.iterrows():\n",
    "        if row['build'] == \"SUCCESS\":\n",
    "            success_list.append(len(data)-int(row['id'])-1)\n",
    "        else:\n",
    "            if pa.csvDict[row['commit']]['type'] == \"DEVELOPER_ERROR\":\n",
    "                dev_list.append(len(data)-int(row['id'])-1)\n",
    "            if pa.csvDict[row['commit']]['type'] == \"CONTEXT_ERROR\" or pa.csvDict[row['commit']]['type'] == \"NOT_DETECTED\":\n",
    "                context_list.append(len(data)-int(row['id'])-1)\n",
    "\n",
    "    bins = np.arange(0,total_commits,jump)\n",
    "\n",
    "    fig, ax = plt.subplots(figsize=(8, 2))\n",
    "    _, bins, patches = plt.hist([   np.clip(success_list, bins[0], bins[-1]),\n",
    "                                    np.clip(dev_list, bins[0], bins[-1]),\n",
    "                                    np.clip(context_list, bins[0], bins[-1])\n",
    "                                ],\n",
    "                                    #normed=1,  # normed is deprecated; replace with density\n",
    "                                    stacked=True,\n",
    "                                    #density=True,\n",
    "                                    bins=bins,  \n",
    "                                    #color=['#FFFFFF', '#000000', '#b5b5b5'],\n",
    "                                    color=['#4b8869', '#a82e2e', '#f2711c'], \n",
    "                                    label=['SUCCESS', 'INTERNAL ERROR', 'EXTERNAL ERROR'],\n",
    "                                    edgecolor='#4b8869',linewidth=1\n",
    "                                )\n",
    "\n",
    "    plt.xticks(rotation=45)\n",
    "\n",
    "    plt.yticks([])\n",
    "    \n",
    "    ax.spines['right'].set_visible(True)\n",
    "    ax.spines['top'].set_visible(True)\n",
    "    \n",
    "    plt.setp(patches, linewidth=0)\n",
    "    \n",
    "    \n",
    "    plt.xlim([0, limit])\n",
    "    plt.ylim([0, jump])\n",
    "    #plt.tick_params(axis='both', labelsize=12)\n",
    "    fig.tight_layout()\n",
    "    \n",
    "    #ax.set_xlabel(\"Commits from beginning of project to last commit\")\n",
    "    plt.legend(loc='upper center', bbox_to_anchor=(0.5, 1.6),fancybox=True, shadow=True, ncol=4, prop={'size': 12})\n",
    "    plt.title(\"%s commit status history\"%pa.project, fontsize=14)\n",
    "    \n",
    "    plt.savefig(pa.path+('%sHist-Advance.pdf'%pa.project), bbox_inches = \"tight\")\n",
    "\n",
    "    plt.show()"
   ]
  },
  {
   "cell_type": "code",
   "execution_count": 23,
   "metadata": {},
   "outputs": [
    {
     "data": {
      "image/png": "[encoded data removed]",
      "text/plain": [
       "<Figure size 576x144 with 1 Axes>"
      ]
     },
     "metadata": {},
     "output_type": "display_data"
    }
   ],
   "source": [
    "plot_and_save_histogram_advance(pa,1)"
   ]
  }
 ],
 "metadata": {
  "kernelspec": {
   "display_name": "Python 3",
   "language": "python",
   "name": "python3"
  },
  "language_info": {
   "codemirror_mode": {
    "name": "ipython",
    "version": 3
   },
   "file_extension": ".py",
   "mimetype": "text/x-python",
   "name": "python",
   "nbconvert_exporter": "python",
   "pygments_lexer": "ipython3",
   "version": "3.7.2"
  }
 },
 "nbformat": 4,
 "nbformat_minor": 2
}
